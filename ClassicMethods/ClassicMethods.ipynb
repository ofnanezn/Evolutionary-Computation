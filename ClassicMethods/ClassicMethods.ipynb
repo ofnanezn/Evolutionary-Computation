{
 "cells": [
  {
   "cell_type": "code",
   "execution_count": 5,
   "metadata": {},
   "outputs": [],
   "source": [
    "import numpy as np\n",
    "import matplotlib.pyplot as plt\n",
    "from mpl_toolkits import mplot3d\n",
    "import tensorflow as tf\n",
    "import pickle\n",
    "%matplotlib inline"
   ]
  },
  {
   "cell_type": "markdown",
   "metadata": {},
   "source": [
    "# Methods"
   ]
  },
  {
   "cell_type": "markdown",
   "metadata": {},
   "source": [
    "## Newton-Raphson"
   ]
  },
  {
   "cell_type": "code",
   "execution_count": 6,
   "metadata": {},
   "outputs": [],
   "source": [
    "def cons(x):\n",
    "    return tf.constant(x, dtype=tf.float32)"
   ]
  },
  {
   "cell_type": "code",
   "execution_count": 7,
   "metadata": {},
   "outputs": [],
   "source": [
    "def compute_hessian(fn, vars):\n",
    "    mat = []\n",
    "    for v1 in vars:\n",
    "        temp = []\n",
    "        for v2 in vars:\n",
    "            temp.append(tf.gradients(tf.gradients(fn, v2)[0], v1)[0])\n",
    "        temp = [cons(0) if t == None else t for t in temp]\n",
    "        temp = tf.stack(temp)\n",
    "        mat.append(temp)\n",
    "    mat = tf.stack(mat)\n",
    "    return mat"
   ]
  },
  {
   "cell_type": "code",
   "execution_count": 8,
   "metadata": {},
   "outputs": [],
   "source": [
    "def compute_grads(fn, vars):\n",
    "    grads = []\n",
    "    for v in vars:\n",
    "        grads.append(tf.gradients(fn, v)[0])\n",
    "    return tf.reshape(tf.stack(grads), shape=[len(vars), -1])"
   ]
  },
  {
   "cell_type": "code",
   "execution_count": 9,
   "metadata": {},
   "outputs": [],
   "source": [
    "def optimize(all_variables, update):\n",
    "    optmize_variables = []\n",
    "    for i in range(len(all_variables)):\n",
    "        optmize_variables.append(all_variables[i].assign(all_variables[i] - tf.squeeze(update[i])))\n",
    "    return tf.stack(optmize_variables)"
   ]
  },
  {
   "cell_type": "code",
   "execution_count": 10,
   "metadata": {},
   "outputs": [],
   "source": [
    "def NewtonRaphson(x, f, num_iterations):\n",
    "    hessian = compute_hessian(f, x)\n",
    "    hessian_inv = tf.matrix_inverse(hessian)\n",
    "    g = compute_grads(f, x)\n",
    "    update = tf.unstack(tf.matmul(hessian_inv, g))\n",
    "    optimize_op = optimize(x, update)\n",
    "\n",
    "    sess = tf.Session()\n",
    "    sess.run(tf.initialize_all_variables())\n",
    "\n",
    "    func = np.inf\n",
    "    history_loss = []\n",
    "    for i in range(num_iterations):\n",
    "        prev = func\n",
    "        v, func = sess.run([x, f])\n",
    "        history_loss.append(func)\n",
    "        #print( v, func )\n",
    "        sess.run(optimize_op)\n",
    "    sess.close()\n",
    "    return v, history_loss"
   ]
  },
  {
   "cell_type": "markdown",
   "metadata": {},
   "source": [
    "### Test"
   ]
  },
  {
   "cell_type": "code",
   "execution_count": 11,
   "metadata": {},
   "outputs": [
    {
     "name": "stdout",
     "output_type": "stream",
     "text": [
      "[<tf.Variable 'Variable:0' shape=() dtype=float32_ref>, <tf.Variable 'Variable_1:0' shape=() dtype=float32_ref>]\n",
      "WARNING:tensorflow:From /home/woom05/Documents/deeplearning-venv/lib/python3.6/site-packages/tensorflow/python/util/tf_should_use.py:118: initialize_all_variables (from tensorflow.python.ops.variables) is deprecated and will be removed after 2017-03-02.\n",
      "Instructions for updating:\n",
      "Use `tf.global_variables_initializer` instead.\n",
      "([0.012586759, 0.02300002], [array([5.05482 , 5.611221], dtype=float32), array([5.0108285, 5.120735 ], dtype=float32), array([5.002139, 5.023849], dtype=float32), array([5.0004225, 5.0047107], dtype=float32), array([5.0000834, 5.0009303], dtype=float32), array([5.0000167, 5.0001836], dtype=float32), array([5.0000033, 5.0000362], dtype=float32), array([5.0000005, 5.000007 ], dtype=float32), array([5.       , 5.0000014], dtype=float32), array([5.       , 5.0000005], dtype=float32)])\n"
     ]
    }
   ],
   "source": [
    "x = []\n",
    "for i in range( 2 ):\n",
    "    x.append(tf.Variable(np.random.random() * 10.24 - 5.12))\n",
    "print(x)\n",
    "\n",
    "f = tf.pow(x, 4) + 5\n",
    "\n",
    "print(NewtonRaphson(x,f,10))"
   ]
  },
  {
   "cell_type": "code",
   "execution_count": 12,
   "metadata": {},
   "outputs": [],
   "source": [
    "tf.reset_default_graph()"
   ]
  },
  {
   "cell_type": "markdown",
   "metadata": {},
   "source": [
    "## Gradient Descent"
   ]
  },
  {
   "cell_type": "code",
   "execution_count": 13,
   "metadata": {},
   "outputs": [],
   "source": [
    "def GradientDescent(X, f, num_iterations=100, lr=0.1):\n",
    "    sess = tf.Session()\n",
    "    optimizer = tf.train.GradientDescentOptimizer(learning_rate=lr).minimize(f)\n",
    "    sess.run(tf.initialize_all_variables())\n",
    "    X_opt = None\n",
    "    history_loss = []\n",
    "    for i in range(num_iterations):\n",
    "        X_opt, _, cost = sess.run([X, optimizer, f])\n",
    "        history_loss.append(cost)\n",
    "    sess.close()\n",
    "    return X_opt, history_loss"
   ]
  },
  {
   "cell_type": "markdown",
   "metadata": {},
   "source": [
    "### Test"
   ]
  },
  {
   "cell_type": "code",
   "execution_count": 14,
   "metadata": {},
   "outputs": [
    {
     "name": "stdout",
     "output_type": "stream",
     "text": [
      "(array([-0.11751653, -0.1498976 ]), [array([6.19783837, 6.94890047]), array([5.76661655, 6.24729629]), array([5.49063459, 5.79826962]), array([5.31400613, 5.51089255]), array([5.20096392, 5.32697123]), array([5.12861691, 5.20926159]), array([5.08231482, 5.13392741]), array([5.05268149, 5.08571354]), array([5.03371615, 5.05485667]), array([5.02157834, 5.03510827])])\n"
     ]
    }
   ],
   "source": [
    "x = tf.get_variable(\"x\", initializer=np.random.random(2) * 10.24 - 5.12)\n",
    "\n",
    "f2 = tf.pow(x, 2) + 5\n",
    "\n",
    "print(GradientDescent(x, f2, 10, 0.1))"
   ]
  },
  {
   "cell_type": "code",
   "execution_count": 15,
   "metadata": {},
   "outputs": [],
   "source": [
    "tf.reset_default_graph()"
   ]
  },
  {
   "cell_type": "markdown",
   "metadata": {},
   "source": [
    "## Gradient Descent With Momentum"
   ]
  },
  {
   "cell_type": "code",
   "execution_count": 16,
   "metadata": {},
   "outputs": [],
   "source": [
    "def GradientDescentWithMomentum(X, f, num_iterations=100, lr=0.1, betha=0.4):\n",
    "    sess = tf.Session()\n",
    "    optimizer = tf.train.MomentumOptimizer(learning_rate=lr, momentum=betha).minimize(f)\n",
    "    sess.run(tf.initialize_all_variables())\n",
    "    X_opt = None\n",
    "    history_loss = []\n",
    "    for i in range(num_iterations):\n",
    "        X_opt, _, cost = sess.run([X, optimizer, f])\n",
    "        history_loss.append(cost)\n",
    "        #print(X_opt, cost)\n",
    "    sess.close()\n",
    "    return X_opt, history_loss"
   ]
  },
  {
   "cell_type": "markdown",
   "metadata": {},
   "source": [
    "### Test"
   ]
  },
  {
   "cell_type": "code",
   "execution_count": 17,
   "metadata": {},
   "outputs": [
    {
     "name": "stdout",
     "output_type": "stream",
     "text": [
      "(array([-0.04558446, -0.01682886]), [array([22.21338963,  7.34607805]), array([16.01656928,  6.50148994]), array([10.39811885,  5.73573006]), array([7.1328077 , 5.29068844]), array([5.677563  , 5.09234763]), array([5.16289712, 5.02220187]), array([5.0240465 , 5.00327739]), array([5.00060719, 5.00008276]), array([5.00105355, 5.00014359]), array([5.00238208, 5.00032466])])\n"
     ]
    }
   ],
   "source": [
    "X1 = tf.get_variable(\"X1\", initializer=np.random.random(2) * 10.24 - 5.12)\n",
    "\n",
    "f3 = tf.pow(X1, 2) + 5\n",
    "\n",
    "print(GradientDescentWithMomentum(X1, f3, 10, 0.1, 0.4))"
   ]
  },
  {
   "cell_type": "code",
   "execution_count": 18,
   "metadata": {},
   "outputs": [],
   "source": [
    "tf.reset_default_graph()"
   ]
  },
  {
   "cell_type": "markdown",
   "metadata": {},
   "source": [
    "## Hill Climbing"
   ]
  },
  {
   "cell_type": "code",
   "execution_count": 19,
   "metadata": {},
   "outputs": [],
   "source": [
    "alpha = 2.0\n",
    "\n",
    "def powerLawGenerator(x):\n",
    "    dir = np.random.choice([-1,1])\n",
    "    return dir * (1.0 - x)**(1 - alpha)"
   ]
  },
  {
   "cell_type": "code",
   "execution_count": 20,
   "metadata": {},
   "outputs": [],
   "source": [
    "def checkConstraint(x, limits):\n",
    "    x_min, x_max = limits\n",
    "    for dim in x:\n",
    "        if dim < x_min or dim > x_max:\n",
    "            return False\n",
    "    return True"
   ]
  },
  {
   "cell_type": "code",
   "execution_count": 21,
   "metadata": {},
   "outputs": [],
   "source": [
    "def HillClimbingStep(x, f, limits, delta, powerLaw):\n",
    "    n = len(x)\n",
    "    y = np.array(x)\n",
    "    fx = f(x)\n",
    "    if not powerLaw:\n",
    "        y += delta * np.random.randn(n)\n",
    "    else:\n",
    "        y += delta * powerLawGenerator(np.random.randn(n))\n",
    "    if not checkConstraint(y, limits):\n",
    "        return x\n",
    "    fx_prime = f(y)\n",
    "    return (y if fx_prime <= fx else x)"
   ]
  },
  {
   "cell_type": "code",
   "execution_count": 22,
   "metadata": {},
   "outputs": [],
   "source": [
    "def HillClimbing(x, f, limits, num_iterations=100, delta=0.6, powerLaw=True):\n",
    "    history_loss = []\n",
    "    for i in range(num_iterations):\n",
    "        x_next = HillClimbingStep(x, f, limits, delta, powerLaw)\n",
    "        x = x_next\n",
    "        history_loss.append(f(x))\n",
    "        #print(x, f(x))\n",
    "    return x, history_loss"
   ]
  },
  {
   "cell_type": "markdown",
   "metadata": {},
   "source": [
    "### Test"
   ]
  },
  {
   "cell_type": "code",
   "execution_count": 23,
   "metadata": {
    "scrolled": true
   },
   "outputs": [
    {
     "name": "stdout",
     "output_type": "stream",
     "text": [
      "(array([ 0.25919413, -0.15635558]), [18.153167381257155, 17.069507790869316, 17.069507790869316, 17.069507790869316, 17.069507790869316, 13.613551870142318, 13.613551870142318, 8.759233050407252, 8.759233050407252, 8.759233050407252, 6.562524285392628, 5.131497928151589, 5.131497928151589, 5.101692314919257, 5.101692314919257, 5.101692314919257, 5.101692314919257, 5.101692314919257, 5.101692314919257, 5.101692314919257, 5.101692314919257, 5.101692314919257, 5.101692314919257, 5.101692314919257, 5.101692314919257, 5.101692314919257, 5.101692314919257, 5.101692314919257, 5.101692314919257, 5.101692314919257, 5.101692314919257, 5.101692314919257, 5.101692314919257, 5.101692314919257, 5.091628668032552, 5.091628668032552, 5.091628668032552, 5.091628668032552, 5.091628668032552, 5.091628668032552, 5.091628668032552, 5.091628668032552, 5.091628668032552, 5.091628668032552, 5.091628668032552, 5.091628668032552, 5.091628668032552, 5.091628668032552, 5.091628668032552, 5.091628668032552, 5.091628668032552, 5.091628668032552, 5.091628668032552, 5.091628668032552, 5.091628668032552, 5.091628668032552, 5.091628668032552, 5.091628668032552, 5.091628668032552, 5.091628668032552, 5.091628668032552, 5.091628668032552, 5.091628668032552, 5.091628668032552, 5.091628668032552, 5.091628668032552, 5.091628668032552, 5.091628668032552, 5.091628668032552, 5.091628668032552, 5.091628668032552, 5.091628668032552, 5.091628668032552, 5.091628668032552, 5.091628668032552, 5.091628668032552, 5.091628668032552, 5.091628668032552, 5.091628668032552, 5.091628668032552, 5.091628668032552, 5.091628668032552, 5.091628668032552, 5.091628668032552, 5.091628668032552, 5.091628668032552, 5.091628668032552, 5.091628668032552, 5.091628668032552, 5.091628668032552, 5.091628668032552, 5.091628668032552, 5.091628668032552, 5.091628668032552, 5.091628668032552, 5.091628668032552, 5.091628668032552, 5.091628668032552, 5.091628668032552, 5.091628668032552])\n"
     ]
    }
   ],
   "source": [
    "X = np.random.random(2) * 10.24 - 5.12\n",
    "\n",
    "f4 = lambda x: np.sum(x**2) + 5\n",
    "\n",
    "print(HillClimbing(X, f4, (-5, 5)))"
   ]
  },
  {
   "cell_type": "markdown",
   "metadata": {},
   "source": [
    "## Simulated Annealing"
   ]
  },
  {
   "cell_type": "code",
   "execution_count": 24,
   "metadata": {},
   "outputs": [],
   "source": [
    "def SimulatedAnnealing(x, f, limits, t_max=1000, delta=0.6, powerLaw=True):\n",
    "    history_loss = []\n",
    "    for t in range(1, t_max + 1):\n",
    "        T = t / t_max\n",
    "        x_next = np.array(x)\n",
    "        if not powerLaw:\n",
    "            x_next += delta * np.random.randn(len(x))\n",
    "        else:\n",
    "            x_next += delta * powerLawGenerator(np.random.randn(len(x)))\n",
    "        DE = f(x_next) - f(x)\n",
    "        q = min(1,np.exp(-DE/T))\n",
    "        if checkConstraint(x_next, limits) and DE < 0:\n",
    "            x = x_next\n",
    "        elif checkConstraint(x_next, limits) and T != 0 and np.random.random() < q:\n",
    "            x = x_next\n",
    "        #print(x, f(x))\n",
    "        history_loss.append(f(x))\n",
    "    return x, history_loss"
   ]
  },
  {
   "cell_type": "markdown",
   "metadata": {},
   "source": [
    "### Test"
   ]
  },
  {
   "cell_type": "code",
   "execution_count": 25,
   "metadata": {
    "scrolled": true
   },
   "outputs": [
    {
     "name": "stdout",
     "output_type": "stream",
     "text": [
      "(array([0.25650237, 0.37878949]), [36.81550257004427, 32.15189885844809, 26.95010813961982, 21.220111765696174, 21.220111765696174, 20.474417636741144, 14.569070722469382, 14.569070722469382, 14.569070722469382, 11.506143831546403, 7.185620240409573, 6.9217794523103535, 5.444865095175578, 5.444865095175578, 5.497109080810722, 5.539454395420861, 5.539454395420861, 5.539454395420861, 5.539454395420861, 5.539454395420861, 5.539454395420861, 5.539454395420861, 5.539454395420861, 5.539454395420861, 5.532387666365361, 5.532387666365361, 5.532387666365361, 5.532387666365361, 5.532387666365361, 5.532387666365361, 5.532387666365361, 5.206188841378068, 5.206188841378068, 5.206188841378068, 5.206188841378068, 5.206188841378068, 5.206188841378068, 5.1916817372507635, 5.1916817372507635, 5.1916817372507635, 5.1916817372507635, 5.1916817372507635, 5.1916817372507635, 5.131661184419736, 5.131661184419736, 5.131661184419736, 5.131661184419736, 5.131661184419736, 5.131661184419736, 5.131661184419736, 5.131661184419736, 5.131661184419736, 5.131661184419736, 5.131661184419736, 5.131661184419736, 5.131661184419736, 5.131661184419736, 5.131661184419736, 5.131661184419736, 5.131661184419736, 5.131661184419736, 5.131661184419736, 5.131661184419736, 5.131661184419736, 5.533028641486938, 5.533028641486938, 5.12184946778839, 5.12184946778839, 5.12184946778839, 5.12184946778839, 5.1223827341331525, 5.112153596548341, 5.117605464046152, 5.117605464046152, 5.117605464046152, 5.117605464046152, 5.117605464046152, 5.230033359018651, 5.230033359018651, 5.035922526213546, 5.035922526213546, 5.035922526213546, 5.035922526213546, 5.035922526213546, 5.035922526213546, 5.035922526213546, 5.035922526213546, 5.035922526213546, 5.035922526213546, 5.035922526213546, 5.035922526213546, 5.035922526213546, 5.694162820505209, 5.259423284700806, 5.259423284700806, 5.259423284700806, 5.259423284700806, 5.209274942883816, 5.209274942883816, 5.209274942883816])\n"
     ]
    }
   ],
   "source": [
    "X = np.random.random(2) * 10.24 - 5.12\n",
    "\n",
    "f4 = lambda x: np.sum(x**2) + 5\n",
    "\n",
    "print(SimulatedAnnealing(X, f4, (-5.0, 5.0), t_max=100, delta=1, powerLaw=False))"
   ]
  },
  {
   "cell_type": "markdown",
   "metadata": {},
   "source": [
    "# Global Variables"
   ]
  },
  {
   "cell_type": "code",
   "execution_count": 26,
   "metadata": {},
   "outputs": [],
   "source": [
    "num_experiments = 30"
   ]
  },
  {
   "cell_type": "code",
   "execution_count": 27,
   "metadata": {},
   "outputs": [],
   "source": [
    "def standarDeviation(x):\n",
    "    return np.sqrt(np.sum((x-np.median(x))**2)/len(x))"
   ]
  },
  {
   "cell_type": "code",
   "execution_count": 28,
   "metadata": {},
   "outputs": [],
   "source": [
    "def getErrorPlot(data, num_steps=100):\n",
    "    x = list(range(0, data.shape[1], num_steps))\n",
    "    y = np.empty(0)\n",
    "    std = np.empty(0)\n",
    "    for j in range(0, data.shape[1], num_steps):\n",
    "        xj = data[:, j]\n",
    "        y = np.append(y, np.median(xj))\n",
    "        std = np.append(std, standarDeviation(xj))\n",
    "    return x, y, std"
   ]
  },
  {
   "cell_type": "code",
   "execution_count": 29,
   "metadata": {},
   "outputs": [],
   "source": [
    "def plotGraphs(graph):\n",
    "    plt.plot(list(range(1,1001)), np.average(graph, axis=0), label='Average')\n",
    "    plt.plot(list(range(1,1001)), np.median(graph, axis=0), label='Median')\n",
    "    plt.plot(list(range(1,1001)), np.min(graph, axis=0), label='Min')\n",
    "    plt.plot(list(range(1,1001)), np.max(graph, axis=0), label='Max')\n",
    "    x, y, z = getErrorPlot(graph)\n",
    "    plt.errorbar(x, y, z, marker='^', ls='None')\n",
    "    plt.legend(bbox_to_anchor=(1.05, 1), loc=2, borderaxespad=0.)\n",
    "    plt.xlabel('iterations')\n",
    "    plt.ylabel('f(x)')"
   ]
  },
  {
   "cell_type": "code",
   "execution_count": 78,
   "metadata": {},
   "outputs": [],
   "source": [
    "def plotGraphs10D(graph):\n",
    "    plt.plot(list(range(1,10001)), np.average(graph, axis=0), label='Average')\n",
    "    plt.plot(list(range(1,10001)), np.median(graph, axis=0), label='Median')\n",
    "    plt.plot(list(range(1,10001)), np.min(graph, axis=0), label='Min')\n",
    "    plt.plot(list(range(1,10001)), np.max(graph, axis=0), label='Max')\n",
    "    x, y, z = getErrorPlot(graph, num_steps=10000)\n",
    "    plt.errorbar(x, y, z, marker='^', ls='None')\n",
    "    plt.legend(bbox_to_anchor=(1.05, 1), loc=2, borderaxespad=0.)\n",
    "    plt.xlabel('iterations')\n",
    "    plt.ylabel('f(x)')"
   ]
  },
  {
   "cell_type": "markdown",
   "metadata": {},
   "source": [
    "# Rastrigin\n",
    "On an n-dimensional domain it is defined by:\n",
    "$$f(x) = Ad + \\sum_{i=1}^{d}x_i-Acos(2\\pi x_i)$$"
   ]
  },
  {
   "cell_type": "code",
   "execution_count": 30,
   "metadata": {},
   "outputs": [],
   "source": [
    "def Rastrigin(x):\n",
    "    A = 10\n",
    "    d = len(x)\n",
    "    return A * d + np.sum(x**2 - A * np.cos(2*np.pi*x))\n",
    "\n",
    "def RastriginTF(x):\n",
    "    A = 10\n",
    "    d = len(x)\n",
    "    return A * d + tf.reduce_sum(tf.pow(x, 2) - A * tf.cos([2 * np.pi * xi for xi in x]))"
   ]
  },
  {
   "cell_type": "markdown",
   "metadata": {},
   "source": [
    "## Plotting"
   ]
  },
  {
   "cell_type": "code",
   "execution_count": 31,
   "metadata": {},
   "outputs": [],
   "source": [
    "def RastriginPlot(x, y):\n",
    "    return 20 + (x**2 - 10 * np.cos(2*np.pi*x)) + (y**2 - 10 * np.cos(2*np.pi*y))\n",
    "\n",
    "x = np.linspace(-5.12, 5.12, 400)\n",
    "y = np.linspace(-5.12, 5.12, 400)\n",
    "X, Y = np.meshgrid(x, y)\n",
    "Z = RastriginPlot(X,Y)"
   ]
  },
  {
   "cell_type": "code",
   "execution_count": 32,
   "metadata": {
    "scrolled": true
   },
   "outputs": [
    {
     "data": {
      "image/png": "[encoded data removed]",
      "text/plain": [
       "<Figure size 432x288 with 1 Axes>"
      ]
     },
     "metadata": {},
     "output_type": "display_data"
    }
   ],
   "source": [
    "fig = plt.figure()\n",
    "ax = plt.axes(projection='3d')\n",
    "ax.contour3D(X, Y, Z, 100)\n",
    "ax.set_xlabel('x')\n",
    "ax.set_ylabel('y')\n",
    "ax.set_zlabel('z');"
   ]
  },
  {
   "cell_type": "markdown",
   "metadata": {},
   "source": [
    "## Rastrigin with Newton-Raphson"
   ]
  },
  {
   "cell_type": "markdown",
   "metadata": {},
   "source": [
    "### 2-Dimensions  "
   ]
  },
  {
   "cell_type": "code",
   "execution_count": 69,
   "metadata": {},
   "outputs": [
    {
     "name": "stdout",
     "output_type": "stream",
     "text": [
      "(30, 1000)\n"
     ]
    }
   ],
   "source": [
    "sess = tf.Session()\n",
    "optimal_found1 = []\n",
    "\n",
    "total_history = []\n",
    "\n",
    "for i in range(num_experiments):\n",
    "    x = []\n",
    "    for i in range( 2 ):\n",
    "        x.append(tf.Variable(np.random.random() * 10.24 - 5.12))\n",
    "        \n",
    "    sess.run(tf.initialize_all_variables())\n",
    "\n",
    "    f1 = RastriginTF(x)\n",
    "    optimum, history_loss = NewtonRaphson(x, f1, 1000)\n",
    "    #total_history += np.array(history_loss)\n",
    "    total_history.append(np.array(history_loss))\n",
    "    #plt.plot([i for i in range(1,1001)], history_loss, 'b')\n",
    "    optimal_found1.append(optimum)\n",
    "    \n",
    "total_history = np.array(total_history)\n",
    "print(total_history.shape)\n",
    "sess.close()"
   ]
  },
  {
   "cell_type": "code",
   "execution_count": 70,
   "metadata": {},
   "outputs": [
    {
     "data": {
      "image/png": "[encoded data removed]",
      "text/plain": [
       "<Figure size 432x288 with 1 Axes>"
      ]
     },
     "metadata": {},
     "output_type": "display_data"
    }
   ],
   "source": [
    "plotGraphs(total_history)"
   ]
  },
  {
   "cell_type": "code",
   "execution_count": 71,
   "metadata": {
    "scrolled": true
   },
   "outputs": [
    {
     "name": "stdout",
     "output_type": "stream",
     "text": [
      "Optimal founds:\n",
      "64.6248779296875\n",
      "27.27680015563965\n",
      "44.3331184387207\n",
      "48.54330062866211\n",
      "173.1826171875\n",
      "58.59428405761719\n",
      "28.85355281829834\n",
      "72.66572570800781\n",
      "44.3331184387207\n",
      "20.251272201538086\n",
      "24.873842239379883\n",
      "4.974790573120117\n",
      "56.27252960205078\n",
      "58.59428024291992\n",
      "44.3331184387207\n",
      "28.853553771972656\n",
      "62.61474609375\n",
      "9.94955825805664\n",
      "27.27680015563965\n",
      "15.919242858886719\n",
      "26.281841278076172\n",
      "40.50254440307617\n",
      "16.914201736450195\n",
      "54.57389831542969\n",
      "66.63512802124023\n",
      "64.6248779296875\n",
      "7.959662437438965\n",
      "66.63512802124023\n",
      "56.27252960205078\n",
      "60.60456085205078\n"
     ]
    }
   ],
   "source": [
    "print(\"Optimal founds:\")\n",
    "for x in optimal_found1:\n",
    "    print(Rastrigin(np.array(x)))"
   ]
  },
  {
   "cell_type": "code",
   "execution_count": 72,
   "metadata": {},
   "outputs": [],
   "source": [
    "tf.reset_default_graph()"
   ]
  },
  {
   "cell_type": "markdown",
   "metadata": {},
   "source": [
    "### 10-Dimensions"
   ]
  },
  {
   "cell_type": "code",
   "execution_count": 74,
   "metadata": {},
   "outputs": [
    {
     "name": "stdout",
     "output_type": "stream",
     "text": [
      "(30, 10000)\n"
     ]
    }
   ],
   "source": [
    "sess = tf.Session()\n",
    "optimal_found21 = []\n",
    "\n",
    "total_history21 = []\n",
    "\n",
    "for i in range(num_experiments):\n",
    "    x = []\n",
    "    for i in range( 10 ):\n",
    "        x.append(tf.Variable(np.random.random() * 10.24 - 5.12))\n",
    "        \n",
    "    sess.run(tf.initialize_all_variables())\n",
    "\n",
    "    f1 = RastriginTF(x)\n",
    "    optimum, history_loss = NewtonRaphson(x, f1, 10000)\n",
    "    #total_history += np.array(history_loss)\n",
    "    total_history21.append(np.array(history_loss))\n",
    "    #plt.plot([i for i in range(1,1001)], history_loss, 'b')\n",
    "    optimal_found21.append(optimum)\n",
    "    \n",
    "total_history21 = np.array(total_history21)\n",
    "print(total_history21.shape)\n",
    "sess.close()"
   ]
  },
  {
   "cell_type": "code",
   "execution_count": 79,
   "metadata": {},
   "outputs": [
    {
     "data": {
      "image/png": "[encoded data removed]",
      "text/plain": [
       "<Figure size 432x288 with 1 Axes>"
      ]
     },
     "metadata": {},
     "output_type": "display_data"
    }
   ],
   "source": [
    "plotGraphs10D(total_history21)"
   ]
  },
  {
   "cell_type": "code",
   "execution_count": 80,
   "metadata": {
    "scrolled": true
   },
   "outputs": [
    {
     "name": "stdout",
     "output_type": "stream",
     "text": [
      "Optimal founds:\n",
      "199.64142608642578\n",
      "146.9358139038086\n",
      "114.99582195281982\n",
      "243.68328857421875\n",
      "142.91526412963867\n",
      "229.56434631347656\n",
      "141.62904739379883\n",
      "140.13976287841797\n",
      "146.5834197998047\n",
      "218.70804595947266\n",
      "107.59786415100098\n",
      "1299.33837890625\n",
      "170.62559509277344\n",
      "263.1091766357422\n",
      "723.8820190429688\n",
      "200.6363754272461\n",
      "278.7104034423828\n",
      "346.8373718261719\n",
      "172.51319885253906\n",
      "138.35369110107422\n",
      "164.6620864868164\n",
      "1953.252197265625\n",
      "177.33938598632812\n",
      "226.3244400024414\n",
      "265.557861328125\n",
      "149.23715209960938\n",
      "153.13595962524414\n",
      "170.91597747802734\n",
      "318.2976989746094\n",
      "225.27981567382812\n"
     ]
    }
   ],
   "source": [
    "print(\"Optimal founds:\")\n",
    "for x in optimal_found21:\n",
    "    print(Rastrigin(np.array(x)))"
   ]
  },
  {
   "cell_type": "code",
   "execution_count": 81,
   "metadata": {},
   "outputs": [],
   "source": [
    "tf.reset_default_graph()"
   ]
  },
  {
   "cell_type": "markdown",
   "metadata": {},
   "source": [
    "## Rastrigin with Gradient Descent"
   ]
  },
  {
   "cell_type": "markdown",
   "metadata": {},
   "source": [
    "### 2-Dimensions"
   ]
  },
  {
   "cell_type": "code",
   "execution_count": 87,
   "metadata": {},
   "outputs": [
    {
     "name": "stdout",
     "output_type": "stream",
     "text": [
      "(30, 1000)\n"
     ]
    }
   ],
   "source": [
    "sess = tf.Session()\n",
    "optimal_found2 = []\n",
    "\n",
    "total_history2 = []\n",
    "\n",
    "for i in range(num_experiments):\n",
    "    x = []\n",
    "    for i in range( 2 ):\n",
    "        x.append(tf.Variable(np.random.random() * 10.24 - 5.12))\n",
    "        \n",
    "    sess.run(tf.initialize_all_variables())\n",
    "\n",
    "    f1 = RastriginTF(x)\n",
    "    optimum, history_loss = GradientDescent(x, f1, 1000, lr=0.01)\n",
    "    #total_history += np.array(history_loss)\n",
    "    total_history2.append(np.array(history_loss))\n",
    "    #plt.plot([i for i in range(1,1001)], history_loss, 'b')\n",
    "    optimal_found2.append(optimum)\n",
    "    \n",
    "total_history2 = np.array(total_history2)\n",
    "print(total_history2.shape)\n",
    "sess.close()"
   ]
  },
  {
   "cell_type": "code",
   "execution_count": 88,
   "metadata": {},
   "outputs": [
    {
     "data": {
      "image/png": "[encoded data removed]",
      "text/plain": [
       "<Figure size 432x288 with 1 Axes>"
      ]
     },
     "metadata": {},
     "output_type": "display_data"
    }
   ],
   "source": [
    "plotGraphs(total_history2)"
   ]
  },
  {
   "cell_type": "code",
   "execution_count": 89,
   "metadata": {
    "scrolled": true
   },
   "outputs": [
    {
     "name": "stdout",
     "output_type": "stream",
     "text": [
      "Optimal founds:\n",
      "43.87887763977051\n",
      "40.17009162902832\n",
      "4.395713806152344\n",
      "39.79482841491699\n",
      "32.74654483795166\n",
      "27.626662731170654\n",
      "44.834678649902344\n",
      "25.733779907226562\n",
      "29.194660186767578\n",
      "48.36265754699707\n",
      "26.43130874633789\n",
      "27.35896873474121\n",
      "35.586710929870605\n",
      "35.529022216796875\n",
      "39.29043006896973\n",
      "20.33817768096924\n",
      "29.096915245056152\n",
      "19.37247347831726\n",
      "27.11729621887207\n",
      "14.275048732757568\n",
      "28.744909286499023\n",
      "34.495633125305176\n",
      "35.8014612197876\n",
      "44.10295867919922\n",
      "40.21110725402832\n",
      "14.019403457641602\n",
      "23.46574854850769\n",
      "29.137435913085938\n",
      "32.45532035827637\n",
      "26.03416681289673\n"
     ]
    }
   ],
   "source": [
    "print(\"Optimal founds:\")\n",
    "for x in optimal_found2:\n",
    "    print(Rastrigin(np.array(x)))"
   ]
  },
  {
   "cell_type": "markdown",
   "metadata": {},
   "source": [
    "### 10-Dimensions"
   ]
  },
  {
   "cell_type": "code",
   "execution_count": null,
   "metadata": {},
   "outputs": [],
   "source": [
    "sess = tf.Session()\n",
    "optimal_found22 = []\n",
    "\n",
    "total_history22 = []\n",
    "\n",
    "for i in range(num_experiments):\n",
    "    x = []\n",
    "    for i in range( 10 ):\n",
    "        x.append(tf.Variable(np.random.random() * 10.24 - 5.12))\n",
    "        \n",
    "    sess.run(tf.initialize_all_variables())\n",
    "\n",
    "    f1 = RastriginTF(x)\n",
    "    optimum, history_loss = GradientDescent(x, f1, 10000, lr=0.01)\n",
    "    #total_history += np.array(history_loss)\n",
    "    total_history22.append(np.array(history_loss))\n",
    "    #plt.plot([i for i in range(1,1001)], history_loss, 'b')\n",
    "    optimal_found22.append(optimum)\n",
    "    \n",
    "total_history22 = np.array(total_history22)\n",
    "print(total_history22.shape)\n",
    "sess.close()"
   ]
  },
  {
   "cell_type": "code",
   "execution_count": null,
   "metadata": {},
   "outputs": [],
   "source": [
    "plotGraphs(total_history22)"
   ]
  },
  {
   "cell_type": "code",
   "execution_count": null,
   "metadata": {},
   "outputs": [],
   "source": [
    "print(\"Optimal founds:\")\n",
    "for x in optimal_found22:\n",
    "    print(Rastrigin(np.array(x)))"
   ]
  },
  {
   "cell_type": "code",
   "execution_count": 86,
   "metadata": {},
   "outputs": [],
   "source": [
    "tf.reset_default_graph()"
   ]
  },
  {
   "cell_type": "markdown",
   "metadata": {},
   "source": [
    "## Rastrigin with Momentum"
   ]
  },
  {
   "cell_type": "markdown",
   "metadata": {},
   "source": [
    "### 2-Dimensions"
   ]
  },
  {
   "cell_type": "code",
   "execution_count": 73,
   "metadata": {},
   "outputs": [
    {
     "name": "stdout",
     "output_type": "stream",
     "text": [
      "(30, 1000)\n"
     ]
    }
   ],
   "source": [
    "sess = tf.Session()\n",
    "optimal_found3 = []\n",
    "\n",
    "total_history3 = []\n",
    "\n",
    "for i in range(num_experiments):\n",
    "    x = []\n",
    "    for i in range( 2 ):\n",
    "        x.append(tf.Variable(np.random.random() * 10.24 - 5.12))\n",
    "        \n",
    "    sess.run(tf.initialize_all_variables())\n",
    "\n",
    "    f1 = RastriginTF(x)\n",
    "    optimum, history_loss = GradientDescentWithMomentum(x, f1, 1000, lr=0.01)\n",
    "    #total_history += np.array(history_loss)\n",
    "    total_history3.append(np.array(history_loss))\n",
    "    #plt.plot([i for i in range(1,1001)], history_loss, 'b')\n",
    "    optimal_found3.append(optimum)\n",
    "    \n",
    "total_history3 = np.array(total_history3)\n",
    "print(total_history3.shape)\n",
    "sess.close()"
   ]
  },
  {
   "cell_type": "code",
   "execution_count": 90,
   "metadata": {},
   "outputs": [
    {
     "data": {
      "image/png": "[encoded data removed]",
      "text/plain": [
       "<Figure size 432x288 with 1 Axes>"
      ]
     },
     "metadata": {},
     "output_type": "display_data"
    }
   ],
   "source": [
    "plotGraphs(total_history3)"
   ]
  },
  {
   "cell_type": "code",
   "execution_count": 94,
   "metadata": {
    "scrolled": true
   },
   "outputs": [
    {
     "name": "stdout",
     "output_type": "stream",
     "text": [
      "Optimal founds:\n",
      "16.054221391677856\n",
      "45.58212471008301\n",
      "41.51041793823242\n",
      "21.124197840690613\n",
      "16.054223775863647\n",
      "19.249613285064697\n",
      "35.52626132965088\n",
      "24.146577835083008\n",
      "16.282244205474854\n",
      "16.282246589660645\n",
      "21.869359254837036\n",
      "53.53273391723633\n",
      "21.109208583831787\n",
      "48.96734046936035\n",
      "24.304597854614258\n",
      "16.282244205474854\n",
      "23.614449977874756\n",
      "21.64133644104004\n",
      "18.84697914123535\n",
      "18.15683114528656\n",
      "38.345319747924805\n",
      "22.27199101448059\n",
      "17.928808212280273\n",
      "43.470726013183594\n",
      "34.48457145690918\n",
      "24.146577835083008\n",
      "18.15683114528656\n",
      "21.337231397628784\n",
      "18.618956327438354\n",
      "19.249610900878906\n"
     ]
    }
   ],
   "source": [
    "print(\"Optimal founds:\")\n",
    "for x in optimal_found3:\n",
    "    print(Rastrigin(np.array(x)))"
   ]
  },
  {
   "cell_type": "markdown",
   "metadata": {},
   "source": [
    "### 10-Dimensions"
   ]
  },
  {
   "cell_type": "code",
   "execution_count": null,
   "metadata": {},
   "outputs": [],
   "source": [
    "sess = tf.Session()\n",
    "optimal_found23 = []\n",
    "\n",
    "total_history23 = []\n",
    "\n",
    "for i in range(num_experiments):\n",
    "    x = []\n",
    "    for i in range( 10 ):\n",
    "        x.append(tf.Variable(np.random.random() * 10.24 - 5.12))\n",
    "        \n",
    "    sess.run(tf.initialize_all_variables())\n",
    "    \n",
    "    f1 = RastriginTF(x)\n",
    "    optimum, history_loss = GradientDescentWithMomentum(x, f1, 10000, lr=0.01)\n",
    "    #total_history += np.array(history_loss)\n",
    "    total_history23.append(np.array(history_loss))\n",
    "    #plt.plot([i for i in range(1,1001)], history_loss, 'b')\n",
    "    optimal_found23.append(optimum)\n",
    "    \n",
    "total_history23 = np.array(total_history23)\n",
    "print(total_history23.shape)\n",
    "sess.close()"
   ]
  },
  {
   "cell_type": "code",
   "execution_count": null,
   "metadata": {},
   "outputs": [],
   "source": [
    "plotGraphs(total_history23)"
   ]
  },
  {
   "cell_type": "code",
   "execution_count": null,
   "metadata": {},
   "outputs": [],
   "source": [
    "print(\"Optimal founds:\")\n",
    "for x in optimal_found23:\n",
    "    print(Rastrigin(np.array(x)))"
   ]
  },
  {
   "cell_type": "markdown",
   "metadata": {},
   "source": [
    "## Rastrigin with Hill-Climbing"
   ]
  },
  {
   "cell_type": "markdown",
   "metadata": {},
   "source": [
    "### 2-Dimensions"
   ]
  },
  {
   "cell_type": "code",
   "execution_count": 77,
   "metadata": {},
   "outputs": [
    {
     "name": "stdout",
     "output_type": "stream",
     "text": [
      "(30, 1000)\n"
     ]
    }
   ],
   "source": [
    "optimal_found4 = []\n",
    "total_history4 = []\n",
    "\n",
    "for i in range(num_experiments):\n",
    "    x = np.random.random(2) * 10.24 - 5.12\n",
    "    f = Rastrigin\n",
    "    optimum, history_loss = HillClimbing(x, f, (-5.12,5.12), num_iterations=1000)\n",
    "    #total_history += np.array(history_loss)\n",
    "    total_history4.append(np.array(history_loss))\n",
    "    #plt.plot([i for i in range(1,1001)], history_loss, 'b')\n",
    "    optimal_found4.append(optimum)\n",
    "\n",
    "total_history4 = np.array(total_history4)\n",
    "print(total_history4.shape)"
   ]
  },
  {
   "cell_type": "code",
   "execution_count": 95,
   "metadata": {},
   "outputs": [
    {
     "data": {
      "image/png": "[encoded data removed]",
      "text/plain": [
       "<Figure size 432x288 with 1 Axes>"
      ]
     },
     "metadata": {},
     "output_type": "display_data"
    }
   ],
   "source": [
    "plotGraphs(total_history4)"
   ]
  },
  {
   "cell_type": "code",
   "execution_count": 96,
   "metadata": {
    "scrolled": true
   },
   "outputs": [
    {
     "name": "stdout",
     "output_type": "stream",
     "text": [
      "Optimal founds:\n",
      "1.277248569821296\n",
      "1.2713212861596688\n",
      "2.268107833903926\n",
      "1.1428137756336199\n",
      "1.2242145586294981\n",
      "1.240925410770906\n",
      "2.865720081942328\n",
      "2.56470616616096\n",
      "1.4181255070608927\n",
      "1.0351103190609052\n",
      "2.50767591080103\n",
      "1.2330108226990433\n",
      "4.538272053766098\n",
      "3.0768754460006065\n",
      "0.6016028596680627\n",
      "2.797540746717285\n",
      "0.9959736285290077\n",
      "1.8926494685121682\n",
      "1.3221001286675573\n",
      "1.0727811436629437\n",
      "1.26992644314209\n",
      "0.47856180084635724\n",
      "1.4420308793511154\n",
      "1.1405609917780595\n",
      "1.7388196253231953\n",
      "4.145320613407801\n",
      "3.2007116734868077\n",
      "2.279024289503262\n",
      "3.756959481973521\n",
      "3.1844562117708506\n"
     ]
    }
   ],
   "source": [
    "print(\"Optimal founds:\")\n",
    "for x in optimal_found4:\n",
    "    print(Rastrigin(np.array(x)))"
   ]
  },
  {
   "cell_type": "markdown",
   "metadata": {},
   "source": [
    "### 10-Dimensions"
   ]
  },
  {
   "cell_type": "code",
   "execution_count": null,
   "metadata": {},
   "outputs": [],
   "source": [
    "optimal_found24 = []\n",
    "total_history24 = []\n",
    "\n",
    "for i in range(num_experiments):\n",
    "    x = np.random.random(10) * 10.24 - 5.12\n",
    "    f = Rastrigin\n",
    "    optimum, history_loss = HillClimbing(x, f, (-5.12,5.12), num_iterations=10000)\n",
    "    #total_history += np.array(history_loss)\n",
    "    total_history24.append(np.array(history_loss))\n",
    "    #plt.plot([i for i in range(1,1001)], history_loss, 'b')\n",
    "    optimal_found24.append(optimum)\n",
    "\n",
    "total_history24 = np.array(total_history24)\n",
    "print(total_history24.shape)"
   ]
  },
  {
   "cell_type": "code",
   "execution_count": null,
   "metadata": {},
   "outputs": [],
   "source": [
    "plotGraphs(total_history24)"
   ]
  },
  {
   "cell_type": "code",
   "execution_count": null,
   "metadata": {},
   "outputs": [],
   "source": [
    "print(\"Optimal founds:\")\n",
    "for x in optimal_found24:\n",
    "    print(Rastrigin(np.array(x)))"
   ]
  },
  {
   "cell_type": "markdown",
   "metadata": {},
   "source": [
    "## Rastrigin with Simulated Annealing"
   ]
  },
  {
   "cell_type": "markdown",
   "metadata": {},
   "source": [
    "### 2-Dimensions"
   ]
  },
  {
   "cell_type": "code",
   "execution_count": 156,
   "metadata": {},
   "outputs": [
    {
     "name": "stderr",
     "output_type": "stream",
     "text": [
      "/home/woom05/Documents/deeplearning-venv/lib/python3.6/site-packages/ipykernel_launcher.py:11: RuntimeWarning: overflow encountered in exp\n",
      "  # This is added back by InteractiveShellApp.init_path()\n"
     ]
    },
    {
     "name": "stdout",
     "output_type": "stream",
     "text": [
      "(30, 1000)\n"
     ]
    }
   ],
   "source": [
    "optimal_found5 = []\n",
    "total_history5 = []\n",
    "\n",
    "for i in range(num_experiments):\n",
    "    x = np.random.random(2) * 10.24 - 5.12\n",
    "    f = Rastrigin\n",
    "    optimum, history_loss = SimulatedAnnealing(x, f, (-5.12,5.12), t_max=1000, delta=1)\n",
    "    #total_history += np.array(history_loss)\n",
    "    total_history5.append(np.array(history_loss))\n",
    "    #plt.plot([i for i in range(1,1001)], history_loss, 'b')\n",
    "    optimal_found5.append(optimum)\n",
    "\n",
    "total_history5 = np.array(total_history5)\n",
    "print(total_history5.shape)"
   ]
  },
  {
   "cell_type": "code",
   "execution_count": 97,
   "metadata": {},
   "outputs": [
    {
     "data": {
      "image/png": "[encoded data removed]",
      "text/plain": [
       "<Figure size 432x288 with 1 Axes>"
      ]
     },
     "metadata": {},
     "output_type": "display_data"
    }
   ],
   "source": [
    "plotGraphs(total_history5)"
   ]
  },
  {
   "cell_type": "code",
   "execution_count": 98,
   "metadata": {
    "scrolled": true
   },
   "outputs": [
    {
     "name": "stdout",
     "output_type": "stream",
     "text": [
      "Optimal founds:\n",
      "1.265713399730565\n",
      "3.2579582206011537\n",
      "2.8697199203864585\n",
      "2.5105200853294285\n",
      "1.9733662525697753\n",
      "1.729804550104948\n",
      "3.3512606663759215\n",
      "1.791681717670368\n",
      "0.35613846172971364\n",
      "0.5056711365985507\n",
      "2.3785445737769066\n",
      "1.1141211756961802\n",
      "2.835691630457376\n",
      "1.5130423584561044\n",
      "2.2100229823810977\n",
      "1.5537046020129637\n",
      "2.4696095666321938\n",
      "2.230331814465803\n",
      "1.0069117007296882\n",
      "1.894882439071555\n",
      "0.4177801254651001\n",
      "2.4792595718204105\n",
      "1.9914851544913859\n",
      "0.7074057277568713\n",
      "1.2858681913448038\n",
      "1.021450122509087\n",
      "1.767278846118188\n",
      "2.3217842992637365\n",
      "1.7931887785965692\n",
      "6.438444003000022\n"
     ]
    }
   ],
   "source": [
    "print(\"Optimal founds:\")\n",
    "for x in optimal_found5:\n",
    "    print(Rastrigin(np.array(x)))"
   ]
  },
  {
   "cell_type": "markdown",
   "metadata": {},
   "source": [
    "### 10-Dimensions"
   ]
  },
  {
   "cell_type": "code",
   "execution_count": null,
   "metadata": {},
   "outputs": [],
   "source": [
    "optimal_found25 = []\n",
    "total_history25 = []\n",
    "\n",
    "for i in range(num_experiments):\n",
    "    x = np.random.random(10) * 10.24 - 5.12\n",
    "    f = Rastrigin\n",
    "    optimum, history_loss = HillClimbing(x, f, (-5.12,5.12), num_iterations=10000)\n",
    "    #total_history += np.array(history_loss)\n",
    "    total_history25.append(np.array(history_loss))\n",
    "    #plt.plot([i for i in range(1,1001)], history_loss, 'b')\n",
    "    optimal_found25.append(optimum)\n",
    "\n",
    "total_history25 = np.array(total_history25)\n",
    "print(total_history25.shape)"
   ]
  },
  {
   "cell_type": "code",
   "execution_count": null,
   "metadata": {},
   "outputs": [],
   "source": [
    "plotGraphs(total_history25)"
   ]
  },
  {
   "cell_type": "code",
   "execution_count": null,
   "metadata": {},
   "outputs": [],
   "source": [
    "print(\"Optimal founds:\")\n",
    "for x in optimal_found25:\n",
    "    print(Rastrigin(np.array(x)))"
   ]
  },
  {
   "cell_type": "markdown",
   "metadata": {},
   "source": [
    "# Rosenbrock"
   ]
  },
  {
   "cell_type": "code",
   "execution_count": 109,
   "metadata": {},
   "outputs": [],
   "source": [
    "def Rosenbrock(x):\n",
    "    return 100 * (x[0]**2-x[1])**2 + (1-x[0])**2\n",
    "\n",
    "def RosenbrockTF(x):\n",
    "    return 100 * tf.pow(tf.pow(x[0]-tf.pow(x[1], 2), 2), 2) + tf.pow(1-x[0], 2) "
   ]
  },
  {
   "cell_type": "markdown",
   "metadata": {},
   "source": [
    "## Rosenbrock with Newton-Raphson"
   ]
  },
  {
   "cell_type": "code",
   "execution_count": null,
   "metadata": {},
   "outputs": [],
   "source": [
    "sess = tf.Session()\n",
    "optimal_found6 = []\n",
    "\n",
    "total_history6 = []\n",
    "\n",
    "for i in range(num_experiments):\n",
    "    x = []\n",
    "    for i in range( 2 ):\n",
    "        x.append(tf.Variable(np.random.random() * 4.096 - 2.048))\n",
    "        \n",
    "    sess.run(tf.initialize_all_variables())\n",
    "\n",
    "    f1 = RosenbrockTF(x)\n",
    "    optimum, history_loss = NewtonRaphson(x, f1, 1000)\n",
    "    #total_history += np.array(history_loss)\n",
    "    total_history6.append(np.array(history_loss))\n",
    "    #plt.plot([i for i in range(1,1001)], history_loss, 'b')\n",
    "    optimal_found6.append(optimum)\n",
    "    \n",
    "total_history6 = np.array(total_history6)\n",
    "print(total_history6.shape)\n",
    "sess.close()"
   ]
  },
  {
   "cell_type": "code",
   "execution_count": 99,
   "metadata": {},
   "outputs": [
    {
     "data": {
      "image/png": "[encoded data removed]",
      "text/plain": [
       "<Figure size 432x288 with 1 Axes>"
      ]
     },
     "metadata": {},
     "output_type": "display_data"
    }
   ],
   "source": [
    "plotGraphs(total_history6)"
   ]
  },
  {
   "cell_type": "code",
   "execution_count": 100,
   "metadata": {
    "scrolled": true
   },
   "outputs": [
    {
     "name": "stdout",
     "output_type": "stream",
     "text": [
      "Optimal founds:\n",
      "4.734855651855469\n",
      "4.734855651855469\n",
      "2.0\n",
      "2.0\n",
      "4.734855651855469\n",
      "2.0\n",
      "2.0\n",
      "2.0\n",
      "2.0\n",
      "2.0\n",
      "2.0\n",
      "2.0\n",
      "2.0\n",
      "4.734857559204102\n",
      "2.0\n",
      "2.0\n",
      "2.0\n",
      "2.0\n",
      "2.0\n",
      "2.0\n",
      "2.0\n",
      "4.734855651855469\n",
      "2.0\n",
      "2.0\n",
      "2.0\n",
      "4.734855651855469\n",
      "2.0\n",
      "2.0\n",
      "2.0\n",
      "2.0\n"
     ]
    }
   ],
   "source": [
    "print(\"Optimal founds:\")\n",
    "for x in optimal_found6:\n",
    "    print(Rastrigin(np.array(x)))"
   ]
  },
  {
   "cell_type": "markdown",
   "metadata": {},
   "source": [
    "## Rosenbrock with Gradient Descent"
   ]
  },
  {
   "cell_type": "code",
   "execution_count": 113,
   "metadata": {},
   "outputs": [
    {
     "name": "stdout",
     "output_type": "stream",
     "text": [
      "(30, 1000)\n"
     ]
    }
   ],
   "source": [
    "sess = tf.Session()\n",
    "optimal_found7 = []\n",
    "\n",
    "total_history7 = []\n",
    "\n",
    "\n",
    "for i in range(num_experiments):\n",
    "    x = []\n",
    "    for i in range( 2 ):\n",
    "        x.append(tf.Variable(np.random.random() * 4.096 - 2.048))\n",
    "        \n",
    "    sess.run(tf.initialize_all_variables())\n",
    "\n",
    "    f1 = RosenbrockTF(x)\n",
    "    optimum, history_loss = GradientDescent(x, f1, 1000, lr=0.01)\n",
    "    #total_history += np.array(history_loss)\n",
    "    total_history7.append(np.array(history_loss))\n",
    "    #plt.plot([i for i in range(1,1001)], history_loss, 'b')\n",
    "    optimal_found7.append(optimum)\n",
    "    \n",
    "total_history7 = np.array(total_history7)\n",
    "print(total_history7.shape)\n",
    "sess.close()"
   ]
  },
  {
   "cell_type": "code",
   "execution_count": 101,
   "metadata": {},
   "outputs": [
    {
     "name": "stderr",
     "output_type": "stream",
     "text": [
      "/home/woom05/Documents/deeplearning-venv/lib/python3.6/site-packages/numpy/lib/function_base.py:4033: RuntimeWarning: Invalid value encountered in median for 997 results\n",
      "  r = func(a, **kwargs)\n",
      "/home/woom05/Documents/deeplearning-venv/lib/python3.6/site-packages/numpy/lib/function_base.py:4033: RuntimeWarning: Invalid value encountered in median\n",
      "  r = func(a, **kwargs)\n"
     ]
    },
    {
     "data": {
      "image/png": "[encoded data removed]",
      "text/plain": [
       "<Figure size 432x288 with 1 Axes>"
      ]
     },
     "metadata": {},
     "output_type": "display_data"
    }
   ],
   "source": [
    "plotGraphs(total_history7)"
   ]
  },
  {
   "cell_type": "code",
   "execution_count": 102,
   "metadata": {
    "scrolled": true
   },
   "outputs": [
    {
     "name": "stdout",
     "output_type": "stream",
     "text": [
      "Optimal founds:\n",
      "nan\n",
      "nan\n",
      "nan\n",
      "nan\n",
      "nan\n",
      "nan\n",
      "nan\n",
      "nan\n",
      "nan\n",
      "2.009357452392578\n",
      "nan\n",
      "nan\n",
      "nan\n",
      "nan\n",
      "nan\n",
      "nan\n",
      "nan\n",
      "nan\n",
      "1.9951629638671875\n",
      "nan\n",
      "nan\n",
      "nan\n",
      "1.9952049255371094\n",
      "nan\n",
      "nan\n",
      "nan\n",
      "nan\n",
      "1.9949836730957031\n",
      "nan\n",
      "nan\n"
     ]
    }
   ],
   "source": [
    "print(\"Optimal founds:\")\n",
    "for x in optimal_found7:\n",
    "    print(Rastrigin(np.array(x)))"
   ]
  },
  {
   "cell_type": "markdown",
   "metadata": {},
   "source": [
    "## Rosenbrock with Momentum"
   ]
  },
  {
   "cell_type": "code",
   "execution_count": 119,
   "metadata": {},
   "outputs": [
    {
     "name": "stdout",
     "output_type": "stream",
     "text": [
      "(30, 1000)\n"
     ]
    }
   ],
   "source": [
    "sess = tf.Session()\n",
    "optimal_found8 = []\n",
    "\n",
    "total_history8 = []\n",
    "\n",
    "for i in range(num_experiments):\n",
    "    x = []\n",
    "    for i in range( 2 ):\n",
    "        x.append(tf.Variable(np.random.random() * 4.096 - 2.048))\n",
    "        \n",
    "    sess.run(tf.initialize_all_variables())\n",
    "\n",
    "    f1 = RosenbrockTF(x)\n",
    "    optimum, history_loss = GradientDescentWithMomentum(x, f1, 1000, lr=0.01)\n",
    "    #total_history += np.array(history_loss)\n",
    "    total_history8.append(np.array(history_loss))\n",
    "    #plt.plot([i for i in range(1,1001)], history_loss, 'b')\n",
    "    optimal_found8.append(optimum)\n",
    "    \n",
    "total_history8 = np.array(total_history8)\n",
    "print(total_history8.shape)\n",
    "sess.close()"
   ]
  },
  {
   "cell_type": "code",
   "execution_count": 103,
   "metadata": {},
   "outputs": [
    {
     "name": "stderr",
     "output_type": "stream",
     "text": [
      "/home/woom05/Documents/deeplearning-venv/lib/python3.6/site-packages/numpy/lib/function_base.py:4033: RuntimeWarning: Invalid value encountered in median for 997 results\n",
      "  r = func(a, **kwargs)\n",
      "/home/woom05/Documents/deeplearning-venv/lib/python3.6/site-packages/numpy/lib/function_base.py:4033: RuntimeWarning: Invalid value encountered in median\n",
      "  r = func(a, **kwargs)\n"
     ]
    },
    {
     "data": {
      "image/png": "[encoded data removed]",
      "text/plain": [
       "<Figure size 432x288 with 1 Axes>"
      ]
     },
     "metadata": {},
     "output_type": "display_data"
    }
   ],
   "source": [
    "plotGraphs(total_history8)"
   ]
  },
  {
   "cell_type": "code",
   "execution_count": 104,
   "metadata": {
    "scrolled": true
   },
   "outputs": [
    {
     "name": "stdout",
     "output_type": "stream",
     "text": [
      "Optimal founds:\n",
      "nan\n",
      "2.0056533813476562\n",
      "nan\n",
      "nan\n",
      "nan\n",
      "nan\n",
      "nan\n",
      "nan\n",
      "nan\n",
      "nan\n",
      "nan\n",
      "nan\n",
      "nan\n",
      "1.9962425231933594\n",
      "nan\n",
      "nan\n",
      "nan\n",
      "nan\n",
      "nan\n",
      "nan\n",
      "nan\n",
      "1.9961566925048828\n",
      "nan\n",
      "nan\n",
      "nan\n",
      "nan\n",
      "nan\n",
      "nan\n",
      "nan\n",
      "nan\n"
     ]
    }
   ],
   "source": [
    "print(\"Optimal founds:\")\n",
    "for x in optimal_found8:\n",
    "    print(Rastrigin(np.array(x)))"
   ]
  },
  {
   "cell_type": "markdown",
   "metadata": {},
   "source": [
    "## Rosenbrock with Hill-Climbing"
   ]
  },
  {
   "cell_type": "code",
   "execution_count": 127,
   "metadata": {},
   "outputs": [
    {
     "name": "stdout",
     "output_type": "stream",
     "text": [
      "(30, 1000)\n"
     ]
    }
   ],
   "source": [
    "optimal_found9 = []\n",
    "total_history9 = []\n",
    "\n",
    "for i in range(num_experiments):\n",
    "    x = np.random.random(2) * 4.096 - 2.48\n",
    "    f = Rosenbrock\n",
    "    optimum, history_loss = HillClimbing(x, f, (-2.048,2.048), num_iterations=1000)\n",
    "    #total_history += np.array(history_loss)\n",
    "    total_history9.append(np.array(history_loss))\n",
    "    #plt.plot([i for i in range(1,1001)], history_loss, 'b')\n",
    "    optimal_found9.append(optimum)\n",
    "\n",
    "total_history9 = np.array(total_history9)\n",
    "print(total_history9.shape)"
   ]
  },
  {
   "cell_type": "code",
   "execution_count": 105,
   "metadata": {},
   "outputs": [
    {
     "data": {
      "image/png": "[encoded data removed]",
      "text/plain": [
       "<Figure size 432x288 with 1 Axes>"
      ]
     },
     "metadata": {},
     "output_type": "display_data"
    }
   ],
   "source": [
    "plotGraphs(total_history9)"
   ]
  },
  {
   "cell_type": "code",
   "execution_count": 106,
   "metadata": {
    "scrolled": true
   },
   "outputs": [
    {
     "name": "stdout",
     "output_type": "stream",
     "text": [
      "Optimal founds:\n",
      "4.491372484909581\n",
      "10.373198904201226\n",
      "7.604076646625071\n",
      "12.83993555930499\n",
      "4.225094615639513\n",
      "7.170224548603599\n",
      "7.506175610259344\n",
      "6.115912754989402\n",
      "10.359126257072287\n",
      "11.236210315899747\n",
      "5.184832296923025\n",
      "6.310858539863085\n",
      "2.113497312435456\n",
      "17.80289178045721\n",
      "3.0761722614671427\n",
      "5.172384470529485\n",
      "10.789007130591182\n",
      "2.033289898988194\n",
      "9.13005552423839\n",
      "2.1411851704399076\n",
      "13.478711548651566\n",
      "18.81573740005579\n",
      "2.0702508053199864\n",
      "3.6903542266200233\n",
      "2.0154053266405825\n",
      "8.543392416472956\n",
      "5.053106709149995\n",
      "5.676895698030487\n",
      "19.204962187373322\n",
      "3.413050734711682\n"
     ]
    }
   ],
   "source": [
    "print(\"Optimal founds:\")\n",
    "for x in optimal_found9:\n",
    "    print(Rastrigin(np.array(x)))"
   ]
  },
  {
   "cell_type": "markdown",
   "metadata": {},
   "source": [
    "## Rosenbrock with Simulated Annealing"
   ]
  },
  {
   "cell_type": "code",
   "execution_count": 110,
   "metadata": {},
   "outputs": [
    {
     "name": "stderr",
     "output_type": "stream",
     "text": [
      "/home/woom05/Documents/deeplearning-venv/lib/python3.6/site-packages/ipykernel_launcher.py:11: RuntimeWarning: overflow encountered in exp\n",
      "  # This is added back by InteractiveShellApp.init_path()\n"
     ]
    },
    {
     "name": "stdout",
     "output_type": "stream",
     "text": [
      "(30, 1000)\n"
     ]
    }
   ],
   "source": [
    "optimal_found10 = []\n",
    "total_history10 = []\n",
    "\n",
    "for i in range(num_experiments):\n",
    "    x = np.random.random(2) * 4.096 - 2.048\n",
    "    f = Rosenbrock\n",
    "    optimum, history_loss = SimulatedAnnealing(x, f, (-2.048,2.048), t_max=1000)\n",
    "    #total_history += np.array(history_loss)\n",
    "    total_history10.append(np.array(history_loss))\n",
    "    #plt.plot([i for i in range(1,1001)], history_loss, 'b')\n",
    "    optimal_found10.append(optimum)\n",
    "\n",
    "total_history10 = np.array(total_history10)\n",
    "print(total_history10.shape)"
   ]
  },
  {
   "cell_type": "code",
   "execution_count": 111,
   "metadata": {},
   "outputs": [
    {
     "data": {
      "image/png": "[encoded data removed]",
      "text/plain": [
       "<Figure size 432x288 with 1 Axes>"
      ]
     },
     "metadata": {},
     "output_type": "display_data"
    }
   ],
   "source": [
    "plotGraphs(total_history10)"
   ]
  },
  {
   "cell_type": "code",
   "execution_count": 112,
   "metadata": {
    "scrolled": true
   },
   "outputs": [
    {
     "name": "stdout",
     "output_type": "stream",
     "text": [
      "Optimal founds:\n",
      "35.6757528384107\n",
      "26.358323801329675\n",
      "7.439385677736841\n",
      "24.880174034283165\n",
      "27.266194513016192\n",
      "13.024739407782004\n",
      "35.58161838182288\n",
      "31.10616418416251\n",
      "31.07253380754886\n",
      "27.98889713885988\n",
      "33.280361070502785\n",
      "31.52432950962038\n",
      "30.14323319317323\n",
      "22.624740581696784\n",
      "35.35967025370131\n",
      "4.065535451595796\n",
      "25.41181021470134\n",
      "24.038617357168135\n",
      "26.31607295761773\n",
      "4.688505780659703\n",
      "5.227606919003005\n",
      "8.866099179118866\n",
      "26.952235882421324\n",
      "10.276140658582072\n",
      "2.101444916560908\n",
      "24.17407385057639\n",
      "29.58285828969898\n",
      "28.97687934908145\n",
      "17.57498384380165\n",
      "26.699003435833454\n"
     ]
    }
   ],
   "source": [
    "print(\"Optimal founds:\")\n",
    "for x in optimal_found10:\n",
    "    print(Rastrigin(np.array(x)))"
   ]
  },
  {
   "cell_type": "markdown",
   "metadata": {},
   "source": [
    "# Schwefel"
   ]
  },
  {
   "cell_type": "code",
   "execution_count": 118,
   "metadata": {},
   "outputs": [],
   "source": [
    "def Schwefel(x):\n",
    "    d = len(x)\n",
    "    return 418.9829 * d + np.sum(x * np.sin(np.sqrt(np.abs(x))))\n",
    "\n",
    "def SchwefelTF(x):\n",
    "    d = len(x)\n",
    "    return 418.9829 * d + tf.reduce_sum(tf.multiply(tf.negative(x), tf.sin([tf.sqrt(abs(xi)) for xi in x])))"
   ]
  },
  {
   "cell_type": "markdown",
   "metadata": {},
   "source": [
    "## Schwefel with Newton-Raphson"
   ]
  },
  {
   "cell_type": "markdown",
   "metadata": {},
   "source": [
    "### 2-Dimensions"
   ]
  },
  {
   "cell_type": "code",
   "execution_count": 166,
   "metadata": {},
   "outputs": [
    {
     "name": "stdout",
     "output_type": "stream",
     "text": [
      "(30, 1000)\n"
     ]
    }
   ],
   "source": [
    "sess = tf.Session()\n",
    "optimal_found11 = []\n",
    "\n",
    "total_history11 = []\n",
    "\n",
    "for i in range(num_experiments):\n",
    "    x = []\n",
    "    for i in range( 2 ):\n",
    "        x.append(tf.Variable(np.random.random() * 1024 - 512))\n",
    "        \n",
    "    sess.run(tf.initialize_all_variables())\n",
    "\n",
    "    f1 = SchwefelTF(x)\n",
    "    optimum, history_loss = NewtonRaphson(x, f1, 1000)\n",
    "    #total_history += np.array(history_loss)\n",
    "    total_history11.append(np.array(history_loss))\n",
    "    #plt.plot([i for i in range(1,1001)], history_loss, 'b')\n",
    "    optimal_found11.append(optimum)\n",
    "    \n",
    "total_history11 = np.array(total_history11)\n",
    "print(total_history11.shape)\n",
    "sess.close()"
   ]
  },
  {
   "cell_type": "code",
   "execution_count": 113,
   "metadata": {},
   "outputs": [
    {
     "data": {
      "image/png": "[encoded data removed]",
      "text/plain": [
       "<Figure size 432x288 with 1 Axes>"
      ]
     },
     "metadata": {},
     "output_type": "display_data"
    }
   ],
   "source": [
    "plotGraphs(total_history11)"
   ]
  },
  {
   "cell_type": "code",
   "execution_count": 114,
   "metadata": {
    "scrolled": true
   },
   "outputs": [
    {
     "name": "stdout",
     "output_type": "stream",
     "text": [
      "Optimal founds:\n",
      "892079.4375\n",
      "268756.0625\n",
      "177251.609375\n",
      "181530.953125\n",
      "83092.6328125\n",
      "11452632.0\n",
      "218761.15625\n",
      "1755687.0\n",
      "218761.1875\n",
      "15624.3564453125\n",
      "95857.28125\n",
      "354429.6875\n",
      "42218.78515625\n",
      "268756.125\n",
      "1369933.375\n",
      "91577.984375\n",
      "268756.0625\n",
      "133087.53125\n",
      "11614259.0\n",
      "709.2341918945312\n",
      "45862.390625\n",
      "57133.91015625\n",
      "177887.34375\n",
      "354429.71875\n",
      "133087.515625\n",
      "3265434.5\n",
      "268756.09375\n",
      "95857.2890625\n",
      "354429.6875\n",
      "181530.984375\n"
     ]
    }
   ],
   "source": [
    "print(\"Optimal founds:\")\n",
    "for x in optimal_found11:\n",
    "    print(Rastrigin(np.array(x)))"
   ]
  },
  {
   "cell_type": "markdown",
   "metadata": {},
   "source": [
    "### 10-Dimensions"
   ]
  },
  {
   "cell_type": "code",
   "execution_count": null,
   "metadata": {},
   "outputs": [],
   "source": [
    "sess = tf.Session()\n",
    "optimal_found26 = []\n",
    "\n",
    "total_history26 = []\n",
    "\n",
    "for i in range(num_experiments):\n",
    "    x = []\n",
    "    for i in range( 10 ):\n",
    "        x.append(tf.Variable(np.random.random() * 10.24 - 5.12))\n",
    "        \n",
    "    sess.run(tf.initialize_all_variables())\n",
    "\n",
    "    f1 = RastriginTF(x)\n",
    "    optimum, history_loss = NewtonRaphson(x, f1, 10000)\n",
    "    #total_history += np.array(history_loss)\n",
    "    total_history26.append(np.array(history_loss))\n",
    "    #plt.plot([i for i in range(1,1001)], history_loss, 'b')\n",
    "    optimal_found26.append(optimum)\n",
    "    \n",
    "total_history26 = np.array(total_history26)\n",
    "print(total_history26.shape)\n",
    "sess.close()"
   ]
  },
  {
   "cell_type": "code",
   "execution_count": null,
   "metadata": {},
   "outputs": [],
   "source": [
    "plotGraphs(total_history26)"
   ]
  },
  {
   "cell_type": "code",
   "execution_count": null,
   "metadata": {},
   "outputs": [],
   "source": [
    "print(\"Optimal founds:\")\n",
    "for x in optimal_found26:\n",
    "    print(Rastrigin(np.array(x)))"
   ]
  },
  {
   "cell_type": "markdown",
   "metadata": {},
   "source": [
    "## Schwefel with Gradient Descent"
   ]
  },
  {
   "cell_type": "markdown",
   "metadata": {},
   "source": [
    "### 2-Dimensions"
   ]
  },
  {
   "cell_type": "code",
   "execution_count": 119,
   "metadata": {},
   "outputs": [
    {
     "name": "stdout",
     "output_type": "stream",
     "text": [
      "(30, 1000)\n"
     ]
    }
   ],
   "source": [
    "sess = tf.Session()\n",
    "optimal_found12 = []\n",
    "\n",
    "total_history12 = []\n",
    "\n",
    "for i in range(num_experiments):\n",
    "    x = []\n",
    "    for i in range( 2 ):\n",
    "        x.append(tf.Variable(np.random.random() * 1024 - 512))\n",
    "        \n",
    "    sess.run(tf.initialize_all_variables())\n",
    "\n",
    "    f1 = SchwefelTF(x)\n",
    "    optimum, history_loss = GradientDescent(x, f1, 1000, lr=0.01)\n",
    "    #total_history += np.array(history_loss)\n",
    "    total_history12.append(np.array(history_loss))\n",
    "    #plt.plot([i for i in range(1,1001)], history_loss, 'b')\n",
    "    optimal_found12.append(optimum)\n",
    "    \n",
    "total_history12 = np.array(total_history12)\n",
    "print(total_history12.shape)\n",
    "sess.close()"
   ]
  },
  {
   "cell_type": "code",
   "execution_count": 120,
   "metadata": {},
   "outputs": [
    {
     "data": {
      "image/png": "[encoded data removed]",
      "text/plain": [
       "<Figure size 432x288 with 1 Axes>"
      ]
     },
     "metadata": {},
     "output_type": "display_data"
    }
   ],
   "source": [
    "plotGraphs(total_history12)"
   ]
  },
  {
   "cell_type": "code",
   "execution_count": 121,
   "metadata": {},
   "outputs": [
    {
     "name": "stdout",
     "output_type": "stream",
     "text": [
      "Optimal founds:\n",
      "98206.3359375\n",
      "378480.0\n",
      "477240.75\n",
      "195098.59375\n",
      "332024.59375\n",
      "125450.84375\n",
      "55071.0703125\n",
      "172594.40625\n",
      "43452.50390625\n",
      "54859.9296875\n",
      "352972.4375\n",
      "606890.625\n",
      "190321.78125\n",
      "92396.375\n",
      "179079.46875\n",
      "361053.1875\n",
      "180352.90625\n",
      "130355.65625\n",
      "179840.75\n",
      "266757.9375\n",
      "95695.9609375\n",
      "62676.62109375\n",
      "347574.625\n",
      "465883.25\n",
      "260962.5625\n",
      "14803.8818359375\n",
      "170119.875\n",
      "259571.15625\n",
      "107171.859375\n",
      "84024.3359375\n"
     ]
    }
   ],
   "source": [
    "print(\"Optimal founds:\")\n",
    "for x in optimal_found12:\n",
    "    print(Rastrigin(np.array(x)))"
   ]
  },
  {
   "cell_type": "markdown",
   "metadata": {},
   "source": [
    "### 10-Dimensions"
   ]
  },
  {
   "cell_type": "code",
   "execution_count": null,
   "metadata": {},
   "outputs": [],
   "source": [
    "sess = tf.Session()\n",
    "optimal_found27 = []\n",
    "\n",
    "total_history27 = []\n",
    "\n",
    "for i in range(num_experiments):\n",
    "    x = []\n",
    "    for i in range( 10 ):\n",
    "        x.append(tf.Variable(np.random.random() * 10.24 - 5.12))\n",
    "        \n",
    "    sess.run(tf.initialize_all_variables())\n",
    "\n",
    "    f1 = RastriginTF(x)\n",
    "    optimum, history_loss = NewtonRaphson(x, f1, 10000)\n",
    "    #total_history += np.array(history_loss)\n",
    "    total_history27.append(np.array(history_loss))\n",
    "    #plt.plot([i for i in range(1,1001)], history_loss, 'b')\n",
    "    optimal_found27.append(optimum)\n",
    "    \n",
    "total_history27 = np.array(total_history27)\n",
    "print(total_history27.shape)\n",
    "sess.close()"
   ]
  },
  {
   "cell_type": "code",
   "execution_count": null,
   "metadata": {},
   "outputs": [],
   "source": [
    "plotGraphs(total_history27)"
   ]
  },
  {
   "cell_type": "code",
   "execution_count": null,
   "metadata": {},
   "outputs": [],
   "source": [
    "print(\"Optimal founds:\")\n",
    "for x in optimal_found27:\n",
    "    print(Rastrigin(np.array(x)))"
   ]
  },
  {
   "cell_type": "markdown",
   "metadata": {},
   "source": [
    "## Schwefel with Momentum"
   ]
  },
  {
   "cell_type": "code",
   "execution_count": 174,
   "metadata": {},
   "outputs": [
    {
     "name": "stdout",
     "output_type": "stream",
     "text": [
      "(30, 1000)\n"
     ]
    }
   ],
   "source": [
    "sess = tf.Session()\n",
    "optimal_found13 = []\n",
    "\n",
    "total_history13 = []\n",
    "\n",
    "for i in range(num_experiments):\n",
    "    x = []\n",
    "    for i in range( 2 ):\n",
    "        x.append(tf.Variable(np.random.random() * 1024 - 512))\n",
    "        \n",
    "    sess.run(tf.initialize_all_variables())\n",
    "\n",
    "    f1 = SchwefelTF(x)\n",
    "    optimum, history_loss = GradientDescentWithMomentum(x, f1, 1000, lr=0.01)\n",
    "    #total_history += np.array(history_loss)\n",
    "    total_history13.append(np.array(history_loss))\n",
    "    #plt.plot([i for i in range(1,1001)], history_loss, 'b')\n",
    "    optimal_found13.append(optimum)\n",
    "    \n",
    "total_history13 = np.array(total_history13)\n",
    "print(total_history13.shape)\n",
    "sess.close()"
   ]
  },
  {
   "cell_type": "code",
   "execution_count": 175,
   "metadata": {},
   "outputs": [
    {
     "data": {
      "image/png": "[encoded data removed]",
      "text/plain": [
       "<Figure size 432x288 with 1 Axes>"
      ]
     },
     "metadata": {},
     "output_type": "display_data"
    }
   ],
   "source": [
    "plotGraphs(total_history13)"
   ]
  },
  {
   "cell_type": "markdown",
   "metadata": {},
   "source": [
    "## Schwefel with Hill-Climbing"
   ]
  },
  {
   "cell_type": "code",
   "execution_count": 176,
   "metadata": {},
   "outputs": [
    {
     "name": "stdout",
     "output_type": "stream",
     "text": [
      "(30, 1000)\n"
     ]
    }
   ],
   "source": [
    "optimal_found14 = []\n",
    "total_history14 = []\n",
    "\n",
    "for i in range(num_experiments):\n",
    "    x = np.random.random(2) * 1024 - 512\n",
    "    f = Schwefel\n",
    "    optimum, history_loss = HillClimbing(x, f, (-512, 512), num_iterations=1000)\n",
    "    #total_history += np.array(history_loss)\n",
    "    total_history14.append(np.array(history_loss))\n",
    "    #plt.plot([i for i in range(1,1001)], history_loss, 'b')\n",
    "    optimal_found14.append(optimum)\n",
    "\n",
    "total_history14 = np.array(total_history14)\n",
    "print(total_history14.shape)"
   ]
  },
  {
   "cell_type": "code",
   "execution_count": 177,
   "metadata": {},
   "outputs": [
    {
     "data": {
      "image/png": "[encoded data removed]",
      "text/plain": [
       "<Figure size 432x288 with 1 Axes>"
      ]
     },
     "metadata": {},
     "output_type": "display_data"
    }
   ],
   "source": [
    "plotGraphs(total_history14)"
   ]
  },
  {
   "cell_type": "markdown",
   "metadata": {},
   "source": [
    "## Schwefel with Simulated Annealing"
   ]
  },
  {
   "cell_type": "code",
   "execution_count": 182,
   "metadata": {},
   "outputs": [
    {
     "name": "stdout",
     "output_type": "stream",
     "text": [
      "(30, 1000)\n"
     ]
    }
   ],
   "source": [
    "optimal_found15 = []\n",
    "total_history15 = []\n",
    "\n",
    "for i in range(num_experiments):\n",
    "    x = np.random.random(2) * 1024 - 512\n",
    "    f = Schwefel\n",
    "    optimum, history_loss = SimulatedAnnealing(x, f, (-512, 512), t_max=1000)\n",
    "    #total_history += np.array(history_loss)\n",
    "    total_history15.append(np.array(history_loss))\n",
    "    #plt.plot([i for i in range(1,1001)], history_loss, 'b')\n",
    "    optimal_found15.append(optimum)\n",
    "\n",
    "total_history15 = np.array(total_history15)\n",
    "print(total_history15.shape)"
   ]
  },
  {
   "cell_type": "code",
   "execution_count": 42,
   "metadata": {},
   "outputs": [
    {
     "data": {
      "image/png": "[encoded data removed]",
      "text/plain": [
       "<Figure size 432x288 with 1 Axes>"
      ]
     },
     "metadata": {},
     "output_type": "display_data"
    }
   ],
   "source": [
    "plotGraphs(total_history15)"
   ]
  },
  {
   "cell_type": "markdown",
   "metadata": {},
   "source": [
    "# Griewank"
   ]
  },
  {
   "cell_type": "code",
   "execution_count": 44,
   "metadata": {},
   "outputs": [],
   "source": [
    "def Griewank(x):\n",
    "    d = len(x)\n",
    "    return 1 + np.sum(x**2 / 4000) - np.prod(np.cos(x/np.sqrt(np.arange(1,d+1))))\n",
    "\n",
    "def GriewankTF(x):\n",
    "    d = len(x)\n",
    "    return 1 + tf.reduce_sum([xi**2/4000 for xi in x]) - tf.reduce_prod(tf.cos([x[i]/(i+1) for i in range(d)]))"
   ]
  },
  {
   "cell_type": "markdown",
   "metadata": {},
   "source": [
    "## Griewank with Newton-Raphson"
   ]
  },
  {
   "cell_type": "code",
   "execution_count": 189,
   "metadata": {},
   "outputs": [
    {
     "name": "stdout",
     "output_type": "stream",
     "text": [
      "(30, 1000)\n"
     ]
    }
   ],
   "source": [
    "sess = tf.Session()\n",
    "optimal_found16 = []\n",
    "\n",
    "total_history16 = []\n",
    "\n",
    "for i in range(num_experiments):\n",
    "    x = []\n",
    "    for i in range( 2 ):\n",
    "        x.append(tf.Variable(np.random.random() * 1200 - 600))\n",
    "        \n",
    "    sess.run(tf.initialize_all_variables())\n",
    "\n",
    "    f1 = GriewankTF(x)\n",
    "    optimum, history_loss = NewtonRaphson(x, f1, 1000)\n",
    "    #total_history += np.array(history_loss)\n",
    "    total_history16.append(np.array(history_loss))\n",
    "    #plt.plot([i for i in range(1,1001)], history_loss, 'b')\n",
    "    optimal_found16.append(optimum)\n",
    "    \n",
    "total_history16 = np.array(total_history16)\n",
    "print(total_history16.shape)\n",
    "sess.close()"
   ]
  },
  {
   "cell_type": "code",
   "execution_count": 190,
   "metadata": {},
   "outputs": [
    {
     "data": {
      "image/png": "[encoded data removed]",
      "text/plain": [
       "<Figure size 432x288 with 1 Axes>"
      ]
     },
     "metadata": {},
     "output_type": "display_data"
    }
   ],
   "source": [
    "plotGraphs(total_history16)"
   ]
  },
  {
   "cell_type": "markdown",
   "metadata": {},
   "source": [
    "## Griewank with Gradient Descent"
   ]
  },
  {
   "cell_type": "code",
   "execution_count": 49,
   "metadata": {},
   "outputs": [
    {
     "name": "stdout",
     "output_type": "stream",
     "text": [
      "(30, 1000)\n"
     ]
    }
   ],
   "source": [
    "sess = tf.Session()\n",
    "optimal_found17 = []\n",
    "\n",
    "total_history17 = []\n",
    "\n",
    "for i in range(num_experiments):\n",
    "    x = []\n",
    "    for i in range( 2 ):\n",
    "        x.append(tf.Variable(np.random.random() * 1200 - 600))\n",
    "        \n",
    "    sess.run(tf.initialize_all_variables())\n",
    "\n",
    "    f1 = GriewankTF(x)\n",
    "    optimum, history_loss = GradientDescent(x, f1, 1000, lr=0.01)\n",
    "    #total_history += np.array(history_loss)\n",
    "    total_history17.append(np.array(history_loss))\n",
    "    #plt.plot([i for i in range(1,1001)], history_loss, 'b')\n",
    "    optimal_found17.append(optimum)\n",
    "    \n",
    "total_history17 = np.array(total_history17)\n",
    "print(total_history17.shape)\n",
    "sess.close()"
   ]
  },
  {
   "cell_type": "code",
   "execution_count": 50,
   "metadata": {},
   "outputs": [
    {
     "data": {
      "image/png": "[encoded data removed]",
      "text/plain": [
       "<Figure size 432x288 with 1 Axes>"
      ]
     },
     "metadata": {},
     "output_type": "display_data"
    }
   ],
   "source": [
    "plotGraphs(total_history17)"
   ]
  },
  {
   "cell_type": "markdown",
   "metadata": {},
   "source": [
    "## Griewank with Momentum"
   ]
  },
  {
   "cell_type": "code",
   "execution_count": 51,
   "metadata": {},
   "outputs": [
    {
     "name": "stdout",
     "output_type": "stream",
     "text": [
      "(30, 1000)\n"
     ]
    }
   ],
   "source": [
    "sess = tf.Session()\n",
    "optimal_found18 = []\n",
    "\n",
    "total_history18 = []\n",
    "\n",
    "for i in range(num_experiments):\n",
    "    x = []\n",
    "    for i in range( 2 ):\n",
    "        x.append(tf.Variable(np.random.random() * 1200 - 600))\n",
    "        \n",
    "    sess.run(tf.initialize_all_variables())\n",
    "\n",
    "    f1 = GriewankTF(x)\n",
    "    optimum, history_loss = GradientDescentWithMomentum(x, f1, 1000, lr=0.01)\n",
    "    #total_history += np.array(history_loss)\n",
    "    total_history18.append(np.array(history_loss))\n",
    "    #plt.plot([i for i in range(1,1001)], history_loss, 'b')\n",
    "    optimal_found18.append(optimum)\n",
    "    \n",
    "total_history18 = np.array(total_history18)\n",
    "print(total_history18.shape)\n",
    "sess.close()"
   ]
  },
  {
   "cell_type": "code",
   "execution_count": 52,
   "metadata": {},
   "outputs": [
    {
     "data": {
      "image/png": "[encoded data removed]",
      "text/plain": [
       "<Figure size 432x288 with 1 Axes>"
      ]
     },
     "metadata": {},
     "output_type": "display_data"
    }
   ],
   "source": [
    "plotGraphs(total_history18)"
   ]
  },
  {
   "cell_type": "markdown",
   "metadata": {},
   "source": [
    "## Griewank with Hill Climbing"
   ]
  },
  {
   "cell_type": "code",
   "execution_count": 53,
   "metadata": {},
   "outputs": [
    {
     "name": "stdout",
     "output_type": "stream",
     "text": [
      "(30, 1000)\n"
     ]
    }
   ],
   "source": [
    "optimal_found19 = []\n",
    "total_history19 = []\n",
    "\n",
    "for i in range(num_experiments):\n",
    "    x = np.random.random(2) * 1200 - 600\n",
    "    f = Griewank\n",
    "    optimum, history_loss = HillClimbing(x, f, (-600, 600), num_iterations=1000)\n",
    "    #total_history += np.array(history_loss)\n",
    "    total_history19.append(np.array(history_loss))\n",
    "    #plt.plot([i for i in range(1,1001)], history_loss, 'b')\n",
    "    optimal_found19.append(optimum)\n",
    "\n",
    "total_history19 = np.array(total_history19)\n",
    "print(total_history19.shape)"
   ]
  },
  {
   "cell_type": "code",
   "execution_count": 54,
   "metadata": {},
   "outputs": [
    {
     "data": {
      "image/png": "[encoded data removed]",
      "text/plain": [
       "<Figure size 432x288 with 1 Axes>"
      ]
     },
     "metadata": {},
     "output_type": "display_data"
    }
   ],
   "source": [
    "plotGraphs(total_history19)"
   ]
  },
  {
   "cell_type": "markdown",
   "metadata": {},
   "source": [
    "## Griewank with Simulated Annealing"
   ]
  },
  {
   "cell_type": "code",
   "execution_count": 55,
   "metadata": {},
   "outputs": [
    {
     "name": "stderr",
     "output_type": "stream",
     "text": [
      "/home/woom05/Documents/deeplearning-venv/lib/python3.6/site-packages/ipykernel_launcher.py:11: RuntimeWarning: overflow encountered in exp\n",
      "  # This is added back by InteractiveShellApp.init_path()\n"
     ]
    },
    {
     "name": "stdout",
     "output_type": "stream",
     "text": [
      "(30, 1000)\n"
     ]
    }
   ],
   "source": [
    "optimal_found20 = []\n",
    "total_history20 = []\n",
    "\n",
    "for i in range(num_experiments):\n",
    "    x = np.random.random(2) * 1200 - 600\n",
    "    f = Griewank\n",
    "    optimum, history_loss = SimulatedAnnealing(x, f, (-600, 600), t_max=1000)\n",
    "    #total_history += np.array(history_loss)\n",
    "    total_history20.append(np.array(history_loss))\n",
    "    #plt.plot([i for i in range(1,1001)], history_loss, 'b')\n",
    "    optimal_found20.append(optimum)\n",
    "\n",
    "total_history20 = np.array(total_history20)\n",
    "print(total_history20.shape)"
   ]
  },
  {
   "cell_type": "code",
   "execution_count": 56,
   "metadata": {},
   "outputs": [
    {
     "data": {
      "image/png": "[encoded data removed]",
      "text/plain": [
       "<Figure size 432x288 with 1 Axes>"
      ]
     },
     "metadata": {},
     "output_type": "display_data"
    }
   ],
   "source": [
    "plotGraphs(total_history20)"
   ]
  },
  {
   "cell_type": "markdown",
   "metadata": {},
   "source": [
    "# Saving the models"
   ]
  },
  {
   "cell_type": "code",
   "execution_count": 122,
   "metadata": {},
   "outputs": [],
   "source": [
    "total_histories = [total_history, total_history2, total_history3, total_history4, total_history5, total_history6, total_history7, total_history8, total_history9, total_history10, total_history11, total_history12, total_history13, total_history14, total_history15, total_history16, total_history17, total_history18, total_history19, total_history20, total_history21]\n",
    "optimal_founds = [optimal_found1, optimal_found2, optimal_found3, optimal_found4, optimal_found5, optimal_found6, optimal_found7, optimal_found8, optimal_found9, optimal_found10, optimal_found11, optimal_found12, optimal_found13, optimal_found14, optimal_found15, optimal_found16, optimal_found17, optimal_found18, optimal_found19, optimal_found20, optimal_found21]\n",
    "\n",
    "pickle.dump(total_histories, open(\"total_histories.pickle\", 'wb'))\n",
    "pickle.dump(optimal_founds, open(\"optimal_founds.pickle\", 'wb'))"
   ]
  },
  {
   "cell_type": "code",
   "execution_count": 34,
   "metadata": {},
   "outputs": [],
   "source": [
    "total_histories = pickle.load(open(\"total_histories.pickle\", 'rb'))\n",
    "optimal_founds = pickle.load(open(\"optimal_founds.pickle\", 'rb'))"
   ]
  },
  {
   "cell_type": "code",
   "execution_count": 41,
   "metadata": {},
   "outputs": [],
   "source": [
    "total_history = total_histories[0]\n",
    "total_history2 = total_histories[1]\n",
    "total_history3 = total_histories[2]\n",
    "total_history4 = total_histories[3]\n",
    "total_history5 = total_histories[4]\n",
    "total_history6 = total_histories[5]\n",
    "total_history7 = total_histories[6]\n",
    "total_history8 = total_histories[7]\n",
    "total_history9 = total_histories[8]\n",
    "total_history10 = total_histories[9]\n",
    "total_history11 = total_histories[10]\n",
    "total_history12 = total_histories[11]\n",
    "total_history13 = total_histories[12]\n",
    "total_history14 = total_histories[13]\n",
    "total_history15 = total_histories[14]\n",
    "total_history16 = total_histories[15]\n",
    "\n",
    "optimal_found1 = optimal_found[0]\n",
    "optimal_found2 = optimal_found[1]\n",
    "optimal_found3 = optimal_found[2]\n",
    "optimal_found4 = optimal_found[3]\n",
    "optimal_found5 = optimal_found[4]\n",
    "optimal_found6 = optimal_found[5]\n",
    "optimal_found7 = optimal_found[6]\n",
    "optimal_found8 = optimal_found[7]\n",
    "optimal_found9 = optimal_found[8]\n",
    "optimal_found10 = optimal_found[9]\n",
    "optimal_found11 = optimal_found[10]\n",
    "optimal_found12 = optimal_found[11]\n",
    "optimal_found13 = optimal_found[12]\n",
    "optimal_found14 = optimal_found[13]\n",
    "optimal_found15 = optimal_found[14]\n",
    "optimal_found16 = optimal_found[15]"
   ]
  },
  {
   "cell_type": "code",
   "execution_count": null,
   "metadata": {},
   "outputs": [],
   "source": []
  }
 ],
 "metadata": {
  "kernelspec": {
   "display_name": "deepLearningKernel",
   "language": "python",
   "name": "deeplearningkernel"
  },
  "language_info": {
   "codemirror_mode": {
    "name": "ipython",
    "version": 3
   },
   "file_extension": ".py",
   "mimetype": "text/x-python",
   "name": "python",
   "nbconvert_exporter": "python",
   "pygments_lexer": "ipython3",
   "version": "3.6.3"
  }
 },
 "nbformat": 4,
 "nbformat_minor": 2
}
