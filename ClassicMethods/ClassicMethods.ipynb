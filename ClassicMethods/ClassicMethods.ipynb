{
 "cells": [
  {
   "cell_type": "code",
   "execution_count": 1,
   "metadata": {},
   "outputs": [],
   "source": [
    "import numpy as np\n",
    "import matplotlib.pyplot as plt\n",
    "from mpl_toolkits import mplot3d\n",
    "import tensorflow as tf\n",
    "import pickle\n",
    "%matplotlib inline"
   ]
  },
  {
   "cell_type": "code",
   "execution_count": 2,
   "metadata": {},
   "outputs": [],
   "source": [
    "import os\n",
    "\n",
    "os.environ[\"CUDA_VISIBLE_DEVICES\"] = \"2\""
   ]
  },
  {
   "cell_type": "markdown",
   "metadata": {},
   "source": [
    "# Methods"
   ]
  },
  {
   "cell_type": "markdown",
   "metadata": {},
   "source": [
    "## Newton-Raphson"
   ]
  },
  {
   "cell_type": "code",
   "execution_count": 3,
   "metadata": {},
   "outputs": [],
   "source": [
    "def cons(x):\n",
    "    return tf.constant(x, dtype=tf.float32)"
   ]
  },
  {
   "cell_type": "code",
   "execution_count": 4,
   "metadata": {},
   "outputs": [],
   "source": [
    "def compute_hessian(fn, vars):\n",
    "    mat = []\n",
    "    for v1 in vars:\n",
    "        temp = []\n",
    "        for v2 in vars:\n",
    "            temp.append(tf.gradients(tf.gradients(fn, v2)[0], v1)[0])\n",
    "        temp = [cons(0) if t == None else t for t in temp]\n",
    "        temp = tf.stack(temp)\n",
    "        mat.append(temp)\n",
    "    mat = tf.stack(mat)\n",
    "    return mat"
   ]
  },
  {
   "cell_type": "code",
   "execution_count": 5,
   "metadata": {},
   "outputs": [],
   "source": [
    "def compute_grads(fn, vars):\n",
    "    grads = []\n",
    "    for v in vars:\n",
    "        grads.append(tf.gradients(fn, v)[0])\n",
    "    return tf.reshape(tf.stack(grads), shape=[len(vars), -1])"
   ]
  },
  {
   "cell_type": "code",
   "execution_count": 6,
   "metadata": {},
   "outputs": [],
   "source": [
    "def optimize(all_variables, update):\n",
    "    optmize_variables = []\n",
    "    for i in range(len(all_variables)):\n",
    "        optmize_variables.append(all_variables[i].assign(all_variables[i] - tf.squeeze(update[i])))\n",
    "    return tf.stack(optmize_variables)"
   ]
  },
  {
   "cell_type": "code",
   "execution_count": 7,
   "metadata": {},
   "outputs": [],
   "source": [
    "def NewtonRaphson(x, f, num_iterations):\n",
    "    hessian = compute_hessian(f, x)\n",
    "    hessian_inv = tf.matrix_inverse(hessian)\n",
    "    g = compute_grads(f, x)\n",
    "    update = tf.unstack(tf.matmul(hessian_inv, g))\n",
    "    optimize_op = optimize(x, update)\n",
    "\n",
    "    sess = tf.Session()\n",
    "    sess.run(tf.initialize_all_variables())\n",
    "\n",
    "    func = np.inf\n",
    "    history_loss = []\n",
    "    for i in range(num_iterations):\n",
    "        prev = func\n",
    "        v, func = sess.run([x, f])\n",
    "        history_loss.append(func)\n",
    "        #print( v, func )\n",
    "        sess.run(optimize_op)\n",
    "    sess.close()\n",
    "    return v, history_loss"
   ]
  },
  {
   "cell_type": "markdown",
   "metadata": {},
   "source": [
    "### Test"
   ]
  },
  {
   "cell_type": "code",
   "execution_count": 8,
   "metadata": {},
   "outputs": [
    {
     "name": "stdout",
     "output_type": "stream",
     "text": [
      "[<tf.Variable 'Variable:0' shape=() dtype=float32_ref>, <tf.Variable 'Variable_1:0' shape=() dtype=float32_ref>]\n",
      "WARNING:tensorflow:From /home/woom05/Documents/deeplearning-venv/lib/python3.6/site-packages/tensorflow/python/util/tf_should_use.py:118: initialize_all_variables (from tensorflow.python.ops.variables) is deprecated and will be removed after 2017-03-02.\n",
      "Instructions for updating:\n",
      "Use `tf.global_variables_initializer` instead.\n",
      "([0.080415, 0.09393187], [array([ 96.33424, 175.03459], dtype=float32), array([23.041327, 38.58707 ], dtype=float32), array([ 8.563718, 11.634483], dtype=float32), array([5.703944 , 6.3105154], dtype=float32), array([5.139051 , 5.2588673], dtype=float32), array([5.027467, 5.051134], dtype=float32), array([5.0054255, 5.0101004], dtype=float32), array([5.001072, 5.001995], dtype=float32), array([5.0002117, 5.0003943], dtype=float32), array([5.000042 , 5.0000777], dtype=float32)])\n"
     ]
    }
   ],
   "source": [
    "x = []\n",
    "for i in range( 2 ):\n",
    "    x.append(tf.Variable(np.random.random() * 10.24 - 5.12))\n",
    "print(x)\n",
    "\n",
    "f = tf.pow(x, 4) + 5\n",
    "\n",
    "print(NewtonRaphson(x,f,10))"
   ]
  },
  {
   "cell_type": "code",
   "execution_count": 9,
   "metadata": {},
   "outputs": [],
   "source": [
    "tf.reset_default_graph()"
   ]
  },
  {
   "cell_type": "markdown",
   "metadata": {},
   "source": [
    "## Gradient Descent"
   ]
  },
  {
   "cell_type": "code",
   "execution_count": 10,
   "metadata": {},
   "outputs": [],
   "source": [
    "def GradientDescent(X, f, num_iterations=100, lr=0.1):\n",
    "    sess = tf.Session()\n",
    "    optimizer = tf.train.GradientDescentOptimizer(learning_rate=lr).minimize(f)\n",
    "    sess.run(tf.initialize_all_variables())\n",
    "    X_opt = None\n",
    "    history_loss = []\n",
    "    for i in range(num_iterations):\n",
    "        X_opt, _, cost = sess.run([X, optimizer, f])\n",
    "        history_loss.append(cost)\n",
    "    sess.close()\n",
    "    return X_opt, history_loss"
   ]
  },
  {
   "cell_type": "markdown",
   "metadata": {},
   "source": [
    "### Test"
   ]
  },
  {
   "cell_type": "code",
   "execution_count": 11,
   "metadata": {},
   "outputs": [
    {
     "name": "stdout",
     "output_type": "stream",
     "text": [
      "(array([ 0.51086948, -0.21657335]), [array([27.63706968,  9.06827527]), array([19.48772449,  7.60369616]), array([14.2721436 ,  6.66636553]), array([10.93417186,  6.06647393]), array([8.79786996, 5.68254331]), array([7.43063676, 5.43682771]), array([6.55560751, 5.27956974]), array([5.9955888 , 5.17892463]), array([5.63717683, 5.11451176]), array([5.40779317, 5.07328753])])\n"
     ]
    }
   ],
   "source": [
    "x = tf.get_variable(\"x\", initializer=np.random.random(2) * 10.24 - 5.12)\n",
    "\n",
    "f2 = tf.pow(x, 2) + 5\n",
    "\n",
    "print(GradientDescent(x, f2, 10, 0.1))"
   ]
  },
  {
   "cell_type": "code",
   "execution_count": 12,
   "metadata": {},
   "outputs": [],
   "source": [
    "tf.reset_default_graph()"
   ]
  },
  {
   "cell_type": "markdown",
   "metadata": {},
   "source": [
    "## Gradient Descent With Momentum"
   ]
  },
  {
   "cell_type": "code",
   "execution_count": 13,
   "metadata": {},
   "outputs": [],
   "source": [
    "def GradientDescentWithMomentum(X, f, num_iterations=100, lr=0.1, betha=0.4):\n",
    "    sess = tf.Session()\n",
    "    optimizer = tf.train.MomentumOptimizer(learning_rate=lr, momentum=betha).minimize(f)\n",
    "    sess.run(tf.initialize_all_variables())\n",
    "    X_opt = None\n",
    "    history_loss = []\n",
    "    for i in range(num_iterations):\n",
    "        X_opt, _, cost = sess.run([X, optimizer, f])\n",
    "        history_loss.append(cost)\n",
    "        #print(X_opt, cost)\n",
    "    sess.close()\n",
    "    return X_opt, history_loss"
   ]
  },
  {
   "cell_type": "markdown",
   "metadata": {},
   "source": [
    "### Test"
   ]
  },
  {
   "cell_type": "code",
   "execution_count": 14,
   "metadata": {},
   "outputs": [
    {
     "name": "stdout",
     "output_type": "stream",
     "text": [
      "(array([-0.05238128,  0.01263778]), [array([27.72925182,  6.32304458]), array([19.54672106,  5.84674852]), array([12.12789319,  5.41490677]), array([7.81624505, 5.16393051]), array([5.89468143, 5.05207842]), array([5.21509591, 5.01252049]), array([5.03175196, 5.00184825]), array([5.00080175, 5.00004667]), array([5.00139115, 5.00008098]), array([5.00314539, 5.00018309])])\n"
     ]
    }
   ],
   "source": [
    "X1 = tf.get_variable(\"X1\", initializer=np.random.random(2) * 10.24 - 5.12)\n",
    "\n",
    "f3 = tf.pow(X1, 2) + 5\n",
    "\n",
    "print(GradientDescentWithMomentum(X1, f3, 10, 0.1, 0.4))"
   ]
  },
  {
   "cell_type": "code",
   "execution_count": 15,
   "metadata": {},
   "outputs": [],
   "source": [
    "tf.reset_default_graph()"
   ]
  },
  {
   "cell_type": "markdown",
   "metadata": {},
   "source": [
    "## Hill Climbing"
   ]
  },
  {
   "cell_type": "code",
   "execution_count": 16,
   "metadata": {},
   "outputs": [],
   "source": [
    "alpha = 2.0\n",
    "\n",
    "def powerLawGenerator(x):\n",
    "    dir = np.random.choice([-1,1])\n",
    "    return dir * (1.0 - x)**(1 - alpha)"
   ]
  },
  {
   "cell_type": "code",
   "execution_count": 17,
   "metadata": {},
   "outputs": [],
   "source": [
    "def checkConstraint(x, limits):\n",
    "    x_min, x_max = limits\n",
    "    for dim in x:\n",
    "        if dim < x_min or dim > x_max:\n",
    "            return False\n",
    "    return True"
   ]
  },
  {
   "cell_type": "code",
   "execution_count": 18,
   "metadata": {},
   "outputs": [],
   "source": [
    "def HillClimbingStep(x, f, limits, delta, powerLaw):\n",
    "    n = len(x)\n",
    "    y = np.array(x)\n",
    "    fx = f(x)\n",
    "    if not powerLaw:\n",
    "        y += delta * np.random.randn(n)\n",
    "    else:\n",
    "        y += delta * powerLawGenerator(np.random.randn(n))\n",
    "    if not checkConstraint(y, limits):\n",
    "        return x\n",
    "    fx_prime = f(y)\n",
    "    return (y if fx_prime <= fx else x)"
   ]
  },
  {
   "cell_type": "code",
   "execution_count": 19,
   "metadata": {},
   "outputs": [],
   "source": [
    "def HillClimbing(x, f, limits, num_iterations=100, delta=0.6, powerLaw=True):\n",
    "    history_loss = []\n",
    "    for i in range(num_iterations):\n",
    "        x_next = HillClimbingStep(x, f, limits, delta, powerLaw)\n",
    "        x = x_next\n",
    "        history_loss.append(f(x))\n",
    "        #print(x, f(x))\n",
    "    return x, history_loss"
   ]
  },
  {
   "cell_type": "markdown",
   "metadata": {},
   "source": [
    "### Test"
   ]
  },
  {
   "cell_type": "code",
   "execution_count": 20,
   "metadata": {
    "scrolled": true
   },
   "outputs": [
    {
     "name": "stdout",
     "output_type": "stream",
     "text": [
      "(array([0.08511007, 0.18493085]), [14.949469536031119, 14.949469536031119, 7.662028702075263, 7.662028702075263, 7.662028702075263, 7.662028702075263, 7.662028702075263, 6.981909273556643, 6.981909273556643, 6.981909273556643, 6.981909273556643, 6.981909273556643, 6.981909273556643, 6.981909273556643, 5.622579582928747, 5.622579582928747, 5.622579582928747, 5.622579582928747, 5.622579582928747, 5.622579582928747, 5.6144144688611775, 5.6144144688611775, 5.6144144688611775, 5.4193546602436795, 5.4193546602436795, 5.4193546602436795, 5.4193546602436795, 5.4193546602436795, 5.4193546602436795, 5.4193546602436795, 5.4193546602436795, 5.4193546602436795, 5.4193546602436795, 5.4193546602436795, 5.086790869703147, 5.086790869703147, 5.046881699464209, 5.046881699464209, 5.046881699464209, 5.046881699464209, 5.046881699464209, 5.046881699464209, 5.046881699464209, 5.046881699464209, 5.046881699464209, 5.046881699464209, 5.046881699464209, 5.046881699464209, 5.046881699464209, 5.046881699464209, 5.046881699464209, 5.046881699464209, 5.046881699464209, 5.046881699464209, 5.046881699464209, 5.046881699464209, 5.046881699464209, 5.046881699464209, 5.046881699464209, 5.041443143565489, 5.041443143565489, 5.041443143565489, 5.041443143565489, 5.041443143565489, 5.041443143565489, 5.041443143565489, 5.041443143565489, 5.041443143565489, 5.041443143565489, 5.041443143565489, 5.041443143565489, 5.041443143565489, 5.041443143565489, 5.041443143565489, 5.041443143565489, 5.041443143565489, 5.041443143565489, 5.041443143565489, 5.041443143565489, 5.041443143565489, 5.041443143565489, 5.041443143565489, 5.041443143565489, 5.041443143565489, 5.041443143565489, 5.041443143565489, 5.041443143565489, 5.041443143565489, 5.041443143565489, 5.041443143565489, 5.041443143565489, 5.041443143565489, 5.041443143565489, 5.041443143565489, 5.041443143565489, 5.041443143565489, 5.041443143565489, 5.041443143565489, 5.041443143565489, 5.041443143565489])\n"
     ]
    }
   ],
   "source": [
    "X = np.random.random(2) * 10.24 - 5.12\n",
    "\n",
    "f4 = lambda x: np.sum(x**2) + 5\n",
    "\n",
    "print(HillClimbing(X, f4, (-5, 5)))"
   ]
  },
  {
   "cell_type": "markdown",
   "metadata": {},
   "source": [
    "## Simulated Annealing"
   ]
  },
  {
   "cell_type": "code",
   "execution_count": 21,
   "metadata": {},
   "outputs": [],
   "source": [
    "def SimulatedAnnealing(x, f, limits, t_max=1000, delta=0.6, powerLaw=True):\n",
    "    history_loss = []\n",
    "    for t in range(1, t_max + 1):\n",
    "        T = t / t_max\n",
    "        x_next = np.array(x)\n",
    "        if not powerLaw:\n",
    "            x_next += delta * np.random.randn(len(x))\n",
    "        else:\n",
    "            x_next += delta * powerLawGenerator(np.random.randn(len(x)))\n",
    "        DE = f(x_next) - f(x)\n",
    "        q = min(1,np.exp(-DE/T))\n",
    "        if checkConstraint(x_next, limits) and DE < 0:\n",
    "            x = x_next\n",
    "        elif checkConstraint(x_next, limits) and T != 0 and np.random.random() < q:\n",
    "            x = x_next\n",
    "        #print(x, f(x))\n",
    "        history_loss.append(f(x))\n",
    "    return x, history_loss"
   ]
  },
  {
   "cell_type": "markdown",
   "metadata": {},
   "source": [
    "### Test"
   ]
  },
  {
   "cell_type": "code",
   "execution_count": 22,
   "metadata": {
    "scrolled": true
   },
   "outputs": [
    {
     "name": "stdout",
     "output_type": "stream",
     "text": [
      "(array([-0.10204548, -0.44766642]), [8.172747406785579, 8.172747406785579, 7.118192440796314, 6.825804683877341, 6.825804683877341, 5.109324649229637, 5.109324649229637, 5.109324649229637, 5.015770567735356, 5.015770567735356, 5.015770567735356, 5.015770567735356, 5.015770567735356, 5.015770567735356, 5.015770567735356, 5.148134748473685, 5.148134748473685, 5.148134748473685, 5.148134748473685, 5.148134748473685, 5.148134748473685, 5.255835570879247, 5.255835570879247, 5.255835570879247, 5.255835570879247, 5.255835570879247, 5.255835570879247, 5.255835570879247, 5.255835570879247, 5.255835570879247, 5.255835570879247, 5.05392605571555, 5.4144051853195565, 5.4144051853195565, 5.3329225757149255, 5.273034527369054, 5.077554985341464, 5.077554985341464, 5.077554985341464, 5.077554985341464, 5.077554985341464, 5.077554985341464, 5.077554985341464, 5.077554985341464, 5.376620085983706, 5.252045051126356, 5.252045051126356, 5.252045051126356, 5.046323285759496, 5.046323285759496, 5.5764809141189895, 5.5764809141189895, 5.5764809141189895, 5.5764809141189895, 5.160675691882782, 5.160675691882782, 5.160675691882782, 5.160675691882782, 5.160675691882782, 5.160675691882782, 5.874863762102236, 5.874863762102236, 5.874863762102236, 5.874863762102236, 5.874863762102236, 5.2131670155097325, 5.2131670155097325, 5.2131670155097325, 5.1141466864247445, 5.074339209649653, 5.074339209649653, 5.6884535176907, 5.6884535176907, 6.912683457801474, 7.000091859119722, 7.000091859119722, 5.977532783014103, 6.499735559063547, 6.499735559063547, 6.508807576067167, 7.662511882457449, 7.662511882457449, 7.662511882457449, 5.267457588430611, 5.267457588430611, 6.7553015615572605, 7.163252616180981, 6.6018793397542375, 6.075187282049598, 6.075187282049598, 6.075187282049598, 5.424709406616162, 5.21081850288956, 5.21081850288956, 5.21081850288956, 5.21081850288956, 5.21081850288956, 5.21081850288956, 5.21081850288956, 5.21081850288956])\n"
     ]
    }
   ],
   "source": [
    "X = np.random.random(2) * 10.24 - 5.12\n",
    "\n",
    "f4 = lambda x: np.sum(x**2) + 5\n",
    "\n",
    "print(SimulatedAnnealing(X, f4, (-5.0, 5.0), t_max=100, delta=1, powerLaw=False))"
   ]
  },
  {
   "cell_type": "markdown",
   "metadata": {},
   "source": [
    "# Global Variables"
   ]
  },
  {
   "cell_type": "code",
   "execution_count": 23,
   "metadata": {},
   "outputs": [],
   "source": [
    "num_experiments = 30"
   ]
  },
  {
   "cell_type": "code",
   "execution_count": 24,
   "metadata": {},
   "outputs": [],
   "source": [
    "def standarDeviation(x):\n",
    "    return np.sqrt(np.sum((x-np.median(x))**2)/len(x))"
   ]
  },
  {
   "cell_type": "code",
   "execution_count": 25,
   "metadata": {},
   "outputs": [],
   "source": [
    "def getErrorPlot(data, num_steps=100):\n",
    "    x = list(range(0, data.shape[1], num_steps))\n",
    "    y = np.empty(0)\n",
    "    std = np.empty(0)\n",
    "    for j in range(0, data.shape[1], num_steps):\n",
    "        xj = data[:, j]\n",
    "        y = np.append(y, np.median(xj))\n",
    "        std = np.append(std, standarDeviation(xj))\n",
    "    return x, y, std"
   ]
  },
  {
   "cell_type": "code",
   "execution_count": 26,
   "metadata": {},
   "outputs": [],
   "source": [
    "def plotGraphs(graph):\n",
    "    plt.plot(list(range(1,1001)), np.average(graph, axis=0), label='Average')\n",
    "    plt.plot(list(range(1,1001)), np.median(graph, axis=0), label='Median')\n",
    "    plt.plot(list(range(1,1001)), np.min(graph, axis=0), label='Min')\n",
    "    plt.plot(list(range(1,1001)), np.max(graph, axis=0), label='Max')\n",
    "    x, y, z = getErrorPlot(graph)\n",
    "    plt.errorbar(x, y, z, marker='^', ls='None')\n",
    "    plt.legend(loc='upper right', shadow=True, fontsize = \"xx-small\")\n",
    "    plt.xlabel('iterations')\n",
    "    plt.ylabel('f(x)')"
   ]
  },
  {
   "cell_type": "code",
   "execution_count": 27,
   "metadata": {},
   "outputs": [],
   "source": [
    "def plotGraphs10D(graph):\n",
    "    plt.plot(list(range(1,10001)), np.average(graph, axis=0), label='Average')\n",
    "    plt.plot(list(range(1,10001)), np.median(graph, axis=0), label='Median')\n",
    "    plt.plot(list(range(1,10001)), np.min(graph, axis=0), label='Min')\n",
    "    plt.plot(list(range(1,10001)), np.max(graph, axis=0), label='Max')\n",
    "    x, y, z = getErrorPlot(graph, num_steps=1000)\n",
    "    plt.errorbar(x, y, z, marker='^', ls='None')\n",
    "    plt.legend(loc='upper right', shadow=True, fontsize = \"xx-small\")\n",
    "    plt.xlabel('iterations')\n",
    "    plt.ylabel('f(x)')"
   ]
  },
  {
   "cell_type": "markdown",
   "metadata": {},
   "source": [
    "# Rastrigin\n",
    "On an n-dimensional domain it is defined by:\n",
    "$$f(x) = Ad + \\sum_{i=1}^{d}x_i-Acos(2\\pi x_i)$$"
   ]
  },
  {
   "cell_type": "code",
   "execution_count": 42,
   "metadata": {},
   "outputs": [],
   "source": [
    "def Rastrigin(x):\n",
    "    A = 10\n",
    "    d = len(x)\n",
    "    return A * d + np.sum(x**2 - A * np.cos(2*np.pi*x))\n",
    "\n",
    "def RastriginTF(x):\n",
    "    A = 10\n",
    "    d = len(x)\n",
    "    return A * d + tf.reduce_sum(tf.pow(x, 2) - A * tf.cos([2 * np.pi * xi for xi in x]))"
   ]
  },
  {
   "cell_type": "markdown",
   "metadata": {},
   "source": [
    "## Plotting"
   ]
  },
  {
   "cell_type": "code",
   "execution_count": 43,
   "metadata": {},
   "outputs": [],
   "source": [
    "def RastriginPlot(x, y):\n",
    "    return 20 + (x**2 - 10 * np.cos(2*np.pi*x)) + (y**2 - 10 * np.cos(2*np.pi*y))\n",
    "\n",
    "x = np.linspace(-5.12, 5.12, 400)\n",
    "y = np.linspace(-5.12, 5.12, 400)\n",
    "X, Y = np.meshgrid(x, y)\n",
    "Z = RastriginPlot(X,Y)"
   ]
  },
  {
   "cell_type": "code",
   "execution_count": 44,
   "metadata": {
    "scrolled": true
   },
   "outputs": [
    {
     "data": {
      "image/png": "[encoded data removed]",
      "text/plain": [
       "<Figure size 432x288 with 1 Axes>"
      ]
     },
     "metadata": {},
     "output_type": "display_data"
    }
   ],
   "source": [
    "fig = plt.figure()\n",
    "ax = plt.axes(projection='3d')\n",
    "ax.contour3D(X, Y, Z, 100)\n",
    "ax.set_xlabel('x')\n",
    "ax.set_ylabel('y')\n",
    "ax.set_zlabel('z');"
   ]
  },
  {
   "cell_type": "markdown",
   "metadata": {},
   "source": [
    "## Rastrigin with Newton-Raphson"
   ]
  },
  {
   "cell_type": "markdown",
   "metadata": {},
   "source": [
    "### 2-Dimensions  "
   ]
  },
  {
   "cell_type": "code",
   "execution_count": 223,
   "metadata": {},
   "outputs": [
    {
     "name": "stdout",
     "output_type": "stream",
     "text": [
      "(30, 1000)\n"
     ]
    }
   ],
   "source": [
    "sess = tf.Session()\n",
    "optimal_found1 = []\n",
    "\n",
    "total_history = []\n",
    "\n",
    "for i in range(num_experiments):\n",
    "    x = []\n",
    "    for i in range( 2 ):\n",
    "        x.append(tf.Variable(np.random.random() * 10.24 - 5.12))\n",
    "        \n",
    "    sess.run(tf.initialize_all_variables())\n",
    "\n",
    "    f1 = RastriginTF(x)\n",
    "    optimum, history_loss = NewtonRaphson(x, f1, 1000)\n",
    "    #total_history += np.array(history_loss)\n",
    "    total_history.append(np.array(history_loss))\n",
    "    #plt.plot([i for i in range(1,1001)], history_loss, 'b')\n",
    "    optimal_found1.append(optimum)\n",
    "    \n",
    "total_history = np.array(total_history)\n",
    "print(total_history.shape)\n",
    "sess.close()"
   ]
  },
  {
   "cell_type": "code",
   "execution_count": 224,
   "metadata": {},
   "outputs": [
    {
     "data": {
      "image/png": "[encoded data removed]",
      "text/plain": [
       "<Figure size 432x288 with 1 Axes>"
      ]
     },
     "metadata": {},
     "output_type": "display_data"
    }
   ],
   "source": [
    "plotGraphs(total_history)"
   ]
  },
  {
   "cell_type": "code",
   "execution_count": 180,
   "metadata": {
    "scrolled": true
   },
   "outputs": [
    {
     "name": "stdout",
     "output_type": "stream",
     "text": [
      "Optimal founds:\n",
      "38.180702209472656\n",
      "31.838485717773438\n",
      "9.94955825805664\n",
      "35.236440658569336\n",
      "40.50254440307617\n",
      "25.868680953979492\n",
      "16.914201736450195\n",
      "30.261672019958496\n",
      "72.66572570800781\n",
      "23.256418228149414\n",
      "0.9949588775634766\n",
      "26.241291046142578\n",
      "48.54330062866211\n",
      "15.919242858886719\n",
      "80.70657348632812\n",
      "52.56371307373047\n",
      "44.522918701171875\n",
      "26.281841278076172\n",
      "49.30788612365723\n",
      "49.30788612365723\n",
      "41.34824562072754\n",
      "52.56371307373047\n",
      "54.57389831542969\n",
      "38.180702209472656\n",
      "927.4930419921875\n",
      "46.53311347961426\n",
      "0.9949588775634766\n",
      "153.07833862304688\n",
      "72.66572570800781\n",
      "33.30739784240723\n"
     ]
    }
   ],
   "source": [
    "print(\"Optimal founds:\")\n",
    "for x in optimal_found1:\n",
    "    print(Rastrigin(np.array(x)))"
   ]
  },
  {
   "cell_type": "code",
   "execution_count": 177,
   "metadata": {},
   "outputs": [],
   "source": [
    "tf.reset_default_graph()"
   ]
  },
  {
   "cell_type": "markdown",
   "metadata": {},
   "source": [
    "### 10-Dimensions"
   ]
  },
  {
   "cell_type": "code",
   "execution_count": null,
   "metadata": {},
   "outputs": [],
   "source": [
    "sess = tf.Session()\n",
    "optimal_found21 = []\n",
    "\n",
    "total_history21 = []\n",
    "\n",
    "for i in range(num_experiments):\n",
    "    x = []\n",
    "    for i in range( 10 ):\n",
    "        x.append(tf.Variable(np.random.random() * 10.24 - 5.12))\n",
    "        \n",
    "    sess.run(tf.initialize_all_variables())\n",
    "\n",
    "    f1 = RastriginTF(x)\n",
    "    optimum, history_loss = NewtonRaphson(x, f1, 10000)\n",
    "    #total_history += np.array(history_loss)\n",
    "    total_history21.append(np.array(history_loss))\n",
    "    #plt.plot([i for i in range(1,1001)], history_loss, 'b')\n",
    "    optimal_found21.append(optimum)\n",
    "    \n",
    "total_history21 = np.array(total_history21)\n",
    "print(total_history21.shape)\n",
    "sess.close()"
   ]
  },
  {
   "cell_type": "code",
   "execution_count": 188,
   "metadata": {},
   "outputs": [
    {
     "data": {
      "image/png": "[encoded data removed]",
      "text/plain": [
       "<Figure size 432x288 with 1 Axes>"
      ]
     },
     "metadata": {},
     "output_type": "display_data"
    }
   ],
   "source": [
    "plotGraphs10D(total_history21)"
   ]
  },
  {
   "cell_type": "code",
   "execution_count": 95,
   "metadata": {
    "scrolled": true
   },
   "outputs": [
    {
     "name": "stdout",
     "output_type": "stream",
     "text": [
      "Optimal founds:\n",
      "199.64142608642578\n",
      "146.9358139038086\n",
      "114.99582195281982\n",
      "243.68328857421875\n",
      "142.91526412963867\n",
      "229.56434631347656\n",
      "141.62904739379883\n",
      "140.13976287841797\n",
      "146.5834197998047\n",
      "218.70804595947266\n",
      "107.59786415100098\n",
      "1299.33837890625\n",
      "170.62559509277344\n",
      "263.1091766357422\n",
      "723.8820190429688\n",
      "200.6363754272461\n",
      "278.7104034423828\n",
      "346.8373718261719\n",
      "172.51319885253906\n",
      "138.35369110107422\n",
      "164.6620864868164\n",
      "1953.252197265625\n",
      "177.33938598632812\n",
      "226.3244400024414\n",
      "265.557861328125\n",
      "149.23715209960938\n",
      "153.13595962524414\n",
      "170.91597747802734\n",
      "318.2976989746094\n",
      "225.27981567382812\n"
     ]
    }
   ],
   "source": [
    "print(\"Optimal founds:\")\n",
    "for x in optimal_found21:\n",
    "    print(Rastrigin(np.array(x)))"
   ]
  },
  {
   "cell_type": "code",
   "execution_count": 96,
   "metadata": {},
   "outputs": [],
   "source": [
    "tf.reset_default_graph()"
   ]
  },
  {
   "cell_type": "markdown",
   "metadata": {},
   "source": [
    "## Rastrigin with Gradient Descent"
   ]
  },
  {
   "cell_type": "markdown",
   "metadata": {},
   "source": [
    "### 2-Dimensions"
   ]
  },
  {
   "cell_type": "code",
   "execution_count": null,
   "metadata": {},
   "outputs": [],
   "source": [
    "sess = tf.Session()\n",
    "optimal_found2 = []\n",
    "\n",
    "total_history2 = []\n",
    "\n",
    "for i in range(num_experiments):\n",
    "    x = []\n",
    "    for i in range( 2 ):\n",
    "        x.append(tf.Variable(np.random.random() * 10.24 - 5.12))\n",
    "        \n",
    "    sess.run(tf.initialize_all_variables())\n",
    "\n",
    "    f1 = RastriginTF(x)\n",
    "    optimum, history_loss = GradientDescent(x, f1, 1000, lr=0.01)\n",
    "    #total_history += np.array(history_loss)\n",
    "    total_history2.append(np.array(history_loss))\n",
    "    #plt.plot([i for i in range(1,1001)], history_loss, 'b')\n",
    "    optimal_found2.append(optimum)\n",
    "    \n",
    "total_history2 = np.array(total_history2)\n",
    "print(total_history2.shape)\n",
    "sess.close()"
   ]
  },
  {
   "cell_type": "code",
   "execution_count": 189,
   "metadata": {},
   "outputs": [
    {
     "data": {
      "image/png": "[encoded data removed]",
      "text/plain": [
       "<Figure size 432x288 with 1 Axes>"
      ]
     },
     "metadata": {},
     "output_type": "display_data"
    }
   ],
   "source": [
    "plotGraphs(total_history2)"
   ]
  },
  {
   "cell_type": "code",
   "execution_count": 89,
   "metadata": {
    "scrolled": true
   },
   "outputs": [
    {
     "name": "stdout",
     "output_type": "stream",
     "text": [
      "Optimal founds:\n",
      "43.87887763977051\n",
      "40.17009162902832\n",
      "4.395713806152344\n",
      "39.79482841491699\n",
      "32.74654483795166\n",
      "27.626662731170654\n",
      "44.834678649902344\n",
      "25.733779907226562\n",
      "29.194660186767578\n",
      "48.36265754699707\n",
      "26.43130874633789\n",
      "27.35896873474121\n",
      "35.586710929870605\n",
      "35.529022216796875\n",
      "39.29043006896973\n",
      "20.33817768096924\n",
      "29.096915245056152\n",
      "19.37247347831726\n",
      "27.11729621887207\n",
      "14.275048732757568\n",
      "28.744909286499023\n",
      "34.495633125305176\n",
      "35.8014612197876\n",
      "44.10295867919922\n",
      "40.21110725402832\n",
      "14.019403457641602\n",
      "23.46574854850769\n",
      "29.137435913085938\n",
      "32.45532035827637\n",
      "26.03416681289673\n"
     ]
    }
   ],
   "source": [
    "print(\"Optimal founds:\")\n",
    "for x in optimal_found2:\n",
    "    print(Rastrigin(np.array(x)))"
   ]
  },
  {
   "cell_type": "markdown",
   "metadata": {},
   "source": [
    "### 10-Dimensions"
   ]
  },
  {
   "cell_type": "code",
   "execution_count": 37,
   "metadata": {},
   "outputs": [
    {
     "name": "stdout",
     "output_type": "stream",
     "text": [
      "(30, 10000)\n"
     ]
    }
   ],
   "source": [
    "sess = tf.Session()\n",
    "optimal_found22 = []\n",
    "\n",
    "total_history22 = []\n",
    "\n",
    "for i in range(num_experiments):\n",
    "    x = []\n",
    "    for i in range( 10 ):\n",
    "        x.append(tf.Variable(np.random.random() * 10.24 - 5.12))\n",
    "        \n",
    "    sess.run(tf.initialize_all_variables())\n",
    "\n",
    "    f1 = RastriginTF(x)\n",
    "    optimum, history_loss = GradientDescent(x, f1, 10000, lr=0.01)\n",
    "    #total_history += np.array(history_loss)\n",
    "    total_history22.append(np.array(history_loss))\n",
    "    #plt.plot([i for i in range(1,1001)], history_loss, 'b')\n",
    "    optimal_found22.append(optimum)\n",
    "    \n",
    "total_history22 = np.array(total_history22)\n",
    "print(total_history22.shape)\n",
    "sess.close()"
   ]
  },
  {
   "cell_type": "code",
   "execution_count": 193,
   "metadata": {},
   "outputs": [
    {
     "data": {
      "image/png": "[encoded data removed]",
      "text/plain": [
       "<Figure size 432x288 with 1 Axes>"
      ]
     },
     "metadata": {},
     "output_type": "display_data"
    }
   ],
   "source": [
    "plotGraphs10D(total_history22)"
   ]
  },
  {
   "cell_type": "code",
   "execution_count": 36,
   "metadata": {
    "scrolled": true
   },
   "outputs": [
    {
     "name": "stdout",
     "output_type": "stream",
     "text": [
      "Optimal founds:\n",
      "164.96483612060547\n",
      "163.44109344482422\n",
      "161.04362106323242\n",
      "152.66156387329102\n",
      "168.1599884033203\n",
      "143.34291458129883\n",
      "139.5222511291504\n",
      "183.03375244140625\n",
      "134.8170166015625\n",
      "158.78728103637695\n",
      "141.59908294677734\n",
      "108.96165752410889\n",
      "189.9513397216797\n",
      "186.17536163330078\n",
      "154.7824592590332\n",
      "173.5322036743164\n",
      "183.2177734375\n",
      "160.92097854614258\n",
      "190.46197509765625\n",
      "131.9676170349121\n",
      "127.50622749328613\n",
      "146.08081817626953\n",
      "168.9621353149414\n",
      "157.50615310668945\n",
      "183.50868225097656\n",
      "171.4989242553711\n",
      "162.52804565429688\n",
      "160.09414672851562\n",
      "176.80121612548828\n",
      "146.78627014160156\n"
     ]
    }
   ],
   "source": [
    "print(\"Optimal founds:\")\n",
    "for x in optimal_found22:\n",
    "    print(Rastrigin(np.array(x)))"
   ]
  },
  {
   "cell_type": "code",
   "execution_count": 37,
   "metadata": {},
   "outputs": [],
   "source": [
    "tf.reset_default_graph()"
   ]
  },
  {
   "cell_type": "markdown",
   "metadata": {},
   "source": [
    "## Rastrigin with Momentum"
   ]
  },
  {
   "cell_type": "markdown",
   "metadata": {},
   "source": [
    "### 2-Dimensions"
   ]
  },
  {
   "cell_type": "code",
   "execution_count": 73,
   "metadata": {},
   "outputs": [
    {
     "name": "stdout",
     "output_type": "stream",
     "text": [
      "(30, 1000)\n"
     ]
    }
   ],
   "source": [
    "sess = tf.Session()\n",
    "optimal_found3 = []\n",
    "\n",
    "total_history3 = []\n",
    "\n",
    "for i in range(num_experiments):\n",
    "    x = []\n",
    "    for i in range( 2 ):\n",
    "        x.append(tf.Variable(np.random.random() * 10.24 - 5.12))\n",
    "        \n",
    "    sess.run(tf.initialize_all_variables())\n",
    "\n",
    "    f1 = RastriginTF(x)\n",
    "    optimum, history_loss = GradientDescentWithMomentum(x, f1, 1000, lr=0.01)\n",
    "    #total_history += np.array(history_loss)\n",
    "    total_history3.append(np.array(history_loss))\n",
    "    #plt.plot([i for i in range(1,1001)], history_loss, 'b')\n",
    "    optimal_found3.append(optimum)\n",
    "    \n",
    "total_history3 = np.array(total_history3)\n",
    "print(total_history3.shape)\n",
    "sess.close()"
   ]
  },
  {
   "cell_type": "code",
   "execution_count": 194,
   "metadata": {},
   "outputs": [
    {
     "data": {
      "image/png": "[encoded data removed]",
      "text/plain": [
       "<Figure size 432x288 with 1 Axes>"
      ]
     },
     "metadata": {},
     "output_type": "display_data"
    }
   ],
   "source": [
    "plotGraphs(total_history3)"
   ]
  },
  {
   "cell_type": "code",
   "execution_count": 39,
   "metadata": {
    "scrolled": true
   },
   "outputs": [
    {
     "name": "stdout",
     "output_type": "stream",
     "text": [
      "Optimal founds:\n",
      "16.054221391677856\n",
      "45.58212471008301\n",
      "41.51041793823242\n",
      "21.124197840690613\n",
      "16.054223775863647\n",
      "19.249613285064697\n",
      "35.52626132965088\n",
      "24.146577835083008\n",
      "16.282244205474854\n",
      "16.282246589660645\n",
      "21.869359254837036\n",
      "53.53273391723633\n",
      "21.109208583831787\n",
      "48.96734046936035\n",
      "24.304597854614258\n",
      "16.282244205474854\n",
      "23.614449977874756\n",
      "21.64133644104004\n",
      "18.84697914123535\n",
      "18.15683114528656\n",
      "38.345319747924805\n",
      "22.27199101448059\n",
      "17.928808212280273\n",
      "43.470726013183594\n",
      "34.48457145690918\n",
      "24.146577835083008\n",
      "18.15683114528656\n",
      "21.337231397628784\n",
      "18.618956327438354\n",
      "19.249610900878906\n"
     ]
    }
   ],
   "source": [
    "print(\"Optimal founds:\")\n",
    "for x in optimal_found3:\n",
    "    print(Rastrigin(np.array(x)))"
   ]
  },
  {
   "cell_type": "markdown",
   "metadata": {},
   "source": [
    "### 10-Dimensions"
   ]
  },
  {
   "cell_type": "code",
   "execution_count": 85,
   "metadata": {},
   "outputs": [
    {
     "name": "stdout",
     "output_type": "stream",
     "text": [
      "(30, 10000)\n"
     ]
    }
   ],
   "source": [
    "sess = tf.Session()\n",
    "optimal_found23 = []\n",
    "\n",
    "total_history23 = []\n",
    "\n",
    "for i in range(num_experiments):\n",
    "    x = []\n",
    "    for i in range( 10 ):\n",
    "        x.append(tf.Variable(np.random.random() * 10.24 - 5.12))\n",
    "        \n",
    "    sess.run(tf.initialize_all_variables())\n",
    "    \n",
    "    f1 = RastriginTF(x)\n",
    "    optimum, history_loss = GradientDescentWithMomentum(x, f1, 10000, lr=0.01)\n",
    "    #total_history += np.array(history_loss)\n",
    "    total_history23.append(np.array(history_loss))\n",
    "    #plt.plot([i for i in range(1,1001)], history_loss, 'b')\n",
    "    optimal_found23.append(optimum)\n",
    "    \n",
    "total_history23 = np.array(total_history23)\n",
    "print(total_history23.shape)\n",
    "sess.close()"
   ]
  },
  {
   "cell_type": "code",
   "execution_count": 195,
   "metadata": {},
   "outputs": [
    {
     "data": {
      "image/png": "[encoded data removed]",
      "text/plain": [
       "<Figure size 432x288 with 1 Axes>"
      ]
     },
     "metadata": {},
     "output_type": "display_data"
    }
   ],
   "source": [
    "plotGraphs10D(total_history23)"
   ]
  },
  {
   "cell_type": "code",
   "execution_count": 87,
   "metadata": {
    "scrolled": true
   },
   "outputs": [
    {
     "name": "stdout",
     "output_type": "stream",
     "text": [
      "Optimal founds:\n",
      "99.29209661483765\n",
      "144.41814041137695\n",
      "87.94424247741699\n",
      "119.15935325622559\n",
      "115.9575424194336\n",
      "132.45343017578125\n",
      "89.73769474029541\n",
      "102.6936469078064\n",
      "156.43847274780273\n",
      "142.47405242919922\n",
      "121.87905502319336\n",
      "115.94523334503174\n",
      "126.62247276306152\n",
      "138.11521911621094\n",
      "152.72478103637695\n",
      "134.96770095825195\n",
      "171.0356674194336\n",
      "115.56133365631104\n",
      "122.93380928039551\n",
      "103.61789679527283\n",
      "93.12934589385986\n",
      "118.22324752807617\n",
      "110.21722888946533\n",
      "127.30320167541504\n",
      "103.36214303970337\n",
      "98.29881715774536\n",
      "82.65515518188477\n",
      "116.01677703857422\n",
      "140.98926162719727\n",
      "158.22586822509766\n"
     ]
    }
   ],
   "source": [
    "print(\"Optimal founds:\")\n",
    "for x in optimal_found23:\n",
    "    print(Rastrigin(np.array(x)))"
   ]
  },
  {
   "cell_type": "code",
   "execution_count": 88,
   "metadata": {},
   "outputs": [],
   "source": [
    "tf.reset_default_graph()"
   ]
  },
  {
   "cell_type": "markdown",
   "metadata": {},
   "source": [
    "## Rastrigin with Hill-Climbing"
   ]
  },
  {
   "cell_type": "markdown",
   "metadata": {},
   "source": [
    "### 2-Dimensions"
   ]
  },
  {
   "cell_type": "code",
   "execution_count": 77,
   "metadata": {},
   "outputs": [
    {
     "name": "stdout",
     "output_type": "stream",
     "text": [
      "(30, 1000)\n"
     ]
    }
   ],
   "source": [
    "optimal_found4 = []\n",
    "total_history4 = []\n",
    "\n",
    "for i in range(num_experiments):\n",
    "    x = np.random.random(2) * 10.24 - 5.12\n",
    "    f = Rastrigin\n",
    "    optimum, history_loss = HillClimbing(x, f, (-5.12,5.12), num_iterations=1000)\n",
    "    #total_history += np.array(history_loss)\n",
    "    total_history4.append(np.array(history_loss))\n",
    "    #plt.plot([i for i in range(1,1001)], history_loss, 'b')\n",
    "    optimal_found4.append(optimum)\n",
    "\n",
    "total_history4 = np.array(total_history4)\n",
    "print(total_history4.shape)"
   ]
  },
  {
   "cell_type": "code",
   "execution_count": 196,
   "metadata": {},
   "outputs": [
    {
     "data": {
      "image/png": "[encoded data removed]",
      "text/plain": [
       "<Figure size 432x288 with 1 Axes>"
      ]
     },
     "metadata": {},
     "output_type": "display_data"
    }
   ],
   "source": [
    "plotGraphs(total_history4)"
   ]
  },
  {
   "cell_type": "code",
   "execution_count": 48,
   "metadata": {
    "scrolled": true
   },
   "outputs": [
    {
     "name": "stdout",
     "output_type": "stream",
     "text": [
      "Optimal founds:\n",
      "1.277248569821296\n",
      "1.2713212861596688\n",
      "2.268107833903926\n",
      "1.1428137756336199\n",
      "1.2242145586294981\n",
      "1.240925410770906\n",
      "2.865720081942328\n",
      "2.56470616616096\n",
      "1.4181255070608927\n",
      "1.0351103190609052\n",
      "2.50767591080103\n",
      "1.2330108226990433\n",
      "4.538272053766098\n",
      "3.0768754460006065\n",
      "0.6016028596680627\n",
      "2.797540746717285\n",
      "0.9959736285290077\n",
      "1.8926494685121682\n",
      "1.3221001286675573\n",
      "1.0727811436629437\n",
      "1.26992644314209\n",
      "0.47856180084635724\n",
      "1.4420308793511154\n",
      "1.1405609917780595\n",
      "1.7388196253231953\n",
      "4.145320613407801\n",
      "3.2007116734868077\n",
      "2.279024289503262\n",
      "3.756959481973521\n",
      "3.1844562117708506\n"
     ]
    }
   ],
   "source": [
    "print(\"Optimal founds:\")\n",
    "for x in optimal_found4:\n",
    "    print(Rastrigin(np.array(x)))"
   ]
  },
  {
   "cell_type": "markdown",
   "metadata": {},
   "source": [
    "### 10-Dimensions"
   ]
  },
  {
   "cell_type": "code",
   "execution_count": 89,
   "metadata": {},
   "outputs": [
    {
     "name": "stdout",
     "output_type": "stream",
     "text": [
      "(30, 10000)\n"
     ]
    }
   ],
   "source": [
    "optimal_found24 = []\n",
    "total_history24 = []\n",
    "\n",
    "for i in range(num_experiments):\n",
    "    x = np.random.random(10) * 10.24 - 5.12\n",
    "    f = Rastrigin\n",
    "    optimum, history_loss = HillClimbing(x, f, (-5.12,5.12), num_iterations=10000)\n",
    "    #total_history += np.array(history_loss)\n",
    "    total_history24.append(np.array(history_loss))\n",
    "    #plt.plot([i for i in range(1,1001)], history_loss, 'b')\n",
    "    optimal_found24.append(optimum)\n",
    "\n",
    "total_history24 = np.array(total_history24)\n",
    "print(total_history24.shape)"
   ]
  },
  {
   "cell_type": "code",
   "execution_count": 197,
   "metadata": {},
   "outputs": [
    {
     "data": {
      "image/png": "[encoded data removed]",
      "text/plain": [
       "<Figure size 432x288 with 1 Axes>"
      ]
     },
     "metadata": {},
     "output_type": "display_data"
    }
   ],
   "source": [
    "plotGraphs10D(total_history24)"
   ]
  },
  {
   "cell_type": "code",
   "execution_count": 91,
   "metadata": {
    "scrolled": true
   },
   "outputs": [
    {
     "name": "stdout",
     "output_type": "stream",
     "text": [
      "Optimal founds:\n",
      "56.82087435967602\n",
      "52.98486425314493\n",
      "51.00121768596045\n",
      "57.91280902158795\n",
      "73.55501480517715\n",
      "53.301480011895066\n",
      "60.16943890573872\n",
      "62.08516648924095\n",
      "62.353044361169026\n",
      "72.25037928549841\n",
      "71.01316150204498\n",
      "51.082316814640535\n",
      "49.743145539219036\n",
      "76.55062095417031\n",
      "56.545003005263894\n",
      "65.82483632661075\n",
      "54.557265384820035\n",
      "75.69770221458919\n",
      "72.14661037398614\n",
      "56.32639971617346\n",
      "59.614152143215456\n",
      "63.56901173206613\n",
      "64.29478866108195\n",
      "78.38884543381504\n",
      "49.665756358258015\n",
      "51.9872588733466\n",
      "55.540429568325244\n",
      "63.0727690097618\n",
      "65.62298401921561\n",
      "58.966180326109814\n"
     ]
    }
   ],
   "source": [
    "print(\"Optimal founds:\")\n",
    "for x in optimal_found24:\n",
    "    print(Rastrigin(np.array(x)))"
   ]
  },
  {
   "cell_type": "markdown",
   "metadata": {},
   "source": [
    "## Rastrigin with Simulated Annealing"
   ]
  },
  {
   "cell_type": "markdown",
   "metadata": {},
   "source": [
    "### 2-Dimensions"
   ]
  },
  {
   "cell_type": "code",
   "execution_count": 61,
   "metadata": {},
   "outputs": [
    {
     "name": "stderr",
     "output_type": "stream",
     "text": [
      "/home/ofnanezn/deepspeech-venv/lib/python3.6/site-packages/ipykernel_launcher.py:11: RuntimeWarning: overflow encountered in exp\n",
      "  # This is added back by InteractiveShellApp.init_path()\n"
     ]
    },
    {
     "name": "stdout",
     "output_type": "stream",
     "text": [
      "(30, 1000)\n"
     ]
    }
   ],
   "source": [
    "optimal_found5 = []\n",
    "total_history5 = []\n",
    "\n",
    "for i in range(num_experiments):\n",
    "    x = np.random.random(2) * 10.24 - 5.12\n",
    "    f = Rastrigin\n",
    "    optimum, history_loss = SimulatedAnnealing(x, f, (-5.12,5.12), t_max=1000, delta=1)\n",
    "    #total_history += np.array(history_loss)\n",
    "    total_history5.append(np.array(history_loss))\n",
    "    #plt.plot([i for i in range(1,1001)], history_loss, 'b')\n",
    "    optimal_found5.append(optimum)\n",
    "\n",
    "total_history5 = np.array(total_history5)\n",
    "print(total_history5.shape)"
   ]
  },
  {
   "cell_type": "code",
   "execution_count": 198,
   "metadata": {},
   "outputs": [
    {
     "data": {
      "image/png": "[encoded data removed]",
      "text/plain": [
       "<Figure size 432x288 with 1 Axes>"
      ]
     },
     "metadata": {},
     "output_type": "display_data"
    }
   ],
   "source": [
    "plotGraphs(total_history5)"
   ]
  },
  {
   "cell_type": "code",
   "execution_count": 63,
   "metadata": {
    "scrolled": true
   },
   "outputs": [
    {
     "name": "stdout",
     "output_type": "stream",
     "text": [
      "Optimal founds:\n",
      "2.2374460301800134\n",
      "1.8995524960173995\n",
      "5.189559022903371\n",
      "1.7100511071378008\n",
      "0.2750994572843304\n",
      "1.627192880522287\n",
      "0.8771177424520111\n",
      "2.6581130565470694\n",
      "1.0530549885179568\n",
      "2.4220147338740716\n",
      "3.899507271768968\n",
      "3.0200135128397\n",
      "1.4289411654060444\n",
      "0.7677895908403904\n",
      "0.2283319257372156\n",
      "3.095915947402112\n",
      "1.3898728309195363\n",
      "3.56729917395435\n",
      "0.9391428368410217\n",
      "1.097795736151454\n",
      "1.5922141455756602\n",
      "2.1509327981315423\n",
      "3.2877658315986196\n",
      "2.111938465523483\n",
      "1.4584792153279622\n",
      "1.8222500625714204\n",
      "6.307612399806869\n",
      "2.1597040625077213\n",
      "1.3485147534491801\n",
      "1.5184924564537106\n"
     ]
    }
   ],
   "source": [
    "print(\"Optimal founds:\")\n",
    "for x in optimal_found5:\n",
    "    print(Rastrigin(np.array(x)))"
   ]
  },
  {
   "cell_type": "markdown",
   "metadata": {},
   "source": [
    "### 10-Dimensions"
   ]
  },
  {
   "cell_type": "code",
   "execution_count": 100,
   "metadata": {},
   "outputs": [
    {
     "name": "stderr",
     "output_type": "stream",
     "text": [
      "/home/woom05/Documents/deeplearning-venv/lib/python3.6/site-packages/ipykernel_launcher.py:11: RuntimeWarning: overflow encountered in exp\n",
      "  # This is added back by InteractiveShellApp.init_path()\n"
     ]
    },
    {
     "name": "stdout",
     "output_type": "stream",
     "text": [
      "(30, 10000)\n"
     ]
    }
   ],
   "source": [
    "optimal_found25 = []\n",
    "total_history25 = []\n",
    "\n",
    "for i in range(num_experiments):\n",
    "    x = np.random.random(10) * 10.24 - 5.12\n",
    "    f = Rastrigin\n",
    "    optimum, history_loss = SimulatedAnnealing(x, f, (-5.12,5.12), t_max=10000)\n",
    "    #total_history += np.array(history_loss)\n",
    "    total_history25.append(np.array(history_loss))\n",
    "    #plt.plot([i for i in range(1,1001)], history_loss, 'b')\n",
    "    optimal_found25.append(optimum)\n",
    "\n",
    "total_history25 = np.array(total_history25)\n",
    "print(total_history25.shape)"
   ]
  },
  {
   "cell_type": "code",
   "execution_count": 199,
   "metadata": {},
   "outputs": [
    {
     "data": {
      "image/png": "[encoded data removed]",
      "text/plain": [
       "<Figure size 432x288 with 1 Axes>"
      ]
     },
     "metadata": {},
     "output_type": "display_data"
    }
   ],
   "source": [
    "plotGraphs10D(total_history25)"
   ]
  },
  {
   "cell_type": "code",
   "execution_count": 102,
   "metadata": {
    "scrolled": true
   },
   "outputs": [
    {
     "name": "stdout",
     "output_type": "stream",
     "text": [
      "Optimal founds:\n",
      "59.145278976814446\n",
      "55.887873524920764\n",
      "76.77103894217849\n",
      "69.20793770165606\n",
      "75.87348408826729\n",
      "60.267129048240065\n",
      "55.7036295110125\n",
      "68.8484552334337\n",
      "57.03870981704921\n",
      "63.92985711495767\n",
      "77.37486313054102\n",
      "76.23515761123768\n",
      "46.39155919696445\n",
      "65.63081061773097\n",
      "59.47674339230706\n",
      "66.05220530318908\n",
      "64.69713539707098\n",
      "58.39162941080513\n",
      "64.46779798667895\n",
      "60.915605795493164\n",
      "69.25348493834993\n",
      "63.628279695571756\n",
      "48.232033709546116\n",
      "87.77533373144763\n",
      "53.18402231915342\n",
      "72.34129128693773\n",
      "40.821478347092864\n",
      "79.1645521837118\n",
      "42.74669703042928\n",
      "58.153946354826665\n"
     ]
    }
   ],
   "source": [
    "print(\"Optimal founds:\")\n",
    "for x in optimal_found25:\n",
    "    print(Rastrigin(np.array(x)))"
   ]
  },
  {
   "cell_type": "markdown",
   "metadata": {},
   "source": [
    "# Rosenbrock"
   ]
  },
  {
   "cell_type": "code",
   "execution_count": 49,
   "metadata": {},
   "outputs": [],
   "source": [
    "def Rosenbrock(x):\n",
    "    return 100 * (x[0]**2-x[1])**2 + (1-x[0])**2\n",
    "\n",
    "def RosenbrockTF(x):\n",
    "    return 100 * tf.pow(tf.pow(x[0]-tf.pow(x[1], 2), 2), 2) + tf.pow(1-x[0], 2) "
   ]
  },
  {
   "cell_type": "markdown",
   "metadata": {},
   "source": [
    "## Rosenbrock with Newton-Raphson"
   ]
  },
  {
   "cell_type": "code",
   "execution_count": null,
   "metadata": {},
   "outputs": [],
   "source": [
    "sess = tf.Session()\n",
    "optimal_found6 = []\n",
    "\n",
    "total_history6 = []\n",
    "\n",
    "for i in range(num_experiments):\n",
    "    x = []\n",
    "    for i in range( 2 ):\n",
    "        x.append(tf.Variable(np.random.random() * 4.096 - 2.048))\n",
    "        \n",
    "    sess.run(tf.initialize_all_variables())\n",
    "\n",
    "    f1 = RosenbrockTF(x)\n",
    "    optimum, history_loss = NewtonRaphson(x, f1, 1000)\n",
    "    #total_history += np.array(history_loss)\n",
    "    total_history6.append(np.array(history_loss))\n",
    "    #plt.plot([i for i in range(1,1001)], history_loss, 'b')\n",
    "    optimal_found6.append(optimum)\n",
    "    \n",
    "total_history6 = np.array(total_history6)\n",
    "print(total_history6.shape)\n",
    "sess.close()"
   ]
  },
  {
   "cell_type": "code",
   "execution_count": 200,
   "metadata": {},
   "outputs": [
    {
     "data": {
      "image/png": "[encoded data removed]",
      "text/plain": [
       "<Figure size 432x288 with 1 Axes>"
      ]
     },
     "metadata": {},
     "output_type": "display_data"
    }
   ],
   "source": [
    "plotGraphs(total_history6)"
   ]
  },
  {
   "cell_type": "code",
   "execution_count": 86,
   "metadata": {
    "scrolled": true
   },
   "outputs": [
    {
     "name": "stdout",
     "output_type": "stream",
     "text": [
      "Optimal founds:\n",
      "0.7711096853441534\n",
      "0.7711096853441534\n",
      "1.4210854715202004e-12\n",
      "1.4210854715202004e-12\n",
      "0.7711096853441534\n",
      "1.4210854715202004e-12\n",
      "1.4210854715202004e-12\n",
      "400.00004768371724\n",
      "1.4210854715202004e-12\n",
      "400.00004768371724\n",
      "400.00004768371724\n",
      "1.4210854715202004e-12\n",
      "1.4210854715202004e-12\n",
      "0.7711096853441557\n",
      "1.4210854715202004e-12\n",
      "400.00004768371724\n",
      "1.4210854715202004e-12\n",
      "1.4210854715202004e-12\n",
      "400.00004768371724\n",
      "1.4210854715202004e-12\n",
      "1.4210854715202004e-12\n",
      "0.7711096853441534\n",
      "400.00004768371724\n",
      "400.00004768371724\n",
      "1.4210854715202004e-12\n",
      "0.7711096853441534\n",
      "400.00004768371724\n",
      "1.4210854715202004e-12\n",
      "400.00004768371724\n",
      "1.4210854715202004e-12\n"
     ]
    }
   ],
   "source": [
    "print(\"Optimal founds:\")\n",
    "for x in optimal_found6:\n",
    "    print(Rosenbrock(np.array(x)))"
   ]
  },
  {
   "cell_type": "markdown",
   "metadata": {},
   "source": [
    "## Rosenbrock with Gradient Descent"
   ]
  },
  {
   "cell_type": "code",
   "execution_count": 190,
   "metadata": {},
   "outputs": [
    {
     "name": "stdout",
     "output_type": "stream",
     "text": [
      "(30, 1000)\n"
     ]
    }
   ],
   "source": [
    "sess = tf.Session()\n",
    "optimal_found7 = []\n",
    "\n",
    "total_history7 = []\n",
    "\n",
    "\n",
    "for i in range(num_experiments):\n",
    "    x = []\n",
    "    for i in range( 2 ):\n",
    "        x.append(tf.Variable(np.random.random() * 3.0 - 1.5))\n",
    "        \n",
    "    sess.run(tf.initialize_all_variables())\n",
    "\n",
    "    f1 = RosenbrockTF(x)\n",
    "    optimum, history_loss = GradientDescent(x, f1, 1000, lr=0.01)\n",
    "    #total_history += np.array(history_loss)\n",
    "    total_history7.append(np.array(history_loss))\n",
    "    #plt.plot([i for i in range(1,1001)], history_loss, 'b')\n",
    "    optimal_found7.append(optimum)\n",
    "    \n",
    "total_history7 = np.array(total_history7)\n",
    "print(total_history7.shape)\n",
    "sess.close()"
   ]
  },
  {
   "cell_type": "code",
   "execution_count": 191,
   "metadata": {},
   "outputs": [
    {
     "name": "stderr",
     "output_type": "stream",
     "text": [
      "/home/woom05/Documents/deeplearning-venv/lib/python3.6/site-packages/numpy/lib/function_base.py:4033: RuntimeWarning: Invalid value encountered in median for 997 results\n",
      "  r = func(a, **kwargs)\n",
      "/home/woom05/Documents/deeplearning-venv/lib/python3.6/site-packages/numpy/lib/function_base.py:4033: RuntimeWarning: Invalid value encountered in median\n",
      "  r = func(a, **kwargs)\n"
     ]
    },
    {
     "data": {
      "image/png": "[encoded data removed]",
      "text/plain": [
       "<Figure size 432x288 with 1 Axes>"
      ]
     },
     "metadata": {},
     "output_type": "display_data"
    }
   ],
   "source": [
    "plotGraphs(total_history7)"
   ]
  },
  {
   "cell_type": "code",
   "execution_count": 192,
   "metadata": {
    "scrolled": true
   },
   "outputs": [
    {
     "name": "stdout",
     "output_type": "stream",
     "text": [
      "Optimal founds:\n",
      "nan\n",
      "nan\n",
      "nan\n",
      "0.000987592004879201\n",
      "nan\n",
      "nan\n",
      "nan\n",
      "nan\n",
      "0.0011481795187974712\n",
      "nan\n",
      "nan\n",
      "0.0012092813734750922\n",
      "0.0010723994206635926\n",
      "nan\n",
      "0.0012747751583491698\n",
      "nan\n",
      "nan\n",
      "nan\n",
      "nan\n",
      "0.0012691204220638633\n",
      "nan\n",
      "401.4042778773695\n",
      "nan\n",
      "nan\n",
      "398.55922708515504\n",
      "nan\n",
      "398.44897563217376\n",
      "nan\n",
      "nan\n",
      "nan\n"
     ]
    }
   ],
   "source": [
    "print(\"Optimal founds:\")\n",
    "for x in optimal_found7:\n",
    "    print(Rosenbrock(np.array(x)))"
   ]
  },
  {
   "cell_type": "markdown",
   "metadata": {},
   "source": [
    "## Rosenbrock with Momentum"
   ]
  },
  {
   "cell_type": "code",
   "execution_count": 119,
   "metadata": {},
   "outputs": [
    {
     "name": "stdout",
     "output_type": "stream",
     "text": [
      "(30, 1000)\n"
     ]
    }
   ],
   "source": [
    "sess = tf.Session()\n",
    "optimal_found8 = []\n",
    "\n",
    "total_history8 = []\n",
    "\n",
    "for i in range(num_experiments):\n",
    "    x = []\n",
    "    for i in range( 2 ):\n",
    "        x.append(tf.Variable(np.random.random() * 4.096 - 2.048))\n",
    "        \n",
    "    sess.run(tf.initialize_all_variables())\n",
    "\n",
    "    f1 = RosenbrockTF(x)\n",
    "    optimum, history_loss = GradientDescentWithMomentum(x, f1, 1000, lr=0.01)\n",
    "    #total_history += np.array(history_loss)\n",
    "    total_history8.append(np.array(history_loss))\n",
    "    #plt.plot([i for i in range(1,1001)], history_loss, 'b')\n",
    "    optimal_found8.append(optimum)\n",
    "    \n",
    "total_history8 = np.array(total_history8)\n",
    "print(total_history8.shape)\n",
    "sess.close()"
   ]
  },
  {
   "cell_type": "code",
   "execution_count": 89,
   "metadata": {},
   "outputs": [
    {
     "name": "stderr",
     "output_type": "stream",
     "text": [
      "/home/ofnanezn/deepspeech-venv/lib/python3.6/site-packages/numpy/lib/function_base.py:3250: RuntimeWarning: Invalid value encountered in median for 997 results\n",
      "  r = func(a, **kwargs)\n",
      "/home/ofnanezn/deepspeech-venv/lib/python3.6/site-packages/numpy/lib/function_base.py:3250: RuntimeWarning: Invalid value encountered in median\n",
      "  r = func(a, **kwargs)\n"
     ]
    },
    {
     "data": {
      "image/png": "[encoded data removed]",
      "text/plain": [
       "<Figure size 432x288 with 1 Axes>"
      ]
     },
     "metadata": {
      "needs_background": "light"
     },
     "output_type": "display_data"
    }
   ],
   "source": [
    "plotGraphs(total_history8)"
   ]
  },
  {
   "cell_type": "code",
   "execution_count": 90,
   "metadata": {
    "scrolled": true
   },
   "outputs": [
    {
     "name": "stdout",
     "output_type": "stream",
     "text": [
      "Optimal founds:\n",
      "nan\n",
      "0.0005040335165299186\n",
      "nan\n",
      "nan\n",
      "nan\n",
      "nan\n",
      "nan\n",
      "nan\n",
      "nan\n",
      "nan\n",
      "nan\n",
      "nan\n",
      "nan\n",
      "0.0005749337120746844\n",
      "nan\n",
      "nan\n",
      "nan\n",
      "nan\n",
      "nan\n",
      "nan\n",
      "nan\n",
      "398.9674805671066\n",
      "nan\n",
      "nan\n",
      "nan\n",
      "nan\n",
      "nan\n",
      "nan\n",
      "nan\n",
      "nan\n"
     ]
    }
   ],
   "source": [
    "print(\"Optimal founds:\")\n",
    "for x in optimal_found8:\n",
    "    print(Rosenbrock(np.array(x)))"
   ]
  },
  {
   "cell_type": "markdown",
   "metadata": {},
   "source": [
    "## Rosenbrock with Hill-Climbing"
   ]
  },
  {
   "cell_type": "code",
   "execution_count": 127,
   "metadata": {},
   "outputs": [
    {
     "name": "stdout",
     "output_type": "stream",
     "text": [
      "(30, 1000)\n"
     ]
    }
   ],
   "source": [
    "optimal_found9 = []\n",
    "total_history9 = []\n",
    "\n",
    "for i in range(num_experiments):\n",
    "    x = np.random.random(2) * 4.096 - 2.48\n",
    "    f = Rosenbrock\n",
    "    optimum, history_loss = HillClimbing(x, f, (-2.048,2.048), num_iterations=1000)\n",
    "    #total_history += np.array(history_loss)\n",
    "    total_history9.append(np.array(history_loss))\n",
    "    #plt.plot([i for i in range(1,1001)], history_loss, 'b')\n",
    "    optimal_found9.append(optimum)\n",
    "\n",
    "total_history9 = np.array(total_history9)\n",
    "print(total_history9.shape)"
   ]
  },
  {
   "cell_type": "code",
   "execution_count": 201,
   "metadata": {},
   "outputs": [
    {
     "data": {
      "image/png": "[encoded data removed]",
      "text/plain": [
       "<Figure size 432x288 with 1 Axes>"
      ]
     },
     "metadata": {},
     "output_type": "display_data"
    }
   ],
   "source": [
    "plotGraphs(total_history9)"
   ]
  },
  {
   "cell_type": "code",
   "execution_count": 91,
   "metadata": {
    "scrolled": true
   },
   "outputs": [
    {
     "name": "stdout",
     "output_type": "stream",
     "text": [
      "Optimal founds:\n",
      "0.002685143795012273\n",
      "0.05534042404520613\n",
      "0.012421963789456567\n",
      "0.011402417054536181\n",
      "0.02825517892941205\n",
      "0.03566655921862947\n",
      "0.02933824964002627\n",
      "0.004340338636597912\n",
      "0.008083864050835048\n",
      "0.012459979811081434\n",
      "0.03745709305344968\n",
      "0.01213482920412181\n",
      "0.02634905288331008\n",
      "0.02420337207443383\n",
      "0.04952673817416602\n",
      "0.02395764103760262\n",
      "0.010457549045358236\n",
      "0.008196757881769578\n",
      "0.009819175624649148\n",
      "0.03558382568308974\n",
      "0.01606873632597822\n",
      "0.06668291758229411\n",
      "0.01000099501827673\n",
      "0.00762562977899908\n",
      "0.019285969287823484\n",
      "0.008355843551068158\n",
      "0.016541549014543338\n",
      "0.0034714280318286473\n",
      "0.02921915637120365\n",
      "0.0018328792215759275\n"
     ]
    }
   ],
   "source": [
    "print(\"Optimal founds:\")\n",
    "for x in optimal_found9:\n",
    "    print(Rosenbrock(np.array(x)))"
   ]
  },
  {
   "cell_type": "markdown",
   "metadata": {},
   "source": [
    "## Rosenbrock with Simulated Annealing"
   ]
  },
  {
   "cell_type": "code",
   "execution_count": 110,
   "metadata": {},
   "outputs": [
    {
     "name": "stderr",
     "output_type": "stream",
     "text": [
      "/home/woom05/Documents/deeplearning-venv/lib/python3.6/site-packages/ipykernel_launcher.py:11: RuntimeWarning: overflow encountered in exp\n",
      "  # This is added back by InteractiveShellApp.init_path()\n"
     ]
    },
    {
     "name": "stdout",
     "output_type": "stream",
     "text": [
      "(30, 1000)\n"
     ]
    }
   ],
   "source": [
    "optimal_found10 = []\n",
    "total_history10 = []\n",
    "\n",
    "for i in range(num_experiments):\n",
    "    x = np.random.random(2) * 4.096 - 2.048\n",
    "    f = Rosenbrock\n",
    "    optimum, history_loss = SimulatedAnnealing(x, f, (-2.048,2.048), t_max=1000)\n",
    "    #total_history += np.array(history_loss)\n",
    "    total_history10.append(np.array(history_loss))\n",
    "    #plt.plot([i for i in range(1,1001)], history_loss, 'b')\n",
    "    optimal_found10.append(optimum)\n",
    "\n",
    "total_history10 = np.array(total_history10)\n",
    "print(total_history10.shape)"
   ]
  },
  {
   "cell_type": "code",
   "execution_count": 202,
   "metadata": {},
   "outputs": [
    {
     "data": {
      "image/png": "[encoded data removed]",
      "text/plain": [
       "<Figure size 432x288 with 1 Axes>"
      ]
     },
     "metadata": {},
     "output_type": "display_data"
    }
   ],
   "source": [
    "plotGraphs(total_history10)"
   ]
  },
  {
   "cell_type": "code",
   "execution_count": 93,
   "metadata": {
    "scrolled": true
   },
   "outputs": [
    {
     "name": "stdout",
     "output_type": "stream",
     "text": [
      "Optimal founds:\n",
      "0.7394755324840284\n",
      "2.072461240640256\n",
      "1.1554498609323072\n",
      "0.17172209581231632\n",
      "1.8659563056415198\n",
      "0.38697903975101455\n",
      "1.4151150712499112\n",
      "0.23515977187795437\n",
      "0.1631138124837067\n",
      "0.8429923021973557\n",
      "0.11262848916778248\n",
      "0.3334891506145581\n",
      "3.4380350337750927\n",
      "0.22888087375172209\n",
      "0.2413614055531917\n",
      "2.1307010708314476\n",
      "0.9360931890145118\n",
      "0.029590830550618407\n",
      "1.43821176416307\n",
      "0.30318231383361643\n",
      "0.01845483260145386\n",
      "2.801401008232098\n",
      "4.174196062804733\n",
      "0.7644599057663524\n",
      "0.1173262978838137\n",
      "0.1685250410767283\n",
      "2.1308781150175333\n",
      "0.32270362632824945\n",
      "1.7770291346240237\n",
      "0.4278600141282882\n"
     ]
    }
   ],
   "source": [
    "print(\"Optimal founds:\")\n",
    "for x in optimal_found10:\n",
    "    print(Rosenbrock(np.array(x)))"
   ]
  },
  {
   "cell_type": "markdown",
   "metadata": {},
   "source": [
    "# Schwefel"
   ]
  },
  {
   "cell_type": "code",
   "execution_count": 57,
   "metadata": {},
   "outputs": [],
   "source": [
    "def Schwefel(x):\n",
    "    d = len(x)\n",
    "    return 418.9829 * d + np.sum(-x * np.sin(np.sqrt(np.abs(x))))\n",
    "\n",
    "def SchwefelTF(x):\n",
    "    d = len(x)\n",
    "    return 418.9829 * d + tf.reduce_sum(tf.multiply(tf.negative(x), tf.sin([tf.sqrt(abs(xi)) for xi in x])))"
   ]
  },
  {
   "cell_type": "markdown",
   "metadata": {},
   "source": [
    "## Schwefel with Newton-Raphson"
   ]
  },
  {
   "cell_type": "markdown",
   "metadata": {},
   "source": [
    "### 2-Dimensions"
   ]
  },
  {
   "cell_type": "code",
   "execution_count": 166,
   "metadata": {},
   "outputs": [
    {
     "name": "stdout",
     "output_type": "stream",
     "text": [
      "(30, 1000)\n"
     ]
    }
   ],
   "source": [
    "sess = tf.Session()\n",
    "optimal_found11 = []\n",
    "\n",
    "total_history11 = []\n",
    "\n",
    "for i in range(num_experiments):\n",
    "    x = []\n",
    "    for i in range( 2 ):\n",
    "        x.append(tf.Variable(np.random.random() * 1024 - 512))\n",
    "        \n",
    "    sess.run(tf.initialize_all_variables())\n",
    "\n",
    "    f1 = SchwefelTF(x)\n",
    "    optimum, history_loss = NewtonRaphson(x, f1, 1000)\n",
    "    #total_history += np.array(history_loss)\n",
    "    total_history11.append(np.array(history_loss))\n",
    "    #plt.plot([i for i in range(1,1001)], history_loss, 'b')\n",
    "    optimal_found11.append(optimum)\n",
    "    \n",
    "total_history11 = np.array(total_history11)\n",
    "print(total_history11.shape)\n",
    "sess.close()"
   ]
  },
  {
   "cell_type": "code",
   "execution_count": 203,
   "metadata": {},
   "outputs": [
    {
     "data": {
      "image/png": "[encoded data removed]",
      "text/plain": [
       "<Figure size 432x288 with 1 Axes>"
      ]
     },
     "metadata": {},
     "output_type": "display_data"
    }
   ],
   "source": [
    "plotGraphs(total_history11)"
   ]
  },
  {
   "cell_type": "code",
   "execution_count": 58,
   "metadata": {
    "scrolled": true
   },
   "outputs": [
    {
     "name": "stdout",
     "output_type": "stream",
     "text": [
      "Optimal founds:\n",
      "245.78220624999994\n",
      "956.4041544921874\n",
      "1260.8939616210937\n",
      "482.61789960937494\n",
      "434.27939863281244\n",
      "-2419.02882890625\n",
      "620.826166821289\n",
      "2347.061747265625\n",
      "620.8261210449218\n",
      "956.8966776855468\n",
      "1074.8753764160156\n",
      "0.00010175781244470272\n",
      "1063.8919779785156\n",
      "118.43833417968744\n",
      "-671.137959765625\n",
      "1134.5650431640624\n",
      "719.5274455078124\n",
      "335.5780436523437\n",
      "3798.853739453125\n",
      "865.994063092041\n",
      "572.4876200683593\n",
      "758.998758984375\n",
      "394.8999430664062\n",
      "837.9657694824218\n",
      "936.6671244628906\n",
      "-839.891621875\n",
      "719.5274760253906\n",
      "601.0562388427734\n",
      "0.00010175781244470272\n",
      "355.34791059570307\n"
     ]
    }
   ],
   "source": [
    "print(\"Optimal founds:\")\n",
    "for x in optimal_found11:\n",
    "    print(Schwefel(np.array(x)))"
   ]
  },
  {
   "cell_type": "markdown",
   "metadata": {},
   "source": [
    "### 10-Dimensions"
   ]
  },
  {
   "cell_type": "code",
   "execution_count": 51,
   "metadata": {
    "scrolled": true
   },
   "outputs": [
    {
     "name": "stdout",
     "output_type": "stream",
     "text": [
      "(30, 10000)\n"
     ]
    }
   ],
   "source": [
    "sess = tf.Session()\n",
    "optimal_found26 = []\n",
    "\n",
    "total_history26 = []\n",
    "\n",
    "for i in range(num_experiments):\n",
    "    x = []\n",
    "    for i in range( 10 ):\n",
    "        x.append(tf.Variable(np.random.random() * 1024 - 512))\n",
    "        \n",
    "    sess.run(tf.initialize_all_variables())\n",
    "\n",
    "    f1 = SchwefelTF(x)\n",
    "    optimum, history_loss = NewtonRaphson(x, f1, 10000)\n",
    "    #total_history += np.array(history_loss)\n",
    "    total_history26.append(np.array(history_loss))\n",
    "    #plt.plot([i for i in range(1,1001)], history_loss, 'b')\n",
    "    optimal_found26.append(optimum)\n",
    "    \n",
    "total_history26 = np.array(total_history26)\n",
    "print(total_history26.shape)\n",
    "sess.close()"
   ]
  },
  {
   "cell_type": "code",
   "execution_count": 204,
   "metadata": {},
   "outputs": [
    {
     "data": {
      "image/png": "[encoded data removed]",
      "text/plain": [
       "<Figure size 432x288 with 1 Axes>"
      ]
     },
     "metadata": {},
     "output_type": "display_data"
    }
   ],
   "source": [
    "plotGraphs10D(total_history26)"
   ]
  },
  {
   "cell_type": "code",
   "execution_count": 53,
   "metadata": {
    "scrolled": true
   },
   "outputs": [
    {
     "name": "stdout",
     "output_type": "stream",
     "text": [
      "Optimal founds:\n",
      "3863.037618164062\n",
      "2928.4425253906247\n",
      "1535.9867148437497\n",
      "4909.356404785156\n",
      "3989.4227042236325\n",
      "6034.503560546875\n",
      "9857.54384375\n",
      "4407.0005698242185\n",
      "3382.910359863281\n",
      "3334.144795898437\n",
      "2384.618672851562\n",
      "2601.214620117187\n",
      "6359.305318359375\n",
      "3156.509297851562\n",
      "3599.6969199218747\n",
      "3262.459981445312\n",
      "2788.2013144531247\n",
      "2485.284688476562\n",
      "4850.161824707031\n",
      "5018.87343359375\n",
      "4102.618855957031\n",
      "4683.219380859375\n",
      "4486.059285644531\n",
      "4200.7354331054685\n",
      "4878.2200522460935\n",
      "4443.952275756836\n",
      "4167.459060195923\n",
      "3895.8628439941403\n",
      "4012.802175048828\n",
      "2404.385030273437\n"
     ]
    }
   ],
   "source": [
    "print(\"Optimal founds:\")\n",
    "for x in optimal_found26:\n",
    "    print(Schwefel(np.array(x)))"
   ]
  },
  {
   "cell_type": "code",
   "execution_count": 54,
   "metadata": {},
   "outputs": [],
   "source": [
    "tf.reset_default_graph()"
   ]
  },
  {
   "cell_type": "markdown",
   "metadata": {},
   "source": [
    "## Schwefel with Gradient Descent"
   ]
  },
  {
   "cell_type": "markdown",
   "metadata": {},
   "source": [
    "### 2-Dimensions"
   ]
  },
  {
   "cell_type": "code",
   "execution_count": 119,
   "metadata": {},
   "outputs": [
    {
     "name": "stdout",
     "output_type": "stream",
     "text": [
      "(30, 1000)\n"
     ]
    }
   ],
   "source": [
    "sess = tf.Session()\n",
    "optimal_found12 = []\n",
    "\n",
    "total_history12 = []\n",
    "\n",
    "for i in range(num_experiments):\n",
    "    x = []\n",
    "    for i in range( 2 ):\n",
    "        x.append(tf.Variable(np.random.random() * 1024 - 512))\n",
    "        \n",
    "    sess.run(tf.initialize_all_variables())\n",
    "\n",
    "    f1 = SchwefelTF(x)\n",
    "    optimum, history_loss = GradientDescent(x, f1, 1000, lr=0.01)\n",
    "    #total_history += np.array(history_loss)\n",
    "    total_history12.append(np.array(history_loss))\n",
    "    #plt.plot([i for i in range(1,1001)], history_loss, 'b')\n",
    "    optimal_found12.append(optimum)\n",
    "    \n",
    "total_history12 = np.array(total_history12)\n",
    "print(total_history12.shape)\n",
    "sess.close()"
   ]
  },
  {
   "cell_type": "code",
   "execution_count": 205,
   "metadata": {},
   "outputs": [
    {
     "data": {
      "image/png": "[encoded data removed]",
      "text/plain": [
       "<Figure size 432x288 with 1 Axes>"
      ]
     },
     "metadata": {},
     "output_type": "display_data"
    }
   ],
   "source": [
    "plotGraphs(total_history12)"
   ]
  },
  {
   "cell_type": "code",
   "execution_count": 56,
   "metadata": {
    "scrolled": true
   },
   "outputs": [
    {
     "name": "stdout",
     "output_type": "stream",
     "text": [
      "Optimal founds:\n",
      "1196.4262187011718\n",
      "1623.4280802734374\n",
      "1764.6685587890624\n",
      "1405.6649577148437\n",
      "1533.464579296875\n",
      "882.112055493164\n",
      "1158.2392069824218\n",
      "1275.9534708984374\n",
      "1097.197275830078\n",
      "937.7036616333007\n",
      "1675.684305859375\n",
      "1932.9952189453124\n",
      "1307.4253947265624\n",
      "1197.1666666992187\n",
      "1280.7854411132812\n",
      "1670.53855390625\n",
      "1353.8518473632812\n",
      "1333.5457560546874\n",
      "1312.1566264160156\n",
      "1556.9900309570312\n",
      "1202.0961100585937\n",
      "1144.9664408691406\n",
      "1650.195536328125\n",
      "1763.3749796875\n",
      "1547.6785685546874\n",
      "963.2505671508789\n",
      "1222.554697705078\n",
      "1534.7821452148437\n",
      "1249.1051432617187\n",
      "1138.9141642578124\n"
     ]
    }
   ],
   "source": [
    "print(\"Optimal founds:\")\n",
    "for x in optimal_found12:\n",
    "    print(Schwefel(np.array(x)))"
   ]
  },
  {
   "cell_type": "markdown",
   "metadata": {},
   "source": [
    "### 10-Dimensions"
   ]
  },
  {
   "cell_type": "code",
   "execution_count": 59,
   "metadata": {},
   "outputs": [
    {
     "name": "stdout",
     "output_type": "stream",
     "text": [
      "(30, 10000)\n"
     ]
    }
   ],
   "source": [
    "sess = tf.Session()\n",
    "optimal_found27 = []\n",
    "\n",
    "total_history27 = []\n",
    "\n",
    "for i in range(num_experiments):\n",
    "    x = []\n",
    "    for i in range( 10 ):\n",
    "        x.append(tf.Variable(np.random.random() * 1024 - 512))\n",
    "        \n",
    "    sess.run(tf.initialize_all_variables())\n",
    "\n",
    "    f1 = SchwefelTF(x)\n",
    "    optimum, history_loss = NewtonRaphson(x, f1, 10000)\n",
    "    #total_history += np.array(history_loss)\n",
    "    total_history27.append(np.array(history_loss))\n",
    "    #plt.plot([i for i in range(1,1001)], history_loss, 'b')\n",
    "    optimal_found27.append(optimum)\n",
    "    \n",
    "total_history27 = np.array(total_history27)\n",
    "print(total_history27.shape)\n",
    "sess.close()"
   ]
  },
  {
   "cell_type": "code",
   "execution_count": 206,
   "metadata": {},
   "outputs": [
    {
     "data": {
      "image/png": "[encoded data removed]",
      "text/plain": [
       "<Figure size 432x288 with 1 Axes>"
      ]
     },
     "metadata": {},
     "output_type": "display_data"
    }
   ],
   "source": [
    "plotGraphs10D(total_history27)"
   ]
  },
  {
   "cell_type": "code",
   "execution_count": 61,
   "metadata": {
    "scrolled": true
   },
   "outputs": [
    {
     "name": "stdout",
     "output_type": "stream",
     "text": [
      "Optimal founds:\n",
      "4672.907643798828\n",
      "2976.6685996093747\n",
      "6387.886373046875\n",
      "4098.229291442871\n",
      "10179.6483359375\n",
      "5716.601827148437\n",
      "4573.653615478515\n",
      "4505.7178549804685\n",
      "5087.020528320312\n",
      "5453.249166015625\n",
      "3518.1476035156247\n",
      "3647.9810996093747\n",
      "3519.183614257812\n",
      "3382.4918417968747\n",
      "4712.5354819335935\n",
      "6262.501119140625\n",
      "2840.7096152343747\n",
      "2869.3678183593747\n",
      "4593.468709472656\n",
      "4850.148091796875\n",
      "-870.8668007812503\n",
      "2524.815450195312\n",
      "3520.7562460937497\n",
      "2711.3028769531247\n",
      "5095.920857910156\n",
      "1782.9710898437497\n",
      "3349.981648925781\n",
      "3794.9290366210935\n",
      "4564.9676108398435\n",
      "3134.738790039062\n"
     ]
    }
   ],
   "source": [
    "print(\"Optimal founds:\")\n",
    "for x in optimal_found27:\n",
    "    print(Schwefel(np.array(x)))"
   ]
  },
  {
   "cell_type": "markdown",
   "metadata": {},
   "source": [
    "## Schwefel with Momentum"
   ]
  },
  {
   "cell_type": "markdown",
   "metadata": {},
   "source": [
    "### 2-Dimensions"
   ]
  },
  {
   "cell_type": "code",
   "execution_count": 174,
   "metadata": {},
   "outputs": [
    {
     "name": "stdout",
     "output_type": "stream",
     "text": [
      "(30, 1000)\n"
     ]
    }
   ],
   "source": [
    "sess = tf.Session()\n",
    "optimal_found13 = []\n",
    "\n",
    "total_history13 = []\n",
    "\n",
    "for i in range(num_experiments):\n",
    "    x = []\n",
    "    for i in range( 2 ):\n",
    "        x.append(tf.Variable(np.random.random() * 1024 - 512))\n",
    "        \n",
    "    sess.run(tf.initialize_all_variables())\n",
    "\n",
    "    f1 = SchwefelTF(x)\n",
    "    optimum, history_loss = GradientDescentWithMomentum(x, f1, 1000, lr=0.01)\n",
    "    #total_history += np.array(history_loss)\n",
    "    total_history13.append(np.array(history_loss))\n",
    "    #plt.plot([i for i in range(1,1001)], history_loss, 'b')\n",
    "    optimal_found13.append(optimum)\n",
    "    \n",
    "total_history13 = np.array(total_history13)\n",
    "print(total_history13.shape)\n",
    "sess.close()"
   ]
  },
  {
   "cell_type": "code",
   "execution_count": 207,
   "metadata": {},
   "outputs": [
    {
     "data": {
      "image/png": "[encoded data removed]",
      "text/plain": [
       "<Figure size 432x288 with 1 Axes>"
      ]
     },
     "metadata": {},
     "output_type": "display_data"
    }
   ],
   "source": [
    "plotGraphs(total_history13)"
   ]
  },
  {
   "cell_type": "code",
   "execution_count": 104,
   "metadata": {
    "scrolled": true
   },
   "outputs": [
    {
     "name": "stdout",
     "output_type": "stream",
     "text": [
      "Optimal founds:\n",
      "-271.40273027343756\n",
      "572.5292765625\n",
      "-19.009785937500055\n",
      "238.1217448242187\n",
      "790.0074946411132\n",
      "118.46287031249994\n",
      "437.2905680664062\n",
      "513.4791056640624\n",
      "158.3508708007812\n",
      "414.7865397460937\n",
      "79.14036054687494\n",
      "355.5138346679687\n",
      "604.9188029296874\n",
      "79.18137617187494\n",
      "414.5981852539062\n",
      "572.544169140625\n",
      "16.711588574218695\n",
      "421.83716840820307\n",
      "-134.3827717773438\n",
      "513.3558451660156\n",
      "0.0588175781249447\n",
      "519.4983622558593\n",
      "485.5504557617187\n",
      "-17.370076464843805\n",
      "652.7414652832031\n",
      "473.81873579101557\n",
      "118.5101725585937\n",
      "218.09690351562494\n",
      "159.0319010742187\n",
      "789.8721110351562\n"
     ]
    }
   ],
   "source": [
    "print(\"Optimal founds:\")\n",
    "for x in optimal_found13:\n",
    "    print(Schwefel(np.array(x)))"
   ]
  },
  {
   "cell_type": "markdown",
   "metadata": {},
   "source": [
    "### 10-Dimensions"
   ]
  },
  {
   "cell_type": "code",
   "execution_count": 105,
   "metadata": {},
   "outputs": [
    {
     "name": "stdout",
     "output_type": "stream",
     "text": [
      "(30, 10000)\n"
     ]
    }
   ],
   "source": [
    "sess = tf.Session()\n",
    "optimal_found28 = []\n",
    "\n",
    "total_history28 = []\n",
    "\n",
    "for i in range(num_experiments):\n",
    "    x = []\n",
    "    for i in range( 10 ):\n",
    "        x.append(tf.Variable(np.random.random() * 1024 - 512))\n",
    "        \n",
    "    sess.run(tf.initialize_all_variables())\n",
    "\n",
    "    f1 = SchwefelTF(x)\n",
    "    optimum, history_loss = GradientDescentWithMomentum(x, f1, 10000, lr=0.01)\n",
    "    #total_history += np.array(history_loss)\n",
    "    total_history28.append(np.array(history_loss))\n",
    "    #plt.plot([i for i in range(1,1001)], history_loss, 'b')\n",
    "    optimal_found28.a--ppend(optimum)\n",
    "    \n",
    "total_history28 = np.array(total_history28)\n",
    "print(total_history28.shape)\n",
    "sess.close()"
   ]
  },
  {
   "cell_type": "code",
   "execution_count": 208,
   "metadata": {},
   "outputs": [
    {
     "data": {
      "image/png": "[encoded data removed]",
      "text/plain": [
       "<Figure size 432x288 with 1 Axes>"
      ]
     },
     "metadata": {},
     "output_type": "display_data"
    }
   ],
   "source": [
    "plotGraphs10D(total_history28)"
   ]
  },
  {
   "cell_type": "code",
   "execution_count": 108,
   "metadata": {
    "scrolled": true
   },
   "outputs": [
    {
     "name": "stdout",
     "output_type": "stream",
     "text": [
      "Optimal founds:\n",
      "1915.2835898437497\n",
      "2408.9046835937497\n",
      "1184.4344687499997\n",
      "1520.0772910156247\n",
      "1835.8570761718747\n",
      "1697.7765097656247\n",
      "1303.3363242187497\n",
      "1520.0750937499997\n",
      "1144.9915976562497\n",
      "1441.5296835937497\n",
      "809.4725546874997\n",
      "829.0863242187497\n",
      "1223.9095664062497\n",
      "2073.3387656249997\n",
      "1085.7303671874997\n",
      "1598.9915976562497\n",
      "1638.6073203124997\n",
      "2053.6937460937497\n",
      "1579.7054648437497\n",
      "1875.4090781249997\n",
      "2467.6224570312497\n",
      "1599.2730917968747\n",
      "1441.0489707031247\n",
      "1460.9107871093747\n",
      "1046.2581992187497\n",
      "1599.5638632812497\n",
      "1243.7562460937497\n",
      "1539.8302207031247\n",
      "1362.2264609374997\n",
      "2251.0782675781247\n"
     ]
    }
   ],
   "source": [
    "print(\"Optimal founds:\")\n",
    "for x in optimal_found28:\n",
    "    print(Schwefel(np.array(x)))"
   ]
  },
  {
   "cell_type": "markdown",
   "metadata": {},
   "source": [
    "## Schwefel with Hill-Climbing"
   ]
  },
  {
   "cell_type": "markdown",
   "metadata": {},
   "source": [
    "### 2-Dimensions"
   ]
  },
  {
   "cell_type": "code",
   "execution_count": 109,
   "metadata": {},
   "outputs": [
    {
     "name": "stdout",
     "output_type": "stream",
     "text": [
      "(30, 1000)\n"
     ]
    }
   ],
   "source": [
    "optimal_found14 = []\n",
    "total_history14 = []\n",
    "\n",
    "for i in range(num_experiments):\n",
    "    x = np.random.random(2) * 1024 - 512\n",
    "    f = Schwefel\n",
    "    optimum, history_loss = HillClimbing(x, f, (-512, 512), num_iterations=1000)\n",
    "    #total_history += np.array(history_loss)\n",
    "    total_history14.append(np.array(history_loss))\n",
    "    #plt.plot([i for i in range(1,1001)], history_loss, 'b')\n",
    "    optimal_found14.append(optimum)\n",
    "\n",
    "total_history14 = np.array(total_history14)\n",
    "print(total_history14.shape)"
   ]
  },
  {
   "cell_type": "code",
   "execution_count": 209,
   "metadata": {},
   "outputs": [
    {
     "data": {
      "image/png": "[encoded data removed]",
      "text/plain": [
       "<Figure size 432x288 with 1 Axes>"
      ]
     },
     "metadata": {},
     "output_type": "display_data"
    }
   ],
   "source": [
    "plotGraphs(total_history14)"
   ]
  },
  {
   "cell_type": "code",
   "execution_count": 133,
   "metadata": {
    "scrolled": true
   },
   "outputs": [
    {
     "name": "stdout",
     "output_type": "stream",
     "text": [
      "Optimal founds:\n",
      "333.0332776779435\n",
      "411.5896049378566\n",
      "236.8832848691627\n",
      "296.1092699103367\n",
      "513.340853934139\n",
      "335.58670204386914\n",
      "414.5473644136664\n",
      "236.8797257838237\n",
      "296.10782442597156\n",
      "434.2819149764907\n",
      "217.14375536230318\n",
      "513.2747017493243\n",
      "296.10859612174306\n",
      "414.54767256490254\n",
      "335.5820429977458\n",
      "118.44414627137212\n",
      "414.54844537116935\n",
      "411.5967350962328\n",
      "0.008391754568378929\n",
      "0.0017602216021259665\n",
      "118.43980781751793\n",
      "414.54680641747285\n",
      "474.64029958383344\n",
      "118.52316507826265\n",
      "296.11080314764786\n",
      "296.1081369313081\n",
      "471.5080624643648\n",
      "572.4904536543007\n",
      "335.5804462209681\n",
      "355.3552646015568\n"
     ]
    }
   ],
   "source": [
    "print(\"Optimal founds:\")\n",
    "for x in optimal_found14:\n",
    "    print(Schwefel(np.array(x)))"
   ]
  },
  {
   "cell_type": "markdown",
   "metadata": {},
   "source": [
    "### 10-Dimensions"
   ]
  },
  {
   "cell_type": "code",
   "execution_count": 112,
   "metadata": {},
   "outputs": [
    {
     "name": "stdout",
     "output_type": "stream",
     "text": [
      "(30, 10000)\n"
     ]
    }
   ],
   "source": [
    "optimal_found29 = []\n",
    "total_history29 = []\n",
    "\n",
    "for i in range(num_experiments):\n",
    "    x = np.random.random(10) * 1024 - 512\n",
    "    f = Schwefel\n",
    "    optimum, history_loss = HillClimbing(x, f, (-512, 512), num_iterations=10000)\n",
    "    #total_history += np.array(history_loss)\n",
    "    total_history29.append(np.array(history_loss))\n",
    "    #plt.plot([i for i in range(1,1001)], history_loss, 'b')\n",
    "    optimal_found29.append(optimum)\n",
    "\n",
    "total_history29 = np.array(total_history29)\n",
    "print(total_history29.shape)"
   ]
  },
  {
   "cell_type": "code",
   "execution_count": 210,
   "metadata": {},
   "outputs": [
    {
     "data": {
      "image/png": "[encoded data removed]",
      "text/plain": [
       "<Figure size 432x288 with 1 Axes>"
      ]
     },
     "metadata": {},
     "output_type": "display_data"
    }
   ],
   "source": [
    "plotGraphs10D(total_history29)"
   ]
  },
  {
   "cell_type": "code",
   "execution_count": 115,
   "metadata": {
    "scrolled": true
   },
   "outputs": [
    {
     "name": "stdout",
     "output_type": "stream",
     "text": [
      "Optimal founds:\n",
      "474.37090374392665\n",
      "594.9048797645337\n",
      "592.3327381932995\n",
      "809.1188693543095\n",
      "772.5488281803036\n",
      "1114.2956856339742\n",
      "1048.3649256162103\n",
      "237.04694563368366\n",
      "793.5109921732101\n",
      "474.0080680804185\n",
      "1250.6466167787298\n",
      "473.9655116734398\n",
      "1243.5436238076845\n",
      "237.27727668383932\n",
      "475.6202570112464\n",
      "577.7690992283228\n",
      "572.5532524223554\n",
      "1362.5185708563517\n",
      "597.6436986272988\n",
      "703.729116044834\n",
      "591.8877185947836\n",
      "356.5853073137755\n",
      "590.5586345772508\n",
      "694.3953695555924\n",
      "691.6503911414547\n",
      "709.6661169925046\n",
      "691.075149057734\n",
      "592.3700874282345\n",
      "573.0884116930315\n",
      "1027.6793935367791\n"
     ]
    }
   ],
   "source": [
    "print(\"Optimal founds:\")\n",
    "for x in optimal_found29:\n",
    "    print(Schwefel(np.array(x)))"
   ]
  },
  {
   "cell_type": "markdown",
   "metadata": {},
   "source": [
    "## Schwefel with Simulated Annealing"
   ]
  },
  {
   "cell_type": "markdown",
   "metadata": {},
   "source": [
    "### 2-Dimensions"
   ]
  },
  {
   "cell_type": "code",
   "execution_count": 138,
   "metadata": {},
   "outputs": [
    {
     "name": "stderr",
     "output_type": "stream",
     "text": [
      "/home/woom05/Documents/deeplearning-venv/lib/python3.6/site-packages/ipykernel_launcher.py:11: RuntimeWarning: overflow encountered in exp\n",
      "  # This is added back by InteractiveShellApp.init_path()\n"
     ]
    },
    {
     "name": "stdout",
     "output_type": "stream",
     "text": [
      "(30, 1000)\n"
     ]
    }
   ],
   "source": [
    "optimal_found15 = []\n",
    "total_history15 = []\n",
    "\n",
    "for i in range(num_experiments):\n",
    "    x = np.random.random(2) * 1024 - 512\n",
    "    f = Schwefel\n",
    "    optimum, history_loss = SimulatedAnnealing(x, f, (-512, 512), t_max=1000)\n",
    "    #total_history += np.array(history_loss)\n",
    "    total_history15.append(np.array(history_loss))\n",
    "    #plt.plot([i for i in range(1,1001)], history_loss, 'b')\n",
    "    optimal_found15.append(optimum)\n",
    "\n",
    "total_history15 = np.array(total_history15)\n",
    "print(total_history15.shape)"
   ]
  },
  {
   "cell_type": "code",
   "execution_count": 211,
   "metadata": {},
   "outputs": [
    {
     "data": {
      "image/png": "[encoded data removed]",
      "text/plain": [
       "<Figure size 432x288 with 1 Axes>"
      ]
     },
     "metadata": {},
     "output_type": "display_data"
    }
   ],
   "source": [
    "plotGraphs(total_history15)"
   ]
  },
  {
   "cell_type": "code",
   "execution_count": 140,
   "metadata": {
    "scrolled": true
   },
   "outputs": [
    {
     "name": "stdout",
     "output_type": "stream",
     "text": [
      "Optimal founds:\n",
      "237.50768904247752\n",
      "237.11017688739616\n",
      "411.6348883015917\n",
      "122.07313208086475\n",
      "218.25779717970227\n",
      "115.21017737722423\n",
      "335.7981225204969\n",
      "338.7795262121846\n",
      "118.83020433892625\n",
      "217.1874206427026\n",
      "413.4628020043463\n",
      "234.17600391348458\n",
      "118.94297518271424\n",
      "474.28022328949453\n",
      "1.4338054264860602\n",
      "474.01496200517454\n",
      "434.6757832335326\n",
      "336.481416296233\n",
      "221.83804380307458\n",
      "437.2047052935801\n",
      "335.77676675036224\n",
      "298.29736801577405\n",
      "336.3197730813697\n",
      "335.6265493552564\n",
      "218.75495413421766\n",
      "237.5955735063767\n",
      "119.21946718582308\n",
      "220.83993070144152\n",
      "470.7933003468506\n",
      "118.64509110926247\n"
     ]
    }
   ],
   "source": [
    "print(\"Optimal founds:\")\n",
    "for x in optimal_found15:\n",
    "    print(Schwefel(np.array(x)))"
   ]
  },
  {
   "cell_type": "markdown",
   "metadata": {},
   "source": [
    "### 10-Dimensions"
   ]
  },
  {
   "cell_type": "code",
   "execution_count": 116,
   "metadata": {},
   "outputs": [
    {
     "name": "stderr",
     "output_type": "stream",
     "text": [
      "/home/woom05/Documents/deeplearning-venv/lib/python3.6/site-packages/ipykernel_launcher.py:11: RuntimeWarning: overflow encountered in exp\n",
      "  # This is added back by InteractiveShellApp.init_path()\n"
     ]
    },
    {
     "name": "stdout",
     "output_type": "stream",
     "text": [
      "(30, 10000)\n"
     ]
    }
   ],
   "source": [
    "optimal_found30 = []\n",
    "total_history30 = []\n",
    "\n",
    "for i in range(num_experiments):\n",
    "    x = np.random.random(10) * 1024 - 512\n",
    "    f = Schwefel\n",
    "    optimum, history_loss = SimulatedAnnealing(x, f, (-512, 512), t_max=10000)\n",
    "    #total_history += np.array(history_loss)\n",
    "    total_history30.append(np.array(history_loss))\n",
    "    #plt.plot([i for i in range(1,1001)], history_loss, 'b')\n",
    "    optimal_found30.append(optimum)\n",
    "\n",
    "total_history30 = np.array(total_history30)\n",
    "print(total_history30.shape)"
   ]
  },
  {
   "cell_type": "code",
   "execution_count": 212,
   "metadata": {},
   "outputs": [
    {
     "data": {
      "image/png": "[encoded data removed]",
      "text/plain": [
       "<Figure size 432x288 with 1 Axes>"
      ]
     },
     "metadata": {},
     "output_type": "display_data"
    }
   ],
   "source": [
    "plotGraphs10D(total_history30)"
   ]
  },
  {
   "cell_type": "code",
   "execution_count": 119,
   "metadata": {
    "scrolled": true
   },
   "outputs": [
    {
     "name": "stdout",
     "output_type": "stream",
     "text": [
      "Optimal founds:\n",
      "887.5051570862356\n",
      "1051.0216833585328\n",
      "478.27751560011575\n",
      "480.46049926965634\n",
      "452.2033595570656\n",
      "366.2668506063874\n",
      "1173.5487470304993\n",
      "479.70729550703527\n",
      "597.1049742299633\n",
      "240.90049000533054\n",
      "990.6823778261892\n",
      "334.85964842803105\n",
      "1145.9845081364128\n",
      "478.492675498223\n",
      "810.4402845239852\n",
      "473.1420124975516\n",
      "241.17460775609698\n",
      "361.17588180669554\n",
      "934.3375361049011\n",
      "791.8905774337118\n",
      "595.8986569632989\n",
      "478.7243141524832\n",
      "692.6354825645749\n",
      "594.2585722989584\n",
      "478.3918307830313\n",
      "596.0245977812506\n",
      "479.7883452123988\n",
      "362.39524834155054\n",
      "697.5221955080629\n",
      "476.1509394189661\n"
     ]
    }
   ],
   "source": [
    "print(\"Optimal founds:\")\n",
    "for x in optimal_found30:\n",
    "    print(Schwefel(np.array(x)))"
   ]
  },
  {
   "cell_type": "markdown",
   "metadata": {},
   "source": [
    "# Griewank"
   ]
  },
  {
   "cell_type": "code",
   "execution_count": 128,
   "metadata": {},
   "outputs": [],
   "source": [
    "def Griewank(x):\n",
    "    d = len(x)\n",
    "    return 1 + np.sum(x**2 / 4000) - np.prod(np.cos(x/np.sqrt(np.arange(1,d+1))))\n",
    "\n",
    "def GriewankTF(x):\n",
    "    d = len(x)\n",
    "    return 1 + tf.reduce_sum([xi**2/4000 for xi in x]) - tf.reduce_prod(tf.cos([x[i]/np.sqrt(i+1) for i in range(d)]))"
   ]
  },
  {
   "cell_type": "markdown",
   "metadata": {},
   "source": [
    "## Griewank with Newton-Raphson"
   ]
  },
  {
   "cell_type": "markdown",
   "metadata": {},
   "source": [
    "### 2-Dimensions"
   ]
  },
  {
   "cell_type": "code",
   "execution_count": 129,
   "metadata": {},
   "outputs": [
    {
     "name": "stdout",
     "output_type": "stream",
     "text": [
      "(30, 1000)\n"
     ]
    }
   ],
   "source": [
    "sess = tf.Session()\n",
    "optimal_found16 = []\n",
    "\n",
    "total_history16 = []\n",
    "\n",
    "for i in range(num_experiments):\n",
    "    x = []\n",
    "    for i in range( 2 ):\n",
    "        x.append(tf.Variable(np.random.random() * 1200 - 600))\n",
    "        \n",
    "    sess.run(tf.initialize_all_variables())\n",
    "\n",
    "    f1 = GriewankTF(x)\n",
    "    optimum, history_loss = NewtonRaphson(x, f1, 1000)\n",
    "    #total_history += np.array(history_loss)\n",
    "    total_history16.append(np.array(history_loss))\n",
    "    #plt.plot([i for i in range(1,1001)], history_loss, 'b')\n",
    "    optimal_found16.append(optimum)\n",
    "    \n",
    "total_history16 = np.array(total_history16)\n",
    "print(total_history16.shape)\n",
    "sess.close()"
   ]
  },
  {
   "cell_type": "code",
   "execution_count": 213,
   "metadata": {},
   "outputs": [
    {
     "data": {
      "image/png": "[encoded data removed]",
      "text/plain": [
       "<Figure size 432x288 with 1 Axes>"
      ]
     },
     "metadata": {},
     "output_type": "display_data"
    }
   ],
   "source": [
    "plotGraphs(total_history16)"
   ]
  },
  {
   "cell_type": "code",
   "execution_count": 131,
   "metadata": {
    "scrolled": true
   },
   "outputs": [
    {
     "name": "stdout",
     "output_type": "stream",
     "text": [
      "Optimal founds:\n",
      "38.19436015390311\n",
      "16.053724703654552\n",
      "18.843951688528826\n",
      "72.35810088128336\n",
      "143.0689544240672\n",
      "63.5086423842819\n",
      "20.937786730268716\n",
      "66.91869597172492\n",
      "80.56961933797207\n",
      "64.12665338284609\n",
      "62.32353559871692\n",
      "5.816498165767383\n",
      "69.32904734798772\n",
      "22.677435161921906\n",
      "39.53832535421251\n",
      "115.45589211113791\n",
      "78.13843941171851\n",
      "139.72217981282867\n",
      "56.93601406453483\n",
      "86.00573893567183\n",
      "22.76715060974571\n",
      "40.15500398042644\n",
      "74.55704384044957\n",
      "166.27443560269208\n",
      "65.68011122316308\n",
      "94.67713414021993\n",
      "56.15230141409982\n",
      "60.69546624986356\n",
      "92.97512420462895\n",
      "16.714104788625225\n"
     ]
    }
   ],
   "source": [
    "print(\"Optimal founds:\")\n",
    "for x in optimal_found16:\n",
    "    print(Griewank(np.array(x)))"
   ]
  },
  {
   "cell_type": "markdown",
   "metadata": {},
   "source": [
    "### 10-Dimensions"
   ]
  },
  {
   "cell_type": "code",
   "execution_count": 152,
   "metadata": {},
   "outputs": [
    {
     "name": "stdout",
     "output_type": "stream",
     "text": [
      "(30, 10000)\n"
     ]
    }
   ],
   "source": [
    "sess = tf.Session()\n",
    "optimal_found31 = []\n",
    "\n",
    "total_history31 = []\n",
    "\n",
    "for i in range(num_experiments):\n",
    "    x = []\n",
    "    for i in range( 10 ):\n",
    "        x.append(tf.Variable(np.random.random() * 1200 - 600))\n",
    "        \n",
    "    sess.run(tf.initialize_all_variables())\n",
    "\n",
    "    f1 = GriewankTF(x)\n",
    "    optimum, history_loss = NewtonRaphson(x, f1, 10000)\n",
    "    #total_history += np.array(history_loss)\n",
    "    total_history31.append(np.array(history_loss))\n",
    "    #plt.plot([i for i in range(1,1001)], history_loss, 'b')\n",
    "    optimal_found31.append(optimum)\n",
    "    \n",
    "total_history31 = np.array(total_history31)\n",
    "print(total_history31.shape)\n",
    "sess.close()"
   ]
  },
  {
   "cell_type": "code",
   "execution_count": 214,
   "metadata": {},
   "outputs": [
    {
     "data": {
      "image/png": "[encoded data removed]",
      "text/plain": [
       "<Figure size 432x288 with 1 Axes>"
      ]
     },
     "metadata": {},
     "output_type": "display_data"
    }
   ],
   "source": [
    "plotGraphs10D(total_history31)"
   ]
  },
  {
   "cell_type": "code",
   "execution_count": 154,
   "metadata": {
    "scrolled": true
   },
   "outputs": [
    {
     "name": "stdout",
     "output_type": "stream",
     "text": [
      "Optimal founds:\n",
      "1.001851785364826\n",
      "1.0320632822892615\n",
      "1.0061833443913244\n",
      "1.008626661680048\n",
      "1.0314655492589635\n",
      "1.0345134506317897\n",
      "1.162381077744317\n",
      "1.0108239470239502\n",
      "1.0276075312743693\n",
      "1.4783448211320724\n",
      "0.0\n",
      "1.0105310581702487\n",
      "1.0120772553233053\n",
      "1.0240350240987688\n",
      "0.3936426026103389\n",
      "1.2244984961145775\n",
      "0.0\n",
      "6.870989036899533e+16\n",
      "1.105448142329147\n",
      "1.0055627808097027\n",
      "1.1402441433906478\n",
      "1.813024892776068\n",
      "1.003706043685338\n",
      "1.0166611338059215\n",
      "1.0024692535333881\n",
      "1.329930251323846\n",
      "2.87045834569104\n",
      "726049054785537.0\n",
      "1.017901013706155\n",
      "9717670597361664.0\n"
     ]
    }
   ],
   "source": [
    "print(\"Optimal founds:\")\n",
    "for x in optimal_found31:\n",
    "    print(Griewank(np.array(x)))"
   ]
  },
  {
   "cell_type": "code",
   "execution_count": 155,
   "metadata": {},
   "outputs": [],
   "source": [
    "tf.reset_default_graph()"
   ]
  },
  {
   "cell_type": "markdown",
   "metadata": {},
   "source": [
    "## Griewank with Gradient Descent"
   ]
  },
  {
   "cell_type": "markdown",
   "metadata": {},
   "source": [
    "### 2-Dimensions"
   ]
  },
  {
   "cell_type": "code",
   "execution_count": 143,
   "metadata": {},
   "outputs": [
    {
     "name": "stdout",
     "output_type": "stream",
     "text": [
      "(30, 1000)\n"
     ]
    }
   ],
   "source": [
    "sess = tf.Session()\n",
    "optimal_found17 = []\n",
    "\n",
    "total_history17 = []\n",
    "\n",
    "for i in range(num_experiments):\n",
    "    x = []\n",
    "    for i in range( 2 ):\n",
    "        x.append(tf.Variable(np.random.random() * 1200 - 600))\n",
    "        \n",
    "    sess.run(tf.initialize_all_variables())\n",
    "\n",
    "    f1 = GriewankTF(x)\n",
    "    optimum, history_loss = GradientDescent(x, f1, 1000, lr=0.01)\n",
    "    #total_history += np.array(history_loss)\n",
    "    total_history17.append(np.array(history_loss))\n",
    "    #plt.plot([i for i in range(1,1001)], history_loss, 'b')\n",
    "    optimal_found17.append(optimum)\n",
    "    \n",
    "total_history17 = np.array(total_history17)\n",
    "print(total_history17.shape)\n",
    "sess.close()"
   ]
  },
  {
   "cell_type": "code",
   "execution_count": 215,
   "metadata": {},
   "outputs": [
    {
     "data": {
      "image/png": "[encoded data removed]",
      "text/plain": [
       "<Figure size 432x288 with 1 Axes>"
      ]
     },
     "metadata": {},
     "output_type": "display_data"
    }
   ],
   "source": [
    "plotGraphs(total_history17)"
   ]
  },
  {
   "cell_type": "code",
   "execution_count": 145,
   "metadata": {
    "scrolled": true
   },
   "outputs": [
    {
     "name": "stdout",
     "output_type": "stream",
     "text": [
      "Optimal founds:\n",
      "54.506073617709\n",
      "32.86117087973463\n",
      "47.09753355527045\n",
      "88.29192892919393\n",
      "61.480775480404475\n",
      "98.07864513581214\n",
      "95.27900336856759\n",
      "82.13265258196107\n",
      "54.16596715522543\n",
      "73.51797821250234\n",
      "165.11923971694299\n",
      "12.396127641402263\n",
      "81.30545793263872\n",
      "67.13889131808568\n",
      "13.541163241030082\n",
      "50.80942347671072\n",
      "53.49419589913062\n",
      "58.660567753858025\n",
      "77.32885459054918\n",
      "114.65051967060062\n",
      "39.891650801215754\n",
      "79.99262663643019\n",
      "149.1431442911897\n",
      "52.859357577493704\n",
      "45.03845968415593\n",
      "52.201900480707806\n",
      "52.43436269219294\n",
      "6.970089887274518\n",
      "53.97101939675239\n",
      "45.28272145086326\n"
     ]
    }
   ],
   "source": [
    "print(\"Optimal founds:\")\n",
    "for x in optimal_found17:\n",
    "    print(Griewank(np.array(x)))"
   ]
  },
  {
   "cell_type": "markdown",
   "metadata": {},
   "source": [
    "### 10-Dimensions"
   ]
  },
  {
   "cell_type": "code",
   "execution_count": 158,
   "metadata": {},
   "outputs": [
    {
     "name": "stdout",
     "output_type": "stream",
     "text": [
      "(30, 10000)\n"
     ]
    }
   ],
   "source": [
    "sess = tf.Session()\n",
    "optimal_found32 = []\n",
    "\n",
    "total_history32 = []\n",
    "\n",
    "for i in range(num_experiments):\n",
    "    x = []\n",
    "    for i in range( 10 ):\n",
    "        x.append(tf.Variable(np.random.random() * 1200 - 600))\n",
    "        \n",
    "    sess.run(tf.initialize_all_variables())\n",
    "\n",
    "    f1 = GriewankTF(x)\n",
    "    optimum, history_loss = GradientDescent(x, f1, 10000, lr=0.01)\n",
    "    #total_history += np.array(history_loss)\n",
    "    total_history32.append(np.array(history_loss))\n",
    "    #plt.plot([i for i in range(1,1001)], history_loss, 'b')\n",
    "    optimal_found32.append(optimum)\n",
    "    \n",
    "total_history32 = np.array(total_history32)\n",
    "print(total_history32.shape)\n",
    "sess.close()"
   ]
  },
  {
   "cell_type": "code",
   "execution_count": 216,
   "metadata": {},
   "outputs": [
    {
     "data": {
      "image/png": "[encoded data removed]",
      "text/plain": [
       "<Figure size 432x288 with 1 Axes>"
      ]
     },
     "metadata": {},
     "output_type": "display_data"
    }
   ],
   "source": [
    "plotGraphs10D(total_history32)"
   ]
  },
  {
   "cell_type": "code",
   "execution_count": 160,
   "metadata": {
    "scrolled": true
   },
   "outputs": [
    {
     "name": "stdout",
     "output_type": "stream",
     "text": [
      "Optimal founds:\n",
      "244.03925339896077\n",
      "243.96615247266433\n",
      "276.51725304115377\n",
      "155.4635039484971\n",
      "198.96335233730053\n",
      "379.0139958882693\n",
      "279.79639961781646\n",
      "248.40324484104428\n",
      "229.14837693307894\n",
      "220.88322994140125\n",
      "216.4051767521898\n",
      "366.42961869386755\n",
      "244.198750361594\n",
      "252.39356977639332\n",
      "190.836179044502\n",
      "324.571098239687\n",
      "235.13484246182952\n",
      "203.75391919665384\n",
      "296.63507045658827\n",
      "295.3664538074329\n",
      "285.9164685364602\n",
      "205.2475142875077\n",
      "178.87008980317995\n",
      "359.35250181388017\n",
      "212.33086644246598\n",
      "417.3276118288779\n",
      "156.7628917977414\n",
      "326.6667254617576\n",
      "386.27308841979357\n",
      "377.97576885530975\n"
     ]
    }
   ],
   "source": [
    "print(\"Optimal founds:\")\n",
    "for x in optimal_found32:\n",
    "    print(Griewank(np.array(x)))"
   ]
  },
  {
   "cell_type": "code",
   "execution_count": 161,
   "metadata": {},
   "outputs": [],
   "source": [
    "tf.reset_default_graph()"
   ]
  },
  {
   "cell_type": "markdown",
   "metadata": {},
   "source": [
    "## Griewank with Momentum"
   ]
  },
  {
   "cell_type": "markdown",
   "metadata": {},
   "source": [
    "### 2-Dimensions"
   ]
  },
  {
   "cell_type": "code",
   "execution_count": 146,
   "metadata": {},
   "outputs": [
    {
     "name": "stdout",
     "output_type": "stream",
     "text": [
      "(30, 1000)\n"
     ]
    }
   ],
   "source": [
    "sess = tf.Session()\n",
    "optimal_found18 = []\n",
    "\n",
    "total_history18 = []\n",
    "\n",
    "for i in range(num_experiments):\n",
    "    x = []\n",
    "    for i in range( 2 ):\n",
    "        x.append(tf.Variable(np.random.random() * 1200 - 600))\n",
    "        \n",
    "    sess.run(tf.initialize_all_variables())\n",
    "\n",
    "    f1 = GriewankTF(x)\n",
    "    optimum, history_loss = GradientDescentWithMomentum(x, f1, 1000, lr=0.01)\n",
    "    #total_history += np.array(history_loss)\n",
    "    total_history18.append(np.array(history_loss))\n",
    "    #plt.plot([i for i in range(1,1001)], history_loss, 'b')\n",
    "    optimal_found18.append(optimum)\n",
    "    \n",
    "total_history18 = np.array(total_history18)\n",
    "print(total_history18.shape)\n",
    "sess.close()"
   ]
  },
  {
   "cell_type": "code",
   "execution_count": 217,
   "metadata": {},
   "outputs": [
    {
     "data": {
      "image/png": "[encoded data removed]",
      "text/plain": [
       "<Figure size 432x288 with 1 Axes>"
      ]
     },
     "metadata": {},
     "output_type": "display_data"
    }
   ],
   "source": [
    "plotGraphs(total_history18)"
   ]
  },
  {
   "cell_type": "code",
   "execution_count": 148,
   "metadata": {
    "scrolled": true
   },
   "outputs": [
    {
     "name": "stdout",
     "output_type": "stream",
     "text": [
      "Optimal founds:\n",
      "82.57345441362719\n",
      "113.52425640765907\n",
      "3.787401211320363\n",
      "3.282170751355669\n",
      "29.363515176989605\n",
      "73.17185006141659\n",
      "88.71194448719699\n",
      "50.54923689818776\n",
      "24.57020322390624\n",
      "83.15776438031325\n",
      "36.33082230087612\n",
      "115.85654395464687\n",
      "11.708872061732535\n",
      "1.5979915797401043\n",
      "73.7377221552271\n",
      "46.755794480224615\n",
      "6.390369488855956\n",
      "23.279005237252306\n",
      "4.27104628390984\n",
      "31.9021150903666\n",
      "93.26906553683419\n",
      "97.25141198121064\n",
      "3.6184087698803364\n",
      "14.701580976637942\n",
      "61.701636874013445\n",
      "12.89025033625106\n",
      "72.40974815401351\n",
      "21.729183347651762\n",
      "44.17947778344655\n",
      "132.801579428444\n"
     ]
    }
   ],
   "source": [
    "print(\"Optimal founds:\")\n",
    "for x in optimal_found18:\n",
    "    print(Griewank(np.array(x)))"
   ]
  },
  {
   "cell_type": "markdown",
   "metadata": {},
   "source": [
    "### 10-Dimensions"
   ]
  },
  {
   "cell_type": "code",
   "execution_count": 162,
   "metadata": {},
   "outputs": [
    {
     "name": "stdout",
     "output_type": "stream",
     "text": [
      "(30, 10000)\n"
     ]
    }
   ],
   "source": [
    "sess = tf.Session()\n",
    "optimal_found33 = []\n",
    "\n",
    "total_history33 = []\n",
    "\n",
    "for i in range(num_experiments):\n",
    "    x = []\n",
    "    for i in range( 10 ):\n",
    "        x.append(tf.Variable(np.random.random() * 1200 - 600))\n",
    "        \n",
    "    sess.run(tf.initialize_all_variables())\n",
    "\n",
    "    f1 = GriewankTF(x)\n",
    "    optimum, history_loss = GradientDescentWithMomentum(x, f1, 10000, lr=0.01)\n",
    "    #total_history += np.array(history_loss)\n",
    "    total_history33.append(np.array(history_loss))\n",
    "    #plt.plot([i for i in range(1,1001)], history_loss, 'b')\n",
    "    optimal_found33.append(optimum)\n",
    "    \n",
    "total_history33 = np.array(total_history33)\n",
    "print(total_history33.shape)\n",
    "sess.close()"
   ]
  },
  {
   "cell_type": "code",
   "execution_count": 218,
   "metadata": {},
   "outputs": [
    {
     "data": {
      "image/png": "[encoded data removed]",
      "text/plain": [
       "<Figure size 432x288 with 1 Axes>"
      ]
     },
     "metadata": {},
     "output_type": "display_data"
    }
   ],
   "source": [
    "plotGraphs10D(total_history33)"
   ]
  },
  {
   "cell_type": "code",
   "execution_count": null,
   "metadata": {},
   "outputs": [],
   "source": [
    "print(\"Optimal founds:\")\n",
    "for x in optimal_found33:\n",
    "    print(Griewank(np.array(x)))"
   ]
  },
  {
   "cell_type": "markdown",
   "metadata": {},
   "source": [
    "## Griewank with Hill Climbing"
   ]
  },
  {
   "cell_type": "markdown",
   "metadata": {},
   "source": [
    "### 2-Dimensions"
   ]
  },
  {
   "cell_type": "code",
   "execution_count": 53,
   "metadata": {},
   "outputs": [
    {
     "name": "stdout",
     "output_type": "stream",
     "text": [
      "(30, 1000)\n"
     ]
    }
   ],
   "source": [
    "optimal_found19 = []\n",
    "total_history19 = []\n",
    "\n",
    "for i in range(num_experiments):\n",
    "    x = np.random.random(2) * 1200 - 600\n",
    "    f = Griewank\n",
    "    optimum, history_loss = HillClimbing(x, f, (-600, 600), num_iterations=1000)\n",
    "    #total_history += np.array(history_loss)\n",
    "    total_history19.append(np.array(history_loss))\n",
    "    #plt.plot([i for i in range(1,1001)], history_loss, 'b')\n",
    "    optimal_found19.append(optimum)\n",
    "\n",
    "total_history19 = np.array(total_history19)\n",
    "print(total_history19.shape)"
   ]
  },
  {
   "cell_type": "code",
   "execution_count": 219,
   "metadata": {},
   "outputs": [
    {
     "data": {
      "image/png": "[encoded data removed]",
      "text/plain": [
       "<Figure size 432x288 with 1 Axes>"
      ]
     },
     "metadata": {},
     "output_type": "display_data"
    }
   ],
   "source": [
    "plotGraphs(total_history19)"
   ]
  },
  {
   "cell_type": "code",
   "execution_count": 149,
   "metadata": {
    "scrolled": true
   },
   "outputs": [
    {
     "name": "stdout",
     "output_type": "stream",
     "text": [
      "Optimal founds:\n",
      "0.5039335647698924\n",
      "0.12729143550751743\n",
      "1.193580098382148\n",
      "0.09943959058219387\n",
      "0.28711730460287277\n",
      "0.13863302912564524\n",
      "0.024259057013445995\n",
      "0.47048831915606293\n",
      "0.12255084770721925\n",
      "0.05053569376009448\n",
      "0.17791951462682376\n",
      "0.2240586070675309\n",
      "0.018712427232495776\n",
      "0.05028248564766058\n",
      "0.5044363641203223\n",
      "0.2725580689464069\n",
      "0.6821241744934613\n",
      "0.5692477583856627\n",
      "0.42505995853840506\n",
      "0.6865904105151065\n",
      "0.1339521733399589\n",
      "1.6800402233968408\n",
      "1.1524800505647566\n",
      "0.9112537180031954\n",
      "0.14221376402790764\n",
      "0.8500386031134741\n",
      "0.4513956299112968\n",
      "0.03760549154853354\n",
      "0.903372363728451\n",
      "0.3381636927786754\n"
     ]
    }
   ],
   "source": [
    "print(\"Optimal founds:\")\n",
    "for x in optimal_found19:\n",
    "    print(Griewank(np.array(x)))"
   ]
  },
  {
   "cell_type": "markdown",
   "metadata": {},
   "source": [
    "### 10-Dimensions"
   ]
  },
  {
   "cell_type": "code",
   "execution_count": 164,
   "metadata": {},
   "outputs": [
    {
     "name": "stdout",
     "output_type": "stream",
     "text": [
      "(30, 10000)\n"
     ]
    }
   ],
   "source": [
    "optimal_found34 = []\n",
    "total_history34 = []\n",
    "\n",
    "for i in range(num_experiments):\n",
    "    x = np.random.random(10) * 1200 - 600\n",
    "    f = Griewank\n",
    "    optimum, history_loss = HillClimbing(x, f, (-600, 600), num_iterations=10000)\n",
    "    #total_history += np.array(history_loss)\n",
    "    total_history34.append(np.array(history_loss))\n",
    "    #plt.plot([i for i in range(1,1001)], history_loss, 'b')\n",
    "    optimal_found34.append(optimum)\n",
    "\n",
    "total_history34 = np.array(total_history34)\n",
    "print(total_history34.shape)"
   ]
  },
  {
   "cell_type": "code",
   "execution_count": 220,
   "metadata": {},
   "outputs": [
    {
     "data": {
      "image/png": "[encoded data removed]",
      "text/plain": [
       "<Figure size 432x288 with 1 Axes>"
      ]
     },
     "metadata": {},
     "output_type": "display_data"
    }
   ],
   "source": [
    "plotGraphs10D(total_history34)"
   ]
  },
  {
   "cell_type": "code",
   "execution_count": 173,
   "metadata": {
    "scrolled": true
   },
   "outputs": [
    {
     "name": "stdout",
     "output_type": "stream",
     "text": [
      "Optimal founds:\n",
      "1.001851785364826\n",
      "1.0320632822892615\n",
      "1.0061833443913244\n",
      "1.008626661680048\n",
      "1.0314655492589635\n",
      "1.0345134506317897\n",
      "1.162381077744317\n",
      "1.0108239470239502\n",
      "1.0276075312743693\n",
      "1.4783448211320724\n",
      "0.0\n",
      "1.0105310581702487\n",
      "1.0120772553233053\n",
      "1.0240350240987688\n",
      "0.3936426026103389\n",
      "1.2244984961145775\n",
      "0.0\n",
      "6.870989036899533e+16\n",
      "1.105448142329147\n",
      "1.0055627808097027\n",
      "1.1402441433906478\n",
      "1.813024892776068\n",
      "1.003706043685338\n",
      "1.0166611338059215\n",
      "1.0024692535333881\n",
      "1.329930251323846\n",
      "2.87045834569104\n",
      "726049054785537.0\n",
      "1.017901013706155\n",
      "9717670597361664.0\n"
     ]
    }
   ],
   "source": [
    "print(\"Optimal founds:\")\n",
    "for x in optimal_found31:\n",
    "    print(Griewank(np.array(x)))"
   ]
  },
  {
   "cell_type": "markdown",
   "metadata": {},
   "source": [
    "## Griewank with Simulated Annealing"
   ]
  },
  {
   "cell_type": "markdown",
   "metadata": {},
   "source": [
    "### 2-Dimensions"
   ]
  },
  {
   "cell_type": "code",
   "execution_count": 55,
   "metadata": {},
   "outputs": [
    {
     "name": "stderr",
     "output_type": "stream",
     "text": [
      "/home/woom05/Documents/deeplearning-venv/lib/python3.6/site-packages/ipykernel_launcher.py:11: RuntimeWarning: overflow encountered in exp\n",
      "  # This is added back by InteractiveShellApp.init_path()\n"
     ]
    },
    {
     "name": "stdout",
     "output_type": "stream",
     "text": [
      "(30, 1000)\n"
     ]
    }
   ],
   "source": [
    "optimal_found20 = []\n",
    "total_history20 = []\n",
    "\n",
    "for i in range(num_experiments):\n",
    "    x = np.random.random(2) * 1200 - 600\n",
    "    f = Griewank\n",
    "    optimum, history_loss = SimulatedAnnealing(x, f, (-600, 600), t_max=1000)\n",
    "    #total_history += np.array(history_loss)\n",
    "    total_history20.append(np.array(history_loss))\n",
    "    #plt.plot([i for i in range(1,1001)], history_loss, 'b')\n",
    "    optimal_found20.append(optimum)\n",
    "\n",
    "total_history20 = np.array(total_history20)\n",
    "print(total_history20.shape)"
   ]
  },
  {
   "cell_type": "code",
   "execution_count": 221,
   "metadata": {},
   "outputs": [
    {
     "data": {
      "image/png": "[encoded data removed]",
      "text/plain": [
       "<Figure size 432x288 with 1 Axes>"
      ]
     },
     "metadata": {},
     "output_type": "display_data"
    }
   ],
   "source": [
    "plotGraphs(total_history20)"
   ]
  },
  {
   "cell_type": "code",
   "execution_count": null,
   "metadata": {},
   "outputs": [],
   "source": [
    "print(\"Optimal founds:\")\n",
    "for x in optimal_found20:\n",
    "    print(Griewank(np.array(x)))"
   ]
  },
  {
   "cell_type": "markdown",
   "metadata": {},
   "source": [
    "### 10-Dimensions"
   ]
  },
  {
   "cell_type": "code",
   "execution_count": 168,
   "metadata": {},
   "outputs": [
    {
     "name": "stderr",
     "output_type": "stream",
     "text": [
      "/home/woom05/Documents/deeplearning-venv/lib/python3.6/site-packages/ipykernel_launcher.py:11: RuntimeWarning: overflow encountered in exp\n",
      "  # This is added back by InteractiveShellApp.init_path()\n"
     ]
    },
    {
     "name": "stdout",
     "output_type": "stream",
     "text": [
      "(30, 10000)\n"
     ]
    }
   ],
   "source": [
    "optimal_found35 = []\n",
    "total_history35 = []\n",
    "\n",
    "for i in range(num_experiments):\n",
    "    x = np.random.random(10) * 1200 - 600\n",
    "    f = Griewank\n",
    "    optimum, history_loss = SimulatedAnnealing(x, f, (-600, 600), t_max=10000)\n",
    "    #total_history += np.array(history_loss)\n",
    "    total_history35.append(np.array(history_loss))\n",
    "    #plt.plot([i for i in range(1,1001)], history_loss, 'b')\n",
    "    optimal_found35.append(optimum)\n",
    "\n",
    "total_history35 = np.array(total_history35)\n",
    "print(total_history35.shape)"
   ]
  },
  {
   "cell_type": "code",
   "execution_count": 222,
   "metadata": {},
   "outputs": [
    {
     "data": {
      "image/png": "[encoded data removed]",
      "text/plain": [
       "<Figure size 432x288 with 1 Axes>"
      ]
     },
     "metadata": {},
     "output_type": "display_data"
    }
   ],
   "source": [
    "plotGraphs10D(total_history35)"
   ]
  },
  {
   "cell_type": "code",
   "execution_count": 171,
   "metadata": {
    "scrolled": true
   },
   "outputs": [
    {
     "name": "stdout",
     "output_type": "stream",
     "text": [
      "Optimal founds:\n",
      "7.684124362860122\n",
      "4.436867591822427\n",
      "6.614497674157311\n",
      "5.573724440537035\n",
      "7.307834185982853\n",
      "3.557218318261039\n",
      "5.9196012812837635\n",
      "2.9948200965788794\n",
      "5.352689462824344\n",
      "8.12599312431935\n",
      "7.330926474994447\n",
      "7.41045354297031\n",
      "6.818606060997306\n",
      "4.351956062706145\n",
      "8.136122411125092\n",
      "7.052316317393112\n",
      "8.632179401967944\n",
      "5.169713804904888\n",
      "4.022832589396983\n",
      "5.006712528246931\n",
      "8.05776892561765\n",
      "4.26655662160179\n",
      "4.377478533006963\n",
      "3.5656288113822523\n",
      "5.270068631193948\n",
      "5.5506990572076536\n",
      "5.524621490762693\n",
      "4.924195383983792\n",
      "7.214578550719934\n",
      "5.354785873574276\n"
     ]
    }
   ],
   "source": [
    "print(\"Optimal founds:\")\n",
    "for x in optimal_found35:\n",
    "    print(Griewank(np.array(x)))"
   ]
  },
  {
   "cell_type": "markdown",
   "metadata": {},
   "source": [
    "# Saving the models"
   ]
  },
  {
   "cell_type": "code",
   "execution_count": 172,
   "metadata": {},
   "outputs": [],
   "source": [
    "total_histories = [total_history, total_history2, total_history3, total_history4, total_history5, total_history6, total_history7, total_history8, total_history9, total_history10, total_history11, total_history12, total_history13, total_history14, total_history15, total_history16, total_history17, total_history18, total_history19, total_history20, total_history21, total_history22, total_history23, total_history24, total_history25, total_history26, total_history27, total_history28, total_history29, total_history30, total_history31, total_history32, total_history33, total_history34, total_history35]\n",
    "optimal_founds = [optimal_found1, optimal_found2, optimal_found3, optimal_found4, optimal_found5, optimal_found6, optimal_found7, optimal_found8, optimal_found9, optimal_found10, optimal_found11, optimal_found12, optimal_found13, optimal_found14, optimal_found15, optimal_found16, optimal_found17, optimal_found18, optimal_found19, optimal_found20, optimal_found21, optimal_found22, optimal_found23, optimal_found24, optimal_found25, optimal_found26, optimal_found27, optimal_found28, optimal_found29, optimal_found30, optimal_found31, optimal_found32, optimal_found33, optimal_found34, optimal_found35]\n",
    "\n",
    "pickle.dump(total_histories, open(\"total_histories.pickle\", 'wb'))\n",
    "pickle.dump(optimal_founds, open(\"optimal_founds.pickle\", 'wb'))"
   ]
  },
  {
   "cell_type": "code",
   "execution_count": 157,
   "metadata": {},
   "outputs": [],
   "source": [
    "total_histories = pickle.load(open(\"total_histories.pickle\", 'rb'))\n",
    "optimal_founds = pickle.load(open(\"optimal_founds.pickle\", 'rb'))"
   ]
  },
  {
   "cell_type": "code",
   "execution_count": 47,
   "metadata": {},
   "outputs": [],
   "source": [
    "total_history = total_histories[0]\n",
    "total_history2 = total_histories[1]\n",
    "total_history3 = total_histories[2]\n",
    "total_history4 = total_histories[3]\n",
    "total_history5 = total_histories[4]\n",
    "total_history6 = total_histories[5]\n",
    "total_history7 = total_histories[6]\n",
    "total_history8 = total_histories[7]\n",
    "total_history9 = total_histories[8]\n",
    "total_history10 = total_histories[9]\n",
    "total_history11 = total_histories[10]\n",
    "total_history12 = total_histories[11]\n",
    "total_history13 = total_histories[12]\n",
    "total_history14 = total_histories[13]\n",
    "total_history15 = total_histories[14]\n",
    "total_history16 = total_histories[15]\n",
    "total_history17 = total_histories[16]\n",
    "total_history18 = total_histories[17]\n",
    "total_history19 = total_histories[18]\n",
    "total_history20 = total_histories[19]\n",
    "total_history21 = total_histories[20]\n",
    "total_history22 = total_histories[21]\n",
    "total_history23 = total_histories[22]\n",
    "total_history24 = total_histories[23]\n",
    "total_history25 = total_histories[24]\n",
    "total_history26 = total_histories[25]\n",
    "total_history27 = total_histories[26]\n",
    "\n",
    "optimal_found1 = optimal_founds[0]\n",
    "optimal_found2 = optimal_founds[1]\n",
    "optimal_found3 = optimal_founds[2]\n",
    "optimal_found4 = optimal_founds[3]\n",
    "optimal_found5 = optimal_founds[4]\n",
    "optimal_found6 = optimal_founds[5]\n",
    "optimal_found7 = optimal_founds[6]\n",
    "optimal_found8 = optimal_founds[7]\n",
    "optimal_found9 = optimal_founds[8]\n",
    "optimal_found10 = optimal_founds[9]\n",
    "optimal_found11 = optimal_founds[10]\n",
    "optimal_found12 = optimal_founds[11]\n",
    "optimal_found13 = optimal_founds[12]\n",
    "optimal_found14 = optimal_founds[13]\n",
    "optimal_found15 = optimal_founds[14]\n",
    "optimal_found16 = optimal_founds[15]\n",
    "optimal_found17 = optimal_founds[16]\n",
    "optimal_found18 = optimal_founds[17]\n",
    "optimal_found19 = optimal_founds[18]\n",
    "optimal_found20 = optimal_founds[19]\n",
    "optimal_found21 = optimal_founds[20]\n",
    "optimal_found22 = optimal_founds[21]\n",
    "optimal_found23 = optimal_founds[22]\n",
    "optimal_found24 = optimal_founds[23]\n",
    "optimal_found25 = optimal_founds[24]\n",
    "optimal_found26 = optimal_founds[25]\n",
    "optimal_found27 = optimal_founds[26]"
   ]
  },
  {
   "cell_type": "code",
   "execution_count": 84,
   "metadata": {},
   "outputs": [
    {
     "name": "stdout",
     "output_type": "stream",
     "text": [
      "10000\n"
     ]
    }
   ],
   "source": [
    "print(len(optimal_found23[0]))"
   ]
  },
  {
   "cell_type": "code",
   "execution_count": 42,
   "metadata": {},
   "outputs": [
    {
     "ename": "InvalidArgumentError",
     "evalue": "Input is not invertible.\n\t [[Node: MatrixInverse_1 = MatrixInverse[T=DT_FLOAT, adjoint=false, _device=\"/job:localhost/replica:0/task:0/device:CPU:0\"](stack_7)]]\n\nCaused by op 'MatrixInverse_1', defined at:\n  File \"/usr/lib/python3.6/runpy.py\", line 193, in _run_module_as_main\n    \"__main__\", mod_spec)\n  File \"/usr/lib/python3.6/runpy.py\", line 85, in _run_code\n    exec(code, run_globals)\n  File \"/home/woom05/Documents/deeplearning-venv/lib/python3.6/site-packages/ipykernel_launcher.py\", line 16, in <module>\n    app.launch_new_instance()\n  File \"/home/woom05/Documents/deeplearning-venv/lib/python3.6/site-packages/traitlets/config/application.py\", line 658, in launch_instance\n    app.start()\n  File \"/home/woom05/Documents/deeplearning-venv/lib/python3.6/site-packages/ipykernel/kernelapp.py\", line 486, in start\n    self.io_loop.start()\n  File \"/home/woom05/Documents/deeplearning-venv/lib/python3.6/site-packages/tornado/platform/asyncio.py\", line 127, in start\n    self.asyncio_loop.run_forever()\n  File \"/usr/lib/python3.6/asyncio/base_events.py\", line 421, in run_forever\n    self._run_once()\n  File \"/usr/lib/python3.6/asyncio/base_events.py\", line 1426, in _run_once\n    handle._run()\n  File \"/usr/lib/python3.6/asyncio/events.py\", line 127, in _run\n    self._callback(*self._args)\n  File \"/home/woom05/Documents/deeplearning-venv/lib/python3.6/site-packages/tornado/platform/asyncio.py\", line 117, in _handle_events\n    handler_func(fileobj, events)\n  File \"/home/woom05/Documents/deeplearning-venv/lib/python3.6/site-packages/tornado/stack_context.py\", line 276, in null_wrapper\n    return fn(*args, **kwargs)\n  File \"/home/woom05/Documents/deeplearning-venv/lib/python3.6/site-packages/zmq/eventloop/zmqstream.py\", line 450, in _handle_events\n    self._handle_recv()\n  File \"/home/woom05/Documents/deeplearning-venv/lib/python3.6/site-packages/zmq/eventloop/zmqstream.py\", line 480, in _handle_recv\n    self._run_callback(callback, msg)\n  File \"/home/woom05/Documents/deeplearning-venv/lib/python3.6/site-packages/zmq/eventloop/zmqstream.py\", line 432, in _run_callback\n    callback(*args, **kwargs)\n  File \"/home/woom05/Documents/deeplearning-venv/lib/python3.6/site-packages/tornado/stack_context.py\", line 276, in null_wrapper\n    return fn(*args, **kwargs)\n  File \"/home/woom05/Documents/deeplearning-venv/lib/python3.6/site-packages/ipykernel/kernelbase.py\", line 283, in dispatcher\n    return self.dispatch_shell(stream, msg)\n  File \"/home/woom05/Documents/deeplearning-venv/lib/python3.6/site-packages/ipykernel/kernelbase.py\", line 233, in dispatch_shell\n    handler(stream, idents, msg)\n  File \"/home/woom05/Documents/deeplearning-venv/lib/python3.6/site-packages/ipykernel/kernelbase.py\", line 399, in execute_request\n    user_expressions, allow_stdin)\n  File \"/home/woom05/Documents/deeplearning-venv/lib/python3.6/site-packages/ipykernel/ipkernel.py\", line 208, in do_execute\n    res = shell.run_cell(code, store_history=store_history, silent=silent)\n  File \"/home/woom05/Documents/deeplearning-venv/lib/python3.6/site-packages/ipykernel/zmqshell.py\", line 537, in run_cell\n    return super(ZMQInteractiveShell, self).run_cell(*args, **kwargs)\n  File \"/home/woom05/Documents/deeplearning-venv/lib/python3.6/site-packages/IPython/core/interactiveshell.py\", line 2662, in run_cell\n    raw_cell, store_history, silent, shell_futures)\n  File \"/home/woom05/Documents/deeplearning-venv/lib/python3.6/site-packages/IPython/core/interactiveshell.py\", line 2785, in _run_cell\n    interactivity=interactivity, compiler=compiler, result=result)\n  File \"/home/woom05/Documents/deeplearning-venv/lib/python3.6/site-packages/IPython/core/interactiveshell.py\", line 2903, in run_ast_nodes\n    if self.run_code(code, result):\n  File \"/home/woom05/Documents/deeplearning-venv/lib/python3.6/site-packages/IPython/core/interactiveshell.py\", line 2963, in run_code\n    exec(code_obj, self.user_global_ns, self.user_ns)\n  File \"<ipython-input-42-f24bded38cdb>\", line 11, in <module>\n    rosenbrockNewton2.append( NewtonRaphson( x, f1+0.00001, iterations ) )\n  File \"<ipython-input-7-76e9e36c9281>\", line 3, in NewtonRaphson\n    hessian_inv = tf.matrix_inverse(hessian)\n  File \"/home/woom05/Documents/deeplearning-venv/lib/python3.6/site-packages/tensorflow/python/ops/gen_linalg_ops.py\", line 1049, in matrix_inverse\n    \"MatrixInverse\", input=input, adjoint=adjoint, name=name)\n  File \"/home/woom05/Documents/deeplearning-venv/lib/python3.6/site-packages/tensorflow/python/framework/op_def_library.py\", line 787, in _apply_op_helper\n    op_def=op_def)\n  File \"/home/woom05/Documents/deeplearning-venv/lib/python3.6/site-packages/tensorflow/python/util/deprecation.py\", line 454, in new_func\n    return func(*args, **kwargs)\n  File \"/home/woom05/Documents/deeplearning-venv/lib/python3.6/site-packages/tensorflow/python/framework/ops.py\", line 3155, in create_op\n    op_def=op_def)\n  File \"/home/woom05/Documents/deeplearning-venv/lib/python3.6/site-packages/tensorflow/python/framework/ops.py\", line 1717, in __init__\n    self._traceback = tf_stack.extract_stack()\n\nInvalidArgumentError (see above for traceback): Input is not invertible.\n\t [[Node: MatrixInverse_1 = MatrixInverse[T=DT_FLOAT, adjoint=false, _device=\"/job:localhost/replica:0/task:0/device:CPU:0\"](stack_7)]]\n",
     "output_type": "error",
     "traceback": [
      "\u001b[0;31m---------------------------------------------------------------------------\u001b[0m",
      "\u001b[0;31mInvalidArgumentError\u001b[0m                      Traceback (most recent call last)",
      "\u001b[0;32m~/Documents/deeplearning-venv/lib/python3.6/site-packages/tensorflow/python/client/session.py\u001b[0m in \u001b[0;36m_do_call\u001b[0;34m(self, fn, *args)\u001b[0m\n\u001b[1;32m   1277\u001b[0m     \u001b[0;32mtry\u001b[0m\u001b[0;34m:\u001b[0m\u001b[0;34m\u001b[0m\u001b[0m\n\u001b[0;32m-> 1278\u001b[0;31m       \u001b[0;32mreturn\u001b[0m \u001b[0mfn\u001b[0m\u001b[0;34m(\u001b[0m\u001b[0;34m*\u001b[0m\u001b[0margs\u001b[0m\u001b[0;34m)\u001b[0m\u001b[0;34m\u001b[0m\u001b[0m\n\u001b[0m\u001b[1;32m   1279\u001b[0m     \u001b[0;32mexcept\u001b[0m \u001b[0merrors\u001b[0m\u001b[0;34m.\u001b[0m\u001b[0mOpError\u001b[0m \u001b[0;32mas\u001b[0m \u001b[0me\u001b[0m\u001b[0;34m:\u001b[0m\u001b[0;34m\u001b[0m\u001b[0m\n",
      "\u001b[0;32m~/Documents/deeplearning-venv/lib/python3.6/site-packages/tensorflow/python/client/session.py\u001b[0m in \u001b[0;36m_run_fn\u001b[0;34m(feed_dict, fetch_list, target_list, options, run_metadata)\u001b[0m\n\u001b[1;32m   1262\u001b[0m       return self._call_tf_sessionrun(\n\u001b[0;32m-> 1263\u001b[0;31m           options, feed_dict, fetch_list, target_list, run_metadata)\n\u001b[0m\u001b[1;32m   1264\u001b[0m \u001b[0;34m\u001b[0m\u001b[0m\n",
      "\u001b[0;32m~/Documents/deeplearning-venv/lib/python3.6/site-packages/tensorflow/python/client/session.py\u001b[0m in \u001b[0;36m_call_tf_sessionrun\u001b[0;34m(self, options, feed_dict, fetch_list, target_list, run_metadata)\u001b[0m\n\u001b[1;32m   1349\u001b[0m         \u001b[0mself\u001b[0m\u001b[0;34m.\u001b[0m\u001b[0m_session\u001b[0m\u001b[0;34m,\u001b[0m \u001b[0moptions\u001b[0m\u001b[0;34m,\u001b[0m \u001b[0mfeed_dict\u001b[0m\u001b[0;34m,\u001b[0m \u001b[0mfetch_list\u001b[0m\u001b[0;34m,\u001b[0m \u001b[0mtarget_list\u001b[0m\u001b[0;34m,\u001b[0m\u001b[0;34m\u001b[0m\u001b[0m\n\u001b[0;32m-> 1350\u001b[0;31m         run_metadata)\n\u001b[0m\u001b[1;32m   1351\u001b[0m \u001b[0;34m\u001b[0m\u001b[0m\n",
      "\u001b[0;31mInvalidArgumentError\u001b[0m: Input is not invertible.\n\t [[Node: MatrixInverse_1 = MatrixInverse[T=DT_FLOAT, adjoint=false, _device=\"/job:localhost/replica:0/task:0/device:CPU:0\"](stack_7)]]",
      "\nDuring handling of the above exception, another exception occurred:\n",
      "\u001b[0;31mInvalidArgumentError\u001b[0m                      Traceback (most recent call last)",
      "\u001b[0;32m<ipython-input-42-f24bded38cdb>\u001b[0m in \u001b[0;36m<module>\u001b[0;34m()\u001b[0m\n\u001b[1;32m      9\u001b[0m     \u001b[0msess\u001b[0m\u001b[0;34m.\u001b[0m\u001b[0mrun\u001b[0m\u001b[0;34m(\u001b[0m\u001b[0mtf\u001b[0m\u001b[0;34m.\u001b[0m\u001b[0minitialize_all_variables\u001b[0m\u001b[0;34m(\u001b[0m\u001b[0;34m)\u001b[0m\u001b[0;34m)\u001b[0m\u001b[0;34m\u001b[0m\u001b[0m\n\u001b[1;32m     10\u001b[0m     \u001b[0mf1\u001b[0m \u001b[0;34m=\u001b[0m \u001b[0mtf\u001b[0m\u001b[0;34m.\u001b[0m\u001b[0mreduce_sum\u001b[0m\u001b[0;34m(\u001b[0m \u001b[0;34m[\u001b[0m\u001b[0;36m100\u001b[0m \u001b[0;34m*\u001b[0m \u001b[0;34m(\u001b[0m\u001b[0mtf\u001b[0m\u001b[0;34m.\u001b[0m\u001b[0mpow\u001b[0m\u001b[0;34m(\u001b[0m \u001b[0mx\u001b[0m\u001b[0;34m[\u001b[0m\u001b[0mi\u001b[0m \u001b[0;34m+\u001b[0m \u001b[0;36m1\u001b[0m\u001b[0;34m]\u001b[0m \u001b[0;34m-\u001b[0m \u001b[0mtf\u001b[0m\u001b[0;34m.\u001b[0m\u001b[0mpow\u001b[0m\u001b[0;34m(\u001b[0m\u001b[0mx\u001b[0m\u001b[0;34m[\u001b[0m\u001b[0mi\u001b[0m\u001b[0;34m]\u001b[0m\u001b[0;34m,\u001b[0m \u001b[0;36m2\u001b[0m\u001b[0;34m)\u001b[0m\u001b[0;34m,\u001b[0m \u001b[0;36m2\u001b[0m\u001b[0;34m)\u001b[0m\u001b[0;34m)\u001b[0m \u001b[0;34m+\u001b[0m \u001b[0mtf\u001b[0m\u001b[0;34m.\u001b[0m\u001b[0mpow\u001b[0m\u001b[0;34m(\u001b[0m \u001b[0mx\u001b[0m\u001b[0;34m[\u001b[0m\u001b[0mi\u001b[0m\u001b[0;34m]\u001b[0m \u001b[0;34m-\u001b[0m \u001b[0;36m1\u001b[0m\u001b[0;34m,\u001b[0m \u001b[0;36m2\u001b[0m\u001b[0;34m)\u001b[0m \u001b[0;32mfor\u001b[0m \u001b[0mi\u001b[0m \u001b[0;32min\u001b[0m \u001b[0mrange\u001b[0m\u001b[0;34m(\u001b[0m \u001b[0mdimensions\u001b[0m \u001b[0;34m-\u001b[0m \u001b[0;36m1\u001b[0m \u001b[0;34m)\u001b[0m\u001b[0;34m]\u001b[0m \u001b[0;34m)\u001b[0m\u001b[0;34m\u001b[0m\u001b[0m\n\u001b[0;32m---> 11\u001b[0;31m     \u001b[0mrosenbrockNewton2\u001b[0m\u001b[0;34m.\u001b[0m\u001b[0mappend\u001b[0m\u001b[0;34m(\u001b[0m \u001b[0mNewtonRaphson\u001b[0m\u001b[0;34m(\u001b[0m \u001b[0mx\u001b[0m\u001b[0;34m,\u001b[0m \u001b[0mf1\u001b[0m\u001b[0;34m+\u001b[0m\u001b[0;36m0.00001\u001b[0m\u001b[0;34m,\u001b[0m \u001b[0miterations\u001b[0m \u001b[0;34m)\u001b[0m \u001b[0;34m)\u001b[0m\u001b[0;34m\u001b[0m\u001b[0m\n\u001b[0m\u001b[1;32m     12\u001b[0m \u001b[0msess\u001b[0m\u001b[0;34m.\u001b[0m\u001b[0mclose\u001b[0m\u001b[0;34m(\u001b[0m\u001b[0;34m)\u001b[0m\u001b[0;34m\u001b[0m\u001b[0m\n",
      "\u001b[0;32m<ipython-input-7-76e9e36c9281>\u001b[0m in \u001b[0;36mNewtonRaphson\u001b[0;34m(x, f, num_iterations)\u001b[0m\n\u001b[1;32m     16\u001b[0m         \u001b[0mhistory_loss\u001b[0m\u001b[0;34m.\u001b[0m\u001b[0mappend\u001b[0m\u001b[0;34m(\u001b[0m\u001b[0mfunc\u001b[0m\u001b[0;34m)\u001b[0m\u001b[0;34m\u001b[0m\u001b[0m\n\u001b[1;32m     17\u001b[0m         \u001b[0;31m#print( v, func )\u001b[0m\u001b[0;34m\u001b[0m\u001b[0;34m\u001b[0m\u001b[0m\n\u001b[0;32m---> 18\u001b[0;31m         \u001b[0msess\u001b[0m\u001b[0;34m.\u001b[0m\u001b[0mrun\u001b[0m\u001b[0;34m(\u001b[0m\u001b[0moptimize_op\u001b[0m\u001b[0;34m)\u001b[0m\u001b[0;34m\u001b[0m\u001b[0m\n\u001b[0m\u001b[1;32m     19\u001b[0m     \u001b[0msess\u001b[0m\u001b[0;34m.\u001b[0m\u001b[0mclose\u001b[0m\u001b[0;34m(\u001b[0m\u001b[0;34m)\u001b[0m\u001b[0;34m\u001b[0m\u001b[0m\n\u001b[1;32m     20\u001b[0m     \u001b[0;32mreturn\u001b[0m \u001b[0mv\u001b[0m\u001b[0;34m,\u001b[0m \u001b[0mhistory_loss\u001b[0m\u001b[0;34m\u001b[0m\u001b[0m\n",
      "\u001b[0;32m~/Documents/deeplearning-venv/lib/python3.6/site-packages/tensorflow/python/client/session.py\u001b[0m in \u001b[0;36mrun\u001b[0;34m(self, fetches, feed_dict, options, run_metadata)\u001b[0m\n\u001b[1;32m    875\u001b[0m     \u001b[0;32mtry\u001b[0m\u001b[0;34m:\u001b[0m\u001b[0;34m\u001b[0m\u001b[0m\n\u001b[1;32m    876\u001b[0m       result = self._run(None, fetches, feed_dict, options_ptr,\n\u001b[0;32m--> 877\u001b[0;31m                          run_metadata_ptr)\n\u001b[0m\u001b[1;32m    878\u001b[0m       \u001b[0;32mif\u001b[0m \u001b[0mrun_metadata\u001b[0m\u001b[0;34m:\u001b[0m\u001b[0;34m\u001b[0m\u001b[0m\n\u001b[1;32m    879\u001b[0m         \u001b[0mproto_data\u001b[0m \u001b[0;34m=\u001b[0m \u001b[0mtf_session\u001b[0m\u001b[0;34m.\u001b[0m\u001b[0mTF_GetBuffer\u001b[0m\u001b[0;34m(\u001b[0m\u001b[0mrun_metadata_ptr\u001b[0m\u001b[0;34m)\u001b[0m\u001b[0;34m\u001b[0m\u001b[0m\n",
      "\u001b[0;32m~/Documents/deeplearning-venv/lib/python3.6/site-packages/tensorflow/python/client/session.py\u001b[0m in \u001b[0;36m_run\u001b[0;34m(self, handle, fetches, feed_dict, options, run_metadata)\u001b[0m\n\u001b[1;32m   1098\u001b[0m     \u001b[0;32mif\u001b[0m \u001b[0mfinal_fetches\u001b[0m \u001b[0;32mor\u001b[0m \u001b[0mfinal_targets\u001b[0m \u001b[0;32mor\u001b[0m \u001b[0;34m(\u001b[0m\u001b[0mhandle\u001b[0m \u001b[0;32mand\u001b[0m \u001b[0mfeed_dict_tensor\u001b[0m\u001b[0;34m)\u001b[0m\u001b[0;34m:\u001b[0m\u001b[0;34m\u001b[0m\u001b[0m\n\u001b[1;32m   1099\u001b[0m       results = self._do_run(handle, final_targets, final_fetches,\n\u001b[0;32m-> 1100\u001b[0;31m                              feed_dict_tensor, options, run_metadata)\n\u001b[0m\u001b[1;32m   1101\u001b[0m     \u001b[0;32melse\u001b[0m\u001b[0;34m:\u001b[0m\u001b[0;34m\u001b[0m\u001b[0m\n\u001b[1;32m   1102\u001b[0m       \u001b[0mresults\u001b[0m \u001b[0;34m=\u001b[0m \u001b[0;34m[\u001b[0m\u001b[0;34m]\u001b[0m\u001b[0;34m\u001b[0m\u001b[0m\n",
      "\u001b[0;32m~/Documents/deeplearning-venv/lib/python3.6/site-packages/tensorflow/python/client/session.py\u001b[0m in \u001b[0;36m_do_run\u001b[0;34m(self, handle, target_list, fetch_list, feed_dict, options, run_metadata)\u001b[0m\n\u001b[1;32m   1270\u001b[0m     \u001b[0;32mif\u001b[0m \u001b[0mhandle\u001b[0m \u001b[0;32mis\u001b[0m \u001b[0;32mNone\u001b[0m\u001b[0;34m:\u001b[0m\u001b[0;34m\u001b[0m\u001b[0m\n\u001b[1;32m   1271\u001b[0m       return self._do_call(_run_fn, feeds, fetches, targets, options,\n\u001b[0;32m-> 1272\u001b[0;31m                            run_metadata)\n\u001b[0m\u001b[1;32m   1273\u001b[0m     \u001b[0;32melse\u001b[0m\u001b[0;34m:\u001b[0m\u001b[0;34m\u001b[0m\u001b[0m\n\u001b[1;32m   1274\u001b[0m       \u001b[0;32mreturn\u001b[0m \u001b[0mself\u001b[0m\u001b[0;34m.\u001b[0m\u001b[0m_do_call\u001b[0m\u001b[0;34m(\u001b[0m\u001b[0m_prun_fn\u001b[0m\u001b[0;34m,\u001b[0m \u001b[0mhandle\u001b[0m\u001b[0;34m,\u001b[0m \u001b[0mfeeds\u001b[0m\u001b[0;34m,\u001b[0m \u001b[0mfetches\u001b[0m\u001b[0;34m)\u001b[0m\u001b[0;34m\u001b[0m\u001b[0m\n",
      "\u001b[0;32m~/Documents/deeplearning-venv/lib/python3.6/site-packages/tensorflow/python/client/session.py\u001b[0m in \u001b[0;36m_do_call\u001b[0;34m(self, fn, *args)\u001b[0m\n\u001b[1;32m   1289\u001b[0m         \u001b[0;32mexcept\u001b[0m \u001b[0mKeyError\u001b[0m\u001b[0;34m:\u001b[0m\u001b[0;34m\u001b[0m\u001b[0m\n\u001b[1;32m   1290\u001b[0m           \u001b[0;32mpass\u001b[0m\u001b[0;34m\u001b[0m\u001b[0m\n\u001b[0;32m-> 1291\u001b[0;31m       \u001b[0;32mraise\u001b[0m \u001b[0mtype\u001b[0m\u001b[0;34m(\u001b[0m\u001b[0me\u001b[0m\u001b[0;34m)\u001b[0m\u001b[0;34m(\u001b[0m\u001b[0mnode_def\u001b[0m\u001b[0;34m,\u001b[0m \u001b[0mop\u001b[0m\u001b[0;34m,\u001b[0m \u001b[0mmessage\u001b[0m\u001b[0;34m)\u001b[0m\u001b[0;34m\u001b[0m\u001b[0m\n\u001b[0m\u001b[1;32m   1292\u001b[0m \u001b[0;34m\u001b[0m\u001b[0m\n\u001b[1;32m   1293\u001b[0m   \u001b[0;32mdef\u001b[0m \u001b[0m_extend_graph\u001b[0m\u001b[0;34m(\u001b[0m\u001b[0mself\u001b[0m\u001b[0;34m)\u001b[0m\u001b[0;34m:\u001b[0m\u001b[0;34m\u001b[0m\u001b[0m\n",
      "\u001b[0;31mInvalidArgumentError\u001b[0m: Input is not invertible.\n\t [[Node: MatrixInverse_1 = MatrixInverse[T=DT_FLOAT, adjoint=false, _device=\"/job:localhost/replica:0/task:0/device:CPU:0\"](stack_7)]]\n\nCaused by op 'MatrixInverse_1', defined at:\n  File \"/usr/lib/python3.6/runpy.py\", line 193, in _run_module_as_main\n    \"__main__\", mod_spec)\n  File \"/usr/lib/python3.6/runpy.py\", line 85, in _run_code\n    exec(code, run_globals)\n  File \"/home/woom05/Documents/deeplearning-venv/lib/python3.6/site-packages/ipykernel_launcher.py\", line 16, in <module>\n    app.launch_new_instance()\n  File \"/home/woom05/Documents/deeplearning-venv/lib/python3.6/site-packages/traitlets/config/application.py\", line 658, in launch_instance\n    app.start()\n  File \"/home/woom05/Documents/deeplearning-venv/lib/python3.6/site-packages/ipykernel/kernelapp.py\", line 486, in start\n    self.io_loop.start()\n  File \"/home/woom05/Documents/deeplearning-venv/lib/python3.6/site-packages/tornado/platform/asyncio.py\", line 127, in start\n    self.asyncio_loop.run_forever()\n  File \"/usr/lib/python3.6/asyncio/base_events.py\", line 421, in run_forever\n    self._run_once()\n  File \"/usr/lib/python3.6/asyncio/base_events.py\", line 1426, in _run_once\n    handle._run()\n  File \"/usr/lib/python3.6/asyncio/events.py\", line 127, in _run\n    self._callback(*self._args)\n  File \"/home/woom05/Documents/deeplearning-venv/lib/python3.6/site-packages/tornado/platform/asyncio.py\", line 117, in _handle_events\n    handler_func(fileobj, events)\n  File \"/home/woom05/Documents/deeplearning-venv/lib/python3.6/site-packages/tornado/stack_context.py\", line 276, in null_wrapper\n    return fn(*args, **kwargs)\n  File \"/home/woom05/Documents/deeplearning-venv/lib/python3.6/site-packages/zmq/eventloop/zmqstream.py\", line 450, in _handle_events\n    self._handle_recv()\n  File \"/home/woom05/Documents/deeplearning-venv/lib/python3.6/site-packages/zmq/eventloop/zmqstream.py\", line 480, in _handle_recv\n    self._run_callback(callback, msg)\n  File \"/home/woom05/Documents/deeplearning-venv/lib/python3.6/site-packages/zmq/eventloop/zmqstream.py\", line 432, in _run_callback\n    callback(*args, **kwargs)\n  File \"/home/woom05/Documents/deeplearning-venv/lib/python3.6/site-packages/tornado/stack_context.py\", line 276, in null_wrapper\n    return fn(*args, **kwargs)\n  File \"/home/woom05/Documents/deeplearning-venv/lib/python3.6/site-packages/ipykernel/kernelbase.py\", line 283, in dispatcher\n    return self.dispatch_shell(stream, msg)\n  File \"/home/woom05/Documents/deeplearning-venv/lib/python3.6/site-packages/ipykernel/kernelbase.py\", line 233, in dispatch_shell\n    handler(stream, idents, msg)\n  File \"/home/woom05/Documents/deeplearning-venv/lib/python3.6/site-packages/ipykernel/kernelbase.py\", line 399, in execute_request\n    user_expressions, allow_stdin)\n  File \"/home/woom05/Documents/deeplearning-venv/lib/python3.6/site-packages/ipykernel/ipkernel.py\", line 208, in do_execute\n    res = shell.run_cell(code, store_history=store_history, silent=silent)\n  File \"/home/woom05/Documents/deeplearning-venv/lib/python3.6/site-packages/ipykernel/zmqshell.py\", line 537, in run_cell\n    return super(ZMQInteractiveShell, self).run_cell(*args, **kwargs)\n  File \"/home/woom05/Documents/deeplearning-venv/lib/python3.6/site-packages/IPython/core/interactiveshell.py\", line 2662, in run_cell\n    raw_cell, store_history, silent, shell_futures)\n  File \"/home/woom05/Documents/deeplearning-venv/lib/python3.6/site-packages/IPython/core/interactiveshell.py\", line 2785, in _run_cell\n    interactivity=interactivity, compiler=compiler, result=result)\n  File \"/home/woom05/Documents/deeplearning-venv/lib/python3.6/site-packages/IPython/core/interactiveshell.py\", line 2903, in run_ast_nodes\n    if self.run_code(code, result):\n  File \"/home/woom05/Documents/deeplearning-venv/lib/python3.6/site-packages/IPython/core/interactiveshell.py\", line 2963, in run_code\n    exec(code_obj, self.user_global_ns, self.user_ns)\n  File \"<ipython-input-42-f24bded38cdb>\", line 11, in <module>\n    rosenbrockNewton2.append( NewtonRaphson( x, f1+0.00001, iterations ) )\n  File \"<ipython-input-7-76e9e36c9281>\", line 3, in NewtonRaphson\n    hessian_inv = tf.matrix_inverse(hessian)\n  File \"/home/woom05/Documents/deeplearning-venv/lib/python3.6/site-packages/tensorflow/python/ops/gen_linalg_ops.py\", line 1049, in matrix_inverse\n    \"MatrixInverse\", input=input, adjoint=adjoint, name=name)\n  File \"/home/woom05/Documents/deeplearning-venv/lib/python3.6/site-packages/tensorflow/python/framework/op_def_library.py\", line 787, in _apply_op_helper\n    op_def=op_def)\n  File \"/home/woom05/Documents/deeplearning-venv/lib/python3.6/site-packages/tensorflow/python/util/deprecation.py\", line 454, in new_func\n    return func(*args, **kwargs)\n  File \"/home/woom05/Documents/deeplearning-venv/lib/python3.6/site-packages/tensorflow/python/framework/ops.py\", line 3155, in create_op\n    op_def=op_def)\n  File \"/home/woom05/Documents/deeplearning-venv/lib/python3.6/site-packages/tensorflow/python/framework/ops.py\", line 1717, in __init__\n    self._traceback = tf_stack.extract_stack()\n\nInvalidArgumentError (see above for traceback): Input is not invertible.\n\t [[Node: MatrixInverse_1 = MatrixInverse[T=DT_FLOAT, adjoint=false, _device=\"/job:localhost/replica:0/task:0/device:CPU:0\"](stack_7)]]\n"
     ]
    }
   ],
   "source": [
    "rosenbrockNewton2 = []\n",
    "sess = tf.Session()\n",
    "iterations = 100\n",
    "dimensions = 2\n",
    "for i in range( 5 ):\n",
    "    x = []\n",
    "    for j in range( dimensions ):\n",
    "        x.append(tf.Variable(np.random.random() * 4096 - 2048))\n",
    "    sess.run(tf.initialize_all_variables())\n",
    "    f1 = tf.reduce_sum( [100 * (tf.pow( x[i + 1] - tf.pow(x[i], 2), 2)) + tf.pow( x[i] - 1, 2) for i in range( dimensions - 1 )] )\n",
    "    rosenbrockNewton2.append( NewtonRaphson( x, f1, iterations ) )\n",
    "sess.close()"
   ]
  },
  {
   "cell_type": "code",
   "execution_count": 41,
   "metadata": {},
   "outputs": [
    {
     "name": "stdout",
     "output_type": "stream",
     "text": [
      "401.0001\n"
     ]
    }
   ],
   "source": [
    "x = []\n",
    "sess = tf.Session()\n",
    "for j in range( dimensions ):\n",
    "    x.append(tf.Variable(2.0))\n",
    "sess.run(tf.initialize_all_variables())\n",
    "f1 = tf.reduce_sum( [100.0 * (tf.pow( x[i + 1] - tf.pow(x[i], 2), 2)) + tf.pow( x[i] - 1, 2) for i in range( dimensions - 1 )] )\n",
    "sess.run(tf.initialize_all_variables())\n",
    "print(sess.run(f1+0.0001))\n",
    "sess.close()\n"
   ]
  },
  {
   "cell_type": "code",
   "execution_count": 34,
   "metadata": {},
   "outputs": [],
   "source": [
    "tf.reset_default_graph()"
   ]
  }
 ],
 "metadata": {
  "kernelspec": {
   "display_name": "deepLearningKernel",
   "language": "python",
   "name": "deeplearningkernel"
  },
  "language_info": {
   "codemirror_mode": {
    "name": "ipython",
    "version": 3
   },
   "file_extension": ".py",
   "mimetype": "text/x-python",
   "name": "python",
   "nbconvert_exporter": "python",
   "pygments_lexer": "ipython3",
   "version": "3.6.3"
  }
 },
 "nbformat": 4,
 "nbformat_minor": 2
}
