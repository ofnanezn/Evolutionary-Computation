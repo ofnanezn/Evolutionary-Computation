{
 "cells": [
  {
   "cell_type": "code",
   "execution_count": 1,
   "metadata": {},
   "outputs": [],
   "source": [
    "import matplotlib.pyplot as plt"
   ]
  },
  {
   "cell_type": "code",
   "execution_count": 2,
   "metadata": {},
   "outputs": [
    {
     "data": {
      "text/plain": [
       "[<matplotlib.lines.Line2D at 0x7f04ef84e4e0>]"
      ]
     },
     "execution_count": 2,
     "metadata": {},
     "output_type": "execute_result"
    },
    {
     "data": {
      "image/png": "[encoded data removed]",
      "text/plain": [
       "<Figure size 432x288 with 1 Axes>"
      ]
     },
     "metadata": {},
     "output_type": "display_data"
    }
   ],
   "source": [
    "x = [1,2,3]\n",
    "y = [1,4,8]\n",
    "\n",
    "plt.plot(x, y)\n"
   ]
  },
  {
   "cell_type": "code",
   "execution_count": 2,
   "metadata": {},
   "outputs": [],
   "source": [
    "import pickle\n",
    "import numpy as np"
   ]
  },
  {
   "cell_type": "code",
   "execution_count": 3,
   "metadata": {},
   "outputs": [],
   "source": [
    "total_histories = pickle.load(open(\"total_histories.pickle\", 'rb'))\n",
    "optimal_founds = pickle.load(open(\"optimal_founds.pickle\", 'rb'))"
   ]
  },
  {
   "cell_type": "code",
   "execution_count": 4,
   "metadata": {},
   "outputs": [],
   "source": [
    "total_history = total_histories[0]\n",
    "total_history2 = total_histories[1]\n",
    "total_history3 = total_histories[2]\n",
    "total_history4 = total_histories[3]\n",
    "total_history5 = total_histories[4]\n",
    "total_history6 = total_histories[5]\n",
    "total_history7 = total_histories[6]\n",
    "total_history8 = total_histories[7]\n",
    "total_history9 = total_histories[8]\n",
    "total_history10 = total_histories[9]\n",
    "total_history11 = total_histories[10]\n",
    "total_history12 = total_histories[11]\n",
    "total_history13 = total_histories[12]\n",
    "total_history14 = total_histories[13]\n",
    "total_history15 = total_histories[14]\n",
    "total_history16 = total_histories[15]\n",
    "total_history17 = total_histories[16]\n",
    "total_history18 = total_histories[17]\n",
    "total_history19 = total_histories[18]\n",
    "total_history20 = total_histories[19]\n",
    "total_history21 = total_histories[20]\n",
    "total_history22 = total_histories[21]\n",
    "total_history23 = total_histories[22]\n",
    "total_history24 = total_histories[23]\n",
    "total_history25 = total_histories[24]\n",
    "total_history26 = total_histories[25]\n",
    "total_history27 = total_histories[26]\n",
    "total_history28 = total_histories[27]\n",
    "total_history29 = total_histories[28]\n",
    "total_history30 = total_histories[29]\n",
    "total_history31 = total_histories[30]\n",
    "total_history32 = total_histories[31]\n",
    "total_history33 = total_histories[32]\n",
    "total_history34 = total_histories[33]\n",
    "total_history35 = total_histories[34]\n",
    "\n",
    "optimal_found1 = optimal_founds[0]\n",
    "optimal_found2 = optimal_founds[1]\n",
    "optimal_found3 = optimal_founds[2]\n",
    "optimal_found4 = optimal_founds[3]\n",
    "optimal_found5 = optimal_founds[4]\n",
    "optimal_found6 = optimal_founds[5]\n",
    "optimal_found7 = optimal_founds[6]\n",
    "optimal_found8 = optimal_founds[7]\n",
    "optimal_found9 = optimal_founds[8]\n",
    "optimal_found10 = optimal_founds[9]\n",
    "optimal_found11 = optimal_founds[10]\n",
    "optimal_found12 = optimal_founds[11]\n",
    "optimal_found13 = optimal_founds[12]\n",
    "optimal_found14 = optimal_founds[13]\n",
    "optimal_found15 = optimal_founds[14]\n",
    "optimal_found16 = optimal_founds[15]\n",
    "optimal_found17 = optimal_founds[16]\n",
    "optimal_found18 = optimal_founds[17]\n",
    "optimal_found19 = optimal_founds[18]\n",
    "optimal_found20 = optimal_founds[19]\n",
    "optimal_found21 = optimal_founds[20]\n",
    "optimal_found22 = optimal_founds[21]\n",
    "optimal_found23 = optimal_founds[22]\n",
    "optimal_found24 = optimal_founds[23]\n",
    "optimal_found25 = optimal_founds[24]\n",
    "optimal_found26 = optimal_founds[25]\n",
    "optimal_found27 = optimal_founds[26]\n",
    "optimal_found28 = optimal_founds[27]\n",
    "optimal_found29 = optimal_founds[28]\n",
    "optimal_found30 = optimal_founds[29]\n",
    "optimal_found31 = optimal_founds[30]\n",
    "optimal_found32 = optimal_founds[31]\n",
    "optimal_found33 = optimal_founds[32]\n",
    "optimal_found34 = optimal_founds[33]\n",
    "optimal_found35 = optimal_founds[34]"
   ]
  },
  {
   "cell_type": "code",
   "execution_count": 5,
   "metadata": {},
   "outputs": [],
   "source": [
    "def standarDeviation(x):\n",
    "    return np.sqrt(np.sum((x-np.median(x))**2)/len(x))\n",
    "\n",
    "def getErrorPlot(data, num_steps=100):\n",
    "    x = list(range(0, data.shape[1], num_steps))\n",
    "    y = np.empty(0)\n",
    "    std = np.empty(0)\n",
    "    for j in range(0, data.shape[1], num_steps):\n",
    "        xj = data[:, j]\n",
    "        y = np.append(y, np.median(xj))\n",
    "        std = np.append(std, standarDeviation(xj))\n",
    "    return x, y, std\n",
    "\n",
    "def plotGraphs(graph):\n",
    "    plt.plot(list(range(1,1001)), np.average(graph, axis=0), label='Average')\n",
    "    plt.plot(list(range(1,1001)), np.median(graph, axis=0), label='Median')\n",
    "    plt.plot(list(range(1,1001)), np.min(graph, axis=0), label='Min')\n",
    "    plt.plot(list(range(1,1001)), np.max(graph, axis=0), label='Max')\n",
    "    x, y, z = getErrorPlot(graph)\n",
    "    plt.errorbar(x, y, z, marker='^', ls='None')\n",
    "    plt.legend(loc='upper right', shadow=True, fontsize = \"xx-small\")\n",
    "    plt.xlabel('iterations')\n",
    "    plt.ylabel('f(x)')\n",
    "    plt.ylim(ymax=2000)\n",
    "    plt.ylim(ymin=0)\n",
    "    \n",
    "def plotGraphs10D(graph):\n",
    "    plt.plot(list(range(1,10001)), np.average(graph, axis=0), label='Average')\n",
    "    plt.plot(list(range(1,10001)), np.median(graph, axis=0), label='Median')\n",
    "    plt.plot(list(range(1,10001)), np.min(graph, axis=0), label='Min')\n",
    "    plt.plot(list(range(1,10001)), np.max(graph, axis=0), label='Max')\n",
    "    x, y, z = getErrorPlot(graph, num_steps=1000)\n",
    "    plt.errorbar(x, y, z, marker='^', ls='None')\n",
    "    plt.legend(loc='upper right', shadow=True, fontsize = \"xx-small\")\n",
    "    plt.xlabel('iterations')\n",
    "    plt.ylabel('f(x)')"
   ]
  },
  {
   "cell_type": "code",
   "execution_count": 6,
   "metadata": {},
   "outputs": [],
   "source": [
    "def standarDeviation(x):\n",
    "    return np.sqrt(np.sum((x-np.median(x))**2)/len(x))"
   ]
  },
  {
   "cell_type": "code",
   "execution_count": 7,
   "metadata": {},
   "outputs": [],
   "source": [
    "def Rastrigin(x):\n",
    "    A = 10\n",
    "    d = len(x)\n",
    "    return A * d + np.sum(x**2 - A * np.cos(2*np.pi*x))"
   ]
  },
  {
   "cell_type": "code",
   "execution_count": 8,
   "metadata": {},
   "outputs": [],
   "source": [
    "def Rosenbrock(x):\n",
    "    return 100 * (x[0]**2-x[1])**2 + (1-x[0])**2"
   ]
  },
  {
   "cell_type": "code",
   "execution_count": 9,
   "metadata": {},
   "outputs": [],
   "source": [
    "def Schwefel(x):\n",
    "    d = len(x)\n",
    "    return 418.9829 * d + np.sum(-x * np.sin(np.sqrt(np.abs(x))))"
   ]
  },
  {
   "cell_type": "code",
   "execution_count": 10,
   "metadata": {},
   "outputs": [],
   "source": [
    "def Griewank(x):\n",
    "    d = len(x)\n",
    "    return 1 + np.sum(x**2 / 4000) - np.prod(np.cos(x/np.sqrt(np.arange(1,d+1))))"
   ]
  },
  {
   "cell_type": "code",
   "execution_count": 83,
   "metadata": {
    "scrolled": true
   },
   "outputs": [
    {
     "name": "stdout",
     "output_type": "stream",
     "text": [
      "Optimal founds:\n",
      "333.0332776779435\n",
      "411.5896049378566\n",
      "236.8832848691627\n",
      "296.1092699103367\n",
      "513.340853934139\n",
      "335.58670204386914\n",
      "414.5473644136664\n",
      "236.8797257838237\n",
      "296.10782442597156\n",
      "434.2819149764907\n",
      "217.14375536230318\n",
      "513.2747017493243\n",
      "296.10859612174306\n",
      "414.54767256490254\n",
      "335.5820429977458\n",
      "118.44414627137212\n",
      "414.54844537116935\n",
      "411.5967350962328\n",
      "0.008391754568378929\n",
      "0.0017602216021259665\n",
      "118.43980781751793\n",
      "414.54680641747285\n",
      "474.64029958383344\n",
      "118.52316507826265\n",
      "296.11080314764786\n",
      "296.1081369313081\n",
      "471.5080624643648\n",
      "572.4904536543007\n",
      "335.5804462209681\n",
      "355.3552646015568\n"
     ]
    }
   ],
   "source": [
    "print(\"Optimal founds:\")\n",
    "for x in optimal_found14:\n",
    "    print(Schwefel(np.array(x)))"
   ]
  },
  {
   "cell_type": "code",
   "execution_count": 124,
   "metadata": {},
   "outputs": [
    {
     "name": "stdout",
     "output_type": "stream",
     "text": [
      "45.91085007985433\n",
      "30.653433068593344\n",
      "25.938261131445568\n",
      "1.966104924291695\n",
      "2.1047238566081092\n",
      "30.841331601137014\n",
      "9.888918960303966\n",
      "10.84860166107287\n",
      "1.0535375496875232\n",
      "1.3279165623231248\n"
     ]
    }
   ],
   "source": [
    "print(np.mean(np.array([Rastrigin(np.array(x)) for x in optimal_found1])))\n",
    "print(np.mean(np.array([Rastrigin(np.array(x)) for x in optimal_found2])))\n",
    "print(np.mean(np.array([Rastrigin(np.array(x)) for x in optimal_found3])))\n",
    "print(np.mean(np.array([Rastrigin(np.array(x)) for x in optimal_found4])))\n",
    "print(np.mean(np.array([Rastrigin(np.array(x)) for x in optimal_found5])))\n",
    "\n",
    "print(np.std(np.array([Rastrigin(np.array(x)) for x in optimal_found1])))\n",
    "print(np.std(np.array([Rastrigin(np.array(x)) for x in optimal_found2])))\n",
    "print(np.std(np.array([Rastrigin(np.array(x)) for x in optimal_found3])))\n",
    "print(np.std(np.array([Rastrigin(np.array(x)) for x in optimal_found4])))\n",
    "print(np.std(np.array([Rastrigin(np.array(x)) for x in optimal_found5])))"
   ]
  },
  {
   "cell_type": "code",
   "execution_count": 11,
   "metadata": {},
   "outputs": [
    {
     "name": "stdout",
     "output_type": "stream",
     "text": [
      "120.15423624218471\n",
      "nan\n",
      "nan\n",
      "0.020558841927211177\n",
      "1.0314477730929752\n",
      "183.2023195245613\n",
      "nan\n",
      "nan\n",
      "0.016009051923570307\n",
      "1.0682220500356192\n"
     ]
    }
   ],
   "source": [
    "print(np.mean(np.array([Rosenbrock(np.array(x)) for x in optimal_found6])))\n",
    "print(np.mean(np.array([Rosenbrock(np.array(x)) for x in optimal_found7])))\n",
    "print(np.mean(np.array([Rosenbrock(np.array(x)) for x in optimal_found8])))\n",
    "print(np.mean(np.array([Rosenbrock(np.array(x)) for x in optimal_found9])))\n",
    "print(np.mean(np.array([Rosenbrock(np.array(x)) for x in optimal_found10])))\n",
    "\n",
    "print(np.std(np.array([Rosenbrock(np.array(x)) for x in optimal_found6])))\n",
    "print(np.std(np.array([Rosenbrock(np.array(x)) for x in optimal_found7])))\n",
    "print(np.std(np.array([Rosenbrock(np.array(x)) for x in optimal_found8])))\n",
    "print(np.std(np.array([Rosenbrock(np.array(x)) for x in optimal_found9])))\n",
    "print(np.std(np.array([Rosenbrock(np.array(x)) for x in optimal_found10])))"
   ]
  },
  {
   "cell_type": "code",
   "execution_count": 12,
   "metadata": {},
   "outputs": [
    {
     "name": "stdout",
     "output_type": "stream",
     "text": [
      "Median:\n",
      "609.4734997121171\n",
      "312.167724641927\n",
      "309.194778729248\n",
      "322.76397721338185\n",
      "273.0256209739474\n",
      "Std:\n",
      "984.7184472449519\n",
      "260.6627966331526\n",
      "271.5575078815193\n",
      "142.21568608084883\n",
      "125.56657875550769\n"
     ]
    }
   ],
   "source": [
    "print(\"Median:\")\n",
    "print(np.mean(np.array([Schwefel(np.array(x)) for x in optimal_found11])))\n",
    "print(np.mean(np.array([Schwefel(np.array(x)) for x in optimal_found12])))\n",
    "print(np.mean(np.array([Schwefel(np.array(x)) for x in optimal_found13])))\n",
    "print(np.mean(np.array([Schwefel(np.array(x)) for x in optimal_found14])))\n",
    "print(np.mean(np.array([Schwefel(np.array(x)) for x in optimal_found15])))\n",
    "\n",
    "print(\"Std:\")\n",
    "print(np.std(np.array([Schwefel(np.array(x)) for x in optimal_found11])))\n",
    "print(np.std(np.array([Schwefel(np.array(x)) for x in optimal_found12])))\n",
    "print(np.std(np.array([Schwefel(np.array(x)) for x in optimal_found13])))\n",
    "print(np.std(np.array([Schwefel(np.array(x)) for x in optimal_found14])))\n",
    "print(np.std(np.array([Schwefel(np.array(x)) for x in optimal_found15])))"
   ]
  },
  {
   "cell_type": "code",
   "execution_count": 13,
   "metadata": {},
   "outputs": [
    {
     "name": "stdout",
     "output_type": "stream",
     "text": [
      "Median:\n",
      "65.0390490558981\n",
      "65.32138343518687\n",
      "48.63581409443961\n",
      "0.4409778140198019\n",
      "1.9976820426749329\n",
      "Std:\n",
      "38.816290078875035\n",
      "34.58858445446852\n",
      "38.60721711562433\n",
      "0.4059711103171398\n",
      "1.6857740134524406\n"
     ]
    }
   ],
   "source": [
    "print(\"Median:\")\n",
    "print(np.mean(np.array([Griewank(np.array(x)) for x in optimal_found16])))\n",
    "print(np.mean(np.array([Griewank(np.array(x)) for x in optimal_found17])))\n",
    "print(np.mean(np.array([Griewank(np.array(x)) for x in optimal_found18])))\n",
    "print(np.mean(np.array([Griewank(np.array(x)) for x in optimal_found19])))\n",
    "print(np.mean(np.array([Griewank(np.array(x)) for x in optimal_found20])))\n",
    "\n",
    "print(\"Std:\")\n",
    "print(np.std(np.array([Griewank(np.array(x)) for x in optimal_found16])))\n",
    "print(np.std(np.array([Griewank(np.array(x)) for x in optimal_found17])))\n",
    "print(np.std(np.array([Griewank(np.array(x)) for x in optimal_found18])))\n",
    "print(np.std(np.array([Griewank(np.array(x)) for x in optimal_found19])))\n",
    "print(np.std(np.array([Griewank(np.array(x)) for x in optimal_found20])))"
   ]
  },
  {
   "cell_type": "code",
   "execution_count": 14,
   "metadata": {},
   "outputs": [
    {
     "name": "stdout",
     "output_type": "stream",
     "text": [
      "Median:\n",
      "307.68009621302286\n",
      "159.75391289393107\n",
      "121.41309626102448\n",
      "61.42145090452675\n",
      "63.25360071325387\n",
      "Std:\n",
      "378.94673084047326\n",
      "19.57314581189092\n",
      "22.16268664528767\n",
      "8.441985356438632\n",
      "10.874323611933269\n"
     ]
    }
   ],
   "source": [
    "print(\"Median:\")\n",
    "print(np.mean(np.array([Rastrigin(np.array(x)) for x in optimal_found21])))\n",
    "print(np.mean(np.array([Rastrigin(np.array(x)) for x in optimal_found22])))\n",
    "print(np.mean(np.array([Rastrigin(np.array(x)) for x in optimal_found23])))\n",
    "print(np.mean(np.array([Rastrigin(np.array(x)) for x in optimal_found24])))\n",
    "print(np.mean(np.array([Rastrigin(np.array(x)) for x in optimal_found25])))\n",
    "\n",
    "print(\"Std:\")\n",
    "print(np.std(np.array([Rastrigin(np.array(x)) for x in optimal_found21])))\n",
    "print(np.std(np.array([Rastrigin(np.array(x)) for x in optimal_found22])))\n",
    "print(np.std(np.array([Rastrigin(np.array(x)) for x in optimal_found23])))\n",
    "print(np.std(np.array([Rastrigin(np.array(x)) for x in optimal_found24])))\n",
    "print(np.std(np.array([Rastrigin(np.array(x)) for x in optimal_found25])))"
   ]
  },
  {
   "cell_type": "code",
   "execution_count": 15,
   "metadata": {},
   "outputs": [
    {
     "name": "stdout",
     "output_type": "stream",
     "text": [
      "Median:\n",
      "4312.191681261698\n",
      "4115.25450125122\n",
      "1558.3926555989576\n",
      "697.4908813133039\n",
      "607.3655621762398\n",
      "Std:\n",
      "1513.79998950668\n",
      "1803.324653556851\n",
      "413.13392480538965\n",
      "278.6522679882686\n",
      "253.43582024150305\n"
     ]
    }
   ],
   "source": [
    "print(\"Median:\")\n",
    "print(np.mean(np.array([Schwefel(np.array(x)) for x in optimal_found26])))\n",
    "print(np.mean(np.array([Schwefel(np.array(x)) for x in optimal_found27])))\n",
    "print(np.mean(np.array([Schwefel(np.array(x)) for x in optimal_found28])))\n",
    "print(np.mean(np.array([Schwefel(np.array(x)) for x in optimal_found29])))\n",
    "print(np.mean(np.array([Schwefel(np.array(x)) for x in optimal_found30])))\n",
    "\n",
    "print(\"Std:\")\n",
    "print(np.std(np.array([Schwefel(np.array(x)) for x in optimal_found26])))\n",
    "print(np.std(np.array([Schwefel(np.array(x)) for x in optimal_found27])))\n",
    "print(np.std(np.array([Schwefel(np.array(x)) for x in optimal_found28])))\n",
    "print(np.std(np.array([Schwefel(np.array(x)) for x in optimal_found29])))\n",
    "print(np.std(np.array([Schwefel(np.array(x)) for x in optimal_found30])))"
   ]
  },
  {
   "cell_type": "code",
   "execution_count": 16,
   "metadata": {},
   "outputs": [
    {
     "name": "stdout",
     "output_type": "stream",
     "text": [
      "Median:\n",
      "2638453667371418.5\n",
      "266.95476561526334\n",
      "252.0010624255926\n",
      "0.3794988537930972\n",
      "5.85351905374604\n",
      "Std:\n",
      "1.239242533558594e+16\n",
      "71.21215006118074\n",
      "72.672764309125\n",
      "0.14647249023398087\n",
      "1.5490605807066005\n"
     ]
    }
   ],
   "source": [
    "print(\"Median:\")\n",
    "print(np.mean(np.array([Griewank(np.array(x)) for x in optimal_found31])))\n",
    "print(np.mean(np.array([Griewank(np.array(x)) for x in optimal_found32])))\n",
    "print(np.mean(np.array([Griewank(np.array(x)) for x in optimal_found33])))\n",
    "print(np.mean(np.array([Griewank(np.array(x)) for x in optimal_found34])))\n",
    "print(np.mean(np.array([Griewank(np.array(x)) for x in optimal_found35])))\n",
    "\n",
    "print(\"Std:\")\n",
    "print(np.std(np.array([Griewank(np.array(x)) for x in optimal_found31])))\n",
    "print(np.std(np.array([Griewank(np.array(x)) for x in optimal_found32])))\n",
    "print(np.std(np.array([Griewank(np.array(x)) for x in optimal_found33])))\n",
    "print(np.std(np.array([Griewank(np.array(x)) for x in optimal_found34])))\n",
    "print(np.std(np.array([Griewank(np.array(x)) for x in optimal_found35])))"
   ]
  },
  {
   "cell_type": "code",
   "execution_count": 17,
   "metadata": {},
   "outputs": [],
   "source": [
    "csv = open(\"Rosenbrock2DgradientDescent.csv\", 'r')\n",
    "x = []\n",
    "\n",
    "for line in csv.readlines():\n",
    "    iters = list(map(float, line.strip().split(',')))\n",
    "    x.append(iters)\n",
    "    \n",
    "x = np.array(x)"
   ]
  },
  {
   "cell_type": "code",
   "execution_count": 18,
   "metadata": {},
   "outputs": [],
   "source": [
    "x = x[:30, 1:]"
   ]
  },
  {
   "cell_type": "code",
   "execution_count": 19,
   "metadata": {},
   "outputs": [
    {
     "data": {
      "text/plain": [
       "(30, 1000)"
      ]
     },
     "execution_count": 19,
     "metadata": {},
     "output_type": "execute_result"
    }
   ],
   "source": [
    "x.shape"
   ]
  },
  {
   "cell_type": "code",
   "execution_count": 20,
   "metadata": {},
   "outputs": [
    {
     "data": {
      "image/png": "[encoded data removed]",
      "text/plain": [
       "<Figure size 432x288 with 1 Axes>"
      ]
     },
     "metadata": {},
     "output_type": "display_data"
    }
   ],
   "source": [
    "plotGraphs(x)"
   ]
  },
  {
   "cell_type": "code",
   "execution_count": 21,
   "metadata": {},
   "outputs": [],
   "source": [
    "p = x + np.random.randn(30,1000) * 0.1"
   ]
  },
  {
   "cell_type": "code",
   "execution_count": 123,
   "metadata": {},
   "outputs": [
    {
     "data": {
      "image/png": "[encoded data removed]",
      "text/plain": [
       "<Figure size 432x288 with 1 Axes>"
      ]
     },
     "metadata": {},
     "output_type": "display_data"
    }
   ],
   "source": [
    "plotGraphs(p)"
   ]
  },
  {
   "cell_type": "code",
   "execution_count": 26,
   "metadata": {},
   "outputs": [
    {
     "data": {
      "text/plain": [
       "0.2725390928142409"
      ]
     },
     "execution_count": 26,
     "metadata": {},
     "output_type": "execute_result"
    }
   ],
   "source": [
    "np.std(p[:,-1])"
   ]
  },
  {
   "cell_type": "code",
   "execution_count": 1,
   "metadata": {},
   "outputs": [],
   "source": [
    "import numpy as np"
   ]
  },
  {
   "cell_type": "code",
   "execution_count": 4,
   "metadata": {},
   "outputs": [
    {
     "data": {
      "text/plain": [
       "array([-3.69766071,  0.61260605,  2.82818655,  2.98283896,  2.73546261,\n",
       "        4.47526995, -3.24076146, -4.38403005, -3.6879971 , -1.19275906,\n",
       "       -0.16924478,  4.39875336, -2.01202324,  3.27931869,  5.03216822,\n",
       "        0.92934138,  0.74590755, -4.74234057,  2.27850226,  1.98446105,\n",
       "        3.78164663, -4.57588998, -0.79738737, -3.74067963,  4.37992218,\n",
       "       -1.89497068,  3.51421547,  4.44919977, -4.93436352,  4.67045703,\n",
       "       -4.11089362,  2.83508394,  3.57250546, -5.04838589, -1.85469347,\n",
       "        0.51106811, -1.81300601, -3.53242298, -1.11858262, -0.58603877,\n",
       "        4.61569658,  2.11945557,  0.37389784, -1.91246942, -3.55403453,\n",
       "        2.24318586, -0.36144438,  0.95577946, -2.15131947, -4.95725157,\n",
       "        1.40370455, -3.49039812, -0.44767692,  2.57001951,  2.04297936,\n",
       "        0.81132441,  0.0971471 ,  4.79126829,  4.44450128, -0.35141757,\n",
       "        1.42568064,  2.89556359, -4.58829751, -2.90692297, -4.10372299,\n",
       "        3.04000113,  0.48861864,  1.36765069, -3.76454933,  1.55796946,\n",
       "        4.07041319,  4.52649191, -4.80035295, -3.90702694,  1.51290231,\n",
       "       -3.97464006,  4.36557766,  4.7984795 ,  1.84813846, -1.11775015,\n",
       "        2.32822757, -4.55660242,  1.05717343,  0.96076166,  3.84727526,\n",
       "        3.32233119, -3.55008773,  0.01481155, -3.72809689, -3.10178929,\n",
       "        3.69212451,  0.56170987,  2.35865753,  1.53761191, -4.38382345,\n",
       "       -0.90025881, -4.50024787, -0.12648545,  4.81417022, -2.39393103])"
      ]
     },
     "execution_count": 4,
     "metadata": {},
     "output_type": "execute_result"
    }
   ],
   "source": [
    "np.random.uniform(-5.12,5.12,100)"
   ]
  },
  {
   "cell_type": "code",
   "execution_count": 9,
   "metadata": {},
   "outputs": [],
   "source": [
    "a = np.array([-1.71706227, -2.70939062, -4.66487368, -4.62397592,  1.13312675, -4.1523304 ,  0.28848456, -0.0321186 , -1.24350391, -4.94431853])\n",
    "b = np.array([ 2.42250193, -0.75949109, -2.41788133,  1.35145386,  4.8305049, -4.74249449,  1.12980753,  0.27560984, -4.72258389,  1.21851038])"
   ]
  },
  {
   "cell_type": "code",
   "execution_count": 1,
   "metadata": {},
   "outputs": [],
   "source": [
    "import functools"
   ]
  },
  {
   "cell_type": "code",
   "execution_count": 3,
   "metadata": {},
   "outputs": [
    {
     "data": {
      "text/plain": [
       "60"
      ]
     },
     "execution_count": 3,
     "metadata": {},
     "output_type": "execute_result"
    }
   ],
   "source": [
    "functools.reduce(lambda x,y: x*y, map([3,4,5]))"
   ]
  },
  {
   "cell_type": "code",
   "execution_count": 4,
   "metadata": {},
   "outputs": [],
   "source": [
    "a = [3,4,5]"
   ]
  },
  {
   "cell_type": "code",
   "execution_count": 6,
   "metadata": {},
   "outputs": [
    {
     "ename": "NameError",
     "evalue": "name 'x' is not defined",
     "output_type": "error",
     "traceback": [
      "\u001b[0;31m---------------------------------------------------------------------------\u001b[0m",
      "\u001b[0;31mNameError\u001b[0m                                 Traceback (most recent call last)",
      "\u001b[0;32m<ipython-input-6-c4e931698f66>\u001b[0m in \u001b[0;36m<module>\u001b[0;34m()\u001b[0m\n\u001b[0;32m----> 1\u001b[0;31m \u001b[0mlist\u001b[0m\u001b[0;34m(\u001b[0m\u001b[0mmap\u001b[0m\u001b[0;34m(\u001b[0m\u001b[0;32mlambda\u001b[0m \u001b[0mi\u001b[0m\u001b[0;34m:\u001b[0m \u001b[0mi\u001b[0m\u001b[0;34m*\u001b[0m\u001b[0mx\u001b[0m\u001b[0;34m[\u001b[0m\u001b[0mi\u001b[0m\u001b[0;34m]\u001b[0m\u001b[0;34m,\u001b[0m \u001b[0ma\u001b[0m\u001b[0;34m)\u001b[0m\u001b[0;34m)\u001b[0m\u001b[0;34m\u001b[0m\u001b[0m\n\u001b[0m",
      "\u001b[0;32m<ipython-input-6-c4e931698f66>\u001b[0m in \u001b[0;36m<lambda>\u001b[0;34m(i)\u001b[0m\n\u001b[0;32m----> 1\u001b[0;31m \u001b[0mlist\u001b[0m\u001b[0;34m(\u001b[0m\u001b[0mmap\u001b[0m\u001b[0;34m(\u001b[0m\u001b[0;32mlambda\u001b[0m \u001b[0mi\u001b[0m\u001b[0;34m:\u001b[0m \u001b[0mi\u001b[0m\u001b[0;34m*\u001b[0m\u001b[0mx\u001b[0m\u001b[0;34m[\u001b[0m\u001b[0mi\u001b[0m\u001b[0;34m]\u001b[0m\u001b[0;34m,\u001b[0m \u001b[0ma\u001b[0m\u001b[0;34m)\u001b[0m\u001b[0;34m)\u001b[0m\u001b[0;34m\u001b[0m\u001b[0m\n\u001b[0m",
      "\u001b[0;31mNameError\u001b[0m: name 'x' is not defined"
     ]
    }
   ],
   "source": [
    "b = []"
   ]
  },
  {
   "cell_type": "code",
   "execution_count": null,
   "metadata": {},
   "outputs": [],
   "source": []
  }
 ],
 "metadata": {
  "kernelspec": {
   "display_name": "deepLearningKernel",
   "language": "python",
   "name": "deeplearningkernel"
  },
  "language_info": {
   "codemirror_mode": {
    "name": "ipython",
    "version": 3
   },
   "file_extension": ".py",
   "mimetype": "text/x-python",
   "name": "python",
   "nbconvert_exporter": "python",
   "pygments_lexer": "ipython3",
   "version": "3.6.3"
  }
 },
 "nbformat": 4,
 "nbformat_minor": 2
}
