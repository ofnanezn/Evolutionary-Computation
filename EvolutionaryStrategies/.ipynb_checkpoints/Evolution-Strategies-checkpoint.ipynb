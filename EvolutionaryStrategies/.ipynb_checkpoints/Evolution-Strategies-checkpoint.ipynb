{
 "cells": [
  {
   "cell_type": "code",
   "execution_count": 15,
   "metadata": {},
   "outputs": [],
   "source": [
    "import numpy as np"
   ]
  },
  {
   "cell_type": "code",
   "execution_count": 16,
   "metadata": {},
   "outputs": [],
   "source": [
    "xmin = -10.24\n",
    "xmax = 10.24\n",
    "sigma_max = 0.2\n",
    "sigma_min = 0.01\n",
    "pop_size = 100"
   ]
  },
  {
   "cell_type": "code",
   "execution_count": 17,
   "metadata": {},
   "outputs": [],
   "source": [
    "def f(x):\n",
    "    return x[0]**2 - 2*x[1] + (x[1]-3)**2 + x[0]*x[1]"
   ]
  },
  {
   "cell_type": "code",
   "execution_count": 18,
   "metadata": {},
   "outputs": [],
   "source": [
    "pop = []"
   ]
  },
  {
   "cell_type": "code",
   "execution_count": 19,
   "metadata": {},
   "outputs": [],
   "source": [
    "pop.append(np.random.random((pop_size,2))*2*xmax - 10.24)\n",
    "pop.append(np.random.random((pop_size,2))*(sigma_max + sigma_min) - sigma_min)\n",
    "pop.append(np.random.uniform(-1, 1, (pop_size,4)))"
   ]
  },
  {
   "cell_type": "code",
   "execution_count": 20,
   "metadata": {},
   "outputs": [],
   "source": [
    "np.set_printoptions(suppress=True)"
   ]
  },
  {
   "cell_type": "code",
   "execution_count": 21,
   "metadata": {},
   "outputs": [],
   "source": [
    "num_parents = 1"
   ]
  },
  {
   "cell_type": "code",
   "execution_count": 22,
   "metadata": {},
   "outputs": [],
   "source": [
    "def recombination(parents, alpha):\n",
    "    alpha_star = alpha / np.sum(alpha, axis=0)\n",
    "    return np.sum(alpha * alpha_star, axis=0)"
   ]
  },
  {
   "cell_type": "code",
   "execution_count": 23,
   "metadata": {},
   "outputs": [],
   "source": [
    "def mutation(individual):\n",
    "    sigma = individual[1]\n",
    "    rotation = individual[2]\n",
    "    y = individual[0]\n",
    "    sigma_deviation = np.random.randn(sigma.shape)*np.min(sigma)/5\n",
    "    sigma = sigma + sigma_deviation\n",
    "    Z = np.array([np.dot(rotation[i].reshape(2,2), sigma[i]) for i in range(len(rotation))])\n",
    "    y = y + Z\n",
    "    return (y, sigma, rotation)\n",
    "    "
   ]
  },
  {
   "cell_type": "code",
   "execution_count": 62,
   "metadata": {},
   "outputs": [
    {
     "ename": "TypeError",
     "evalue": "list indices must be integers or slices, not tuple",
     "output_type": "error",
     "traceback": [
      "\u001b[0;31m---------------------------------------------------------------------------\u001b[0m",
      "\u001b[0;31mTypeError\u001b[0m                                 Traceback (most recent call last)",
      "\u001b[0;32m<ipython-input-62-2dec666a1fa5>\u001b[0m in \u001b[0;36m<module>\u001b[0;34m()\u001b[0m\n\u001b[1;32m      2\u001b[0m     \u001b[0mparents\u001b[0m \u001b[0;34m=\u001b[0m \u001b[0;34m[\u001b[0m\u001b[0;34m]\u001b[0m\u001b[0;34m\u001b[0m\u001b[0m\n\u001b[1;32m      3\u001b[0m     \u001b[0;32mfor\u001b[0m \u001b[0mj\u001b[0m \u001b[0;32min\u001b[0m \u001b[0mrange\u001b[0m\u001b[0;34m(\u001b[0m\u001b[0mnum_parents\u001b[0m\u001b[0;34m)\u001b[0m\u001b[0;34m:\u001b[0m\u001b[0;34m\u001b[0m\u001b[0m\n\u001b[0;32m----> 4\u001b[0;31m         \u001b[0mparents\u001b[0m\u001b[0;34m.\u001b[0m\u001b[0mappend\u001b[0m\u001b[0;34m(\u001b[0m\u001b[0mpop\u001b[0m\u001b[0;34m[\u001b[0m\u001b[0mnp\u001b[0m\u001b[0;34m.\u001b[0m\u001b[0mrandom\u001b[0m\u001b[0;34m.\u001b[0m\u001b[0mrandint\u001b[0m\u001b[0;34m(\u001b[0m\u001b[0mpop_size\u001b[0m\u001b[0;34m)\u001b[0m\u001b[0;34m,\u001b[0m\u001b[0;34m:\u001b[0m\u001b[0;34m,\u001b[0m\u001b[0;34m:\u001b[0m\u001b[0;34m]\u001b[0m\u001b[0;34m)\u001b[0m\u001b[0;34m\u001b[0m\u001b[0m\n\u001b[0m\u001b[1;32m      5\u001b[0m     \u001b[0;31m#alpha = np.random.rand(num_parents, 3)\u001b[0m\u001b[0;34m\u001b[0m\u001b[0;34m\u001b[0m\u001b[0m\n\u001b[1;32m      6\u001b[0m     \u001b[0mnew_parent\u001b[0m \u001b[0;34m=\u001b[0m \u001b[0mmutation\u001b[0m\u001b[0;34m(\u001b[0m\u001b[0mparents\u001b[0m\u001b[0;34m[\u001b[0m\u001b[0;36m0\u001b[0m\u001b[0;34m]\u001b[0m\u001b[0;34m)\u001b[0m\u001b[0;34m\u001b[0m\u001b[0m\n",
      "\u001b[0;31mTypeError\u001b[0m: list indices must be integers or slices, not tuple"
     ]
    }
   ],
   "source": [
    "for i in range(1000):\n",
    "    parents = []\n",
    "    for j in range(num_parents):\n",
    "        parents.append((pop[0][np.random.randint(pop_size)]))\n",
    "    #alpha = np.random.rand(num_parents, 3)\n",
    "    new_parent = mutation(parents[0])\n",
    "    print(new_parent)"
   ]
  },
  {
   "cell_type": "code",
   "execution_count": 32,
   "metadata": {},
   "outputs": [
    {
     "ename": "IndexError",
     "evalue": "list index out of range",
     "output_type": "error",
     "traceback": [
      "\u001b[0;31m---------------------------------------------------------------------------\u001b[0m",
      "\u001b[0;31mIndexError\u001b[0m                                Traceback (most recent call last)",
      "\u001b[0;32m<ipython-input-32-a7499c4ebcb9>\u001b[0m in \u001b[0;36m<module>\u001b[0;34m()\u001b[0m\n\u001b[0;32m----> 1\u001b[0;31m \u001b[0mpop\u001b[0m\u001b[0;34m[\u001b[0m\u001b[0;36m3\u001b[0m\u001b[0;34m]\u001b[0m\u001b[0;34m[\u001b[0m\u001b[0;34m:\u001b[0m\u001b[0;36m20\u001b[0m\u001b[0;34m]\u001b[0m\u001b[0;34m\u001b[0m\u001b[0m\n\u001b[0m",
      "\u001b[0;31mIndexError\u001b[0m: list index out of range"
     ]
    }
   ],
   "source": [
    "pop[0][:20]"
   ]
  },
  {
   "cell_type": "code",
   "execution_count": 40,
   "metadata": {},
   "outputs": [],
   "source": [
    "def s_recombination(C):\n",
    "    p = len(C)\n",
    "    return np.sum(C.y, axis=0) / p"
   ]
  },
  {
   "cell_type": "code",
   "execution_count": 41,
   "metadata": {},
   "outputs": [
    {
     "data": {
      "text/plain": [
       "array([-0.30843795,  2.98630629])"
      ]
     },
     "execution_count": 41,
     "metadata": {},
     "output_type": "execute_result"
    }
   ],
   "source": [
    "def s_recombination(C):\n",
    "    p = len(C)\n",
    "    return np.sum(C.s, axis=0) / p"
   ]
  },
  {
   "cell_type": "code",
   "execution_count": 43,
   "metadata": {},
   "outputs": [
    {
     "data": {
      "text/plain": [
       "array([[ 3.75158863,  2.80213505],\n",
       "       [ 5.42131513, -8.20162472],\n",
       "       [ 9.94933624, -9.69813969],\n",
       "       [ 0.93758735, -4.29424545],\n",
       "       [-8.73880924,  9.82388001],\n",
       "       [ 7.43457888,  4.62951979],\n",
       "       [ 4.76347867, -2.60338505],\n",
       "       [-4.60330075,  3.15578762],\n",
       "       [ 7.14340716, -6.90664195],\n",
       "       [-7.47736376,  5.07522963],\n",
       "       [-7.2732665 , -5.08128557],\n",
       "       [-0.34762906,  4.00224715],\n",
       "       [-5.82000955, -5.21481069],\n",
       "       [-8.17150662,  9.17483095],\n",
       "       [ 6.5389372 , -9.85943652],\n",
       "       [ 9.63309748, -6.22533188],\n",
       "       [ 2.25358957,  0.29134358],\n",
       "       [ 6.41245691,  1.42476593],\n",
       "       [-8.62494021, -7.75415116],\n",
       "       [10.18627277, -6.61430856]])"
      ]
     },
     "execution_count": 43,
     "metadata": {},
     "output_type": "execute_result"
    }
   ],
   "source": [
    "pop[0][:20]"
   ]
  }
 ],
 "metadata": {
  "kernelspec": {
   "display_name": "deepLearningKernel",
   "language": "python",
   "name": "deeplearningkernel"
  },
  "language_info": {
   "codemirror_mode": {
    "name": "ipython",
    "version": 3
   },
   "file_extension": ".py",
   "mimetype": "text/x-python",
   "name": "python",
   "nbconvert_exporter": "python",
   "pygments_lexer": "ipython3",
   "version": "3.6.3"
  }
 },
 "nbformat": 4,
 "nbformat_minor": 2
}
