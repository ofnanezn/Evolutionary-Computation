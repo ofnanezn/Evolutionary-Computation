{
 "cells": [
  {
   "cell_type": "code",
   "execution_count": 1,
   "metadata": {},
   "outputs": [],
   "source": [
    "from os import path, makedirs\n",
    "from pickle import dump, load\n",
    "import numpy\n",
    "import matplotlib.pyplot as plt\n",
    "%matplotlib inline\n",
    "\n",
    "from haea import HAEA\n",
    "from real_haea import RealHAEA\n",
    "from constants import PROPORTIONAL_SELECTION, RANK_SELECTION"
   ]
  },
  {
   "cell_type": "markdown",
   "metadata": {},
   "source": [
    "# Utils"
   ]
  },
  {
   "cell_type": "code",
   "execution_count": 2,
   "metadata": {},
   "outputs": [],
   "source": [
    "ITERATIONS = 100\n",
    "CHROMOSOME_LENGTH = 100\n",
    "POPULATION_LENGTH = 100\n",
    "GENERATIONS = 100"
   ]
  },
  {
   "cell_type": "code",
   "execution_count": 3,
   "metadata": {},
   "outputs": [],
   "source": [
    "def save( name, data ):\n",
    "    filename = \"data/\" + name + \".pickle\"\n",
    "    if not path.exists( path.dirname( filename ) ):\n",
    "        makedirs( path.dirname( filename ) )\n",
    "    dump( data, open( filename, \"wb\" ) )"
   ]
  },
  {
   "cell_type": "code",
   "execution_count": 4,
   "metadata": {},
   "outputs": [],
   "source": [
    "def get( name ):\n",
    "    return load( open( \"data/\" + name + \".pickle\", \"rb\" ) )"
   ]
  },
  {
   "cell_type": "code",
   "execution_count": 5,
   "metadata": {},
   "outputs": [],
   "source": [
    "def getStandardDeviation( data, step ):\n",
    "    x = range( 0, ITERATIONS, step )\n",
    "    y = numpy.empty( 0 )\n",
    "    d = numpy.empty( 0 )\n",
    "    for i in x:\n",
    "        median = numpy.median( data[:, i] )\n",
    "        y = numpy.append( y, median )\n",
    "        d = numpy.append( d, numpy.sqrt( numpy.sum( ( data[:, i] - median ) ** 2 ) / ITERATIONS ) )\n",
    "\n",
    "    return x, y, d"
   ]
  },
  {
   "cell_type": "code",
   "execution_count": 6,
   "metadata": {},
   "outputs": [],
   "source": [
    "def standarDeviation(x):\n",
    "    return numpy.sqrt(numpy.sum((x-numpy.median(x))**2)/len(x))"
   ]
  },
  {
   "cell_type": "code",
   "execution_count": 7,
   "metadata": {},
   "outputs": [],
   "source": [
    "def plot( data ):\n",
    "    plt.close()\n",
    "    tempData = []\n",
    "    for iteration in data:\n",
    "        newData = []\n",
    "        for i in range( len( iteration ) ):\n",
    "            newData.append( iteration[i].fitness )\n",
    "        newData = numpy.array( newData )\n",
    "        tempData.append( newData )\n",
    "    data = numpy.array( tempData )\n",
    "    plt.plot( list( range( ITERATIONS ) ), numpy.average( data, axis = 0 ), label = \"Average\" )\n",
    "    plt.plot( list( range( ITERATIONS ) ), numpy.median( data, axis = 0 ), label = \"Median\" )\n",
    "    plt.plot( list( range( ITERATIONS ) ), numpy.min( data, axis = 0 ), label = \"Minimum\" )\n",
    "    plt.plot( list( range( ITERATIONS ) ), numpy.max( data, axis = 0 ), label = \"Maximum\" )\n",
    "    x, y, d = getStandardDeviation( data, int( ITERATIONS / 10 ) )\n",
    "    plt.errorbar(x, y, d, marker='^', ls='None')\n",
    "\n",
    "    plt.legend(loc='upper right', shadow=True, fontsize = \"xx-small\")\n",
    "    plt.xlabel('generation')\n",
    "    plt.ylabel('fitness')"
   ]
  },
  {
   "cell_type": "markdown",
   "metadata": {},
   "source": [
    "# Functions"
   ]
  },
  {
   "cell_type": "markdown",
   "metadata": {},
   "source": [
    "## Real functions"
   ]
  },
  {
   "cell_type": "markdown",
   "metadata": {},
   "source": [
    "## Binary functions"
   ]
  },
  {
   "cell_type": "code",
   "execution_count": 8,
   "metadata": {},
   "outputs": [],
   "source": [
    "def maxOnes( chromosome ):\n",
    "    count = 0\n",
    "    while( chromosome ):\n",
    "        count += chromosome & 1\n",
    "        chromosome >>= 1\n",
    "\n",
    "    return count"
   ]
  },
  {
   "cell_type": "code",
   "execution_count": 9,
   "metadata": {},
   "outputs": [],
   "source": [
    "def deceptive4( chromosome ):\n",
    "    count = 0\n",
    "    if chromosome == 0:\n",
    "        return CHROMOSOME_LENGTH + 1\n",
    "    while( chromosome ):\n",
    "        count += chromosome & 1\n",
    "        chromosome >>= 1\n",
    "    return count"
   ]
  },
  {
   "cell_type": "markdown",
   "metadata": {},
   "source": [
    "# HAEA"
   ]
  },
  {
   "cell_type": "markdown",
   "metadata": {},
   "source": [
    "## Max Ones"
   ]
  },
  {
   "cell_type": "code",
   "execution_count": 10,
   "metadata": {},
   "outputs": [],
   "source": [
    "haea = HAEA( maxOnes, CHROMOSOME_LENGTH, POPULATION_LENGTH )"
   ]
  },
  {
   "cell_type": "markdown",
   "metadata": {},
   "source": [
    "### Proportial selection"
   ]
  },
  {
   "cell_type": "code",
   "execution_count": 11,
   "metadata": {
    "scrolled": true
   },
   "outputs": [],
   "source": [
    "haeaWithProportionalInMaxOnes = []\n",
    "for i in range( ITERATIONS ):\n",
    "    data = haea.init( GENERATIONS, PROPORTIONAL_SELECTION )\n",
    "    haeaWithProportionalInMaxOnes.append( data )\n",
    "#save( \"haeaWithProportionalInMaxOnes\", haeaWithProportionalInMaxOnes )\n",
    "#haeaWithProportionalInMaxOnes = get( \"haeaWithProportionalInMaxOnes\" )"
   ]
  },
  {
   "cell_type": "code",
   "execution_count": 12,
   "metadata": {},
   "outputs": [
    {
     "data": {
      "image/png": "[encoded data removed]",
      "text/plain": [
       "<Figure size 432x288 with 1 Axes>"
      ]
     },
     "metadata": {},
     "output_type": "display_data"
    }
   ],
   "source": [
    "plot( haeaWithProportionalInMaxOnes )"
   ]
  },
  {
   "cell_type": "code",
   "execution_count": 17,
   "metadata": {},
   "outputs": [
    {
     "name": "stdout",
     "output_type": "stream",
     "text": [
      "Mean: 100.0\n",
      "Standard Deviation: 0.0\n"
     ]
    }
   ],
   "source": [
    "results = numpy.array([haeaWithProportionalInMaxOnes[i][99].fitness for i in range(100)])\n",
    "print(\"Mean: {}\".format(numpy.median(results)))\n",
    "print(\"Standard Deviation: {}\".format(standarDeviation(results)))"
   ]
  },
  {
   "cell_type": "markdown",
   "metadata": {},
   "source": [
    "### Rank selection"
   ]
  },
  {
   "cell_type": "code",
   "execution_count": 18,
   "metadata": {},
   "outputs": [],
   "source": [
    "haeaWithRankInMaxOnes = []\n",
    "for i in range( ITERATIONS ):\n",
    "    data = haea.init( GENERATIONS, RANK_SELECTION )\n",
    "    haeaWithRankInMaxOnes.append( data )\n",
    "#save( \"haeaWithRankInMaxOnes\", haeaWithRankInMaxOnes )\n",
    "#haeaWithRankInMaxOnes = get( \"haeaWithRankInMaxOnes\" )"
   ]
  },
  {
   "cell_type": "code",
   "execution_count": 19,
   "metadata": {},
   "outputs": [
    {
     "data": {
      "image/png": "[encoded data removed]",
      "text/plain": [
       "<Figure size 432x288 with 1 Axes>"
      ]
     },
     "metadata": {},
     "output_type": "display_data"
    }
   ],
   "source": [
    "plot( haeaWithRankInMaxOnes )"
   ]
  },
  {
   "cell_type": "code",
   "execution_count": 20,
   "metadata": {},
   "outputs": [
    {
     "name": "stdout",
     "output_type": "stream",
     "text": [
      "Mean: 100.0\n",
      "Standard Deviation: 0.0\n"
     ]
    }
   ],
   "source": [
    "results = numpy.array([haeaWithRankInMaxOnes[i][99].fitness for i in range(100)])\n",
    "print(\"Mean: {}\".format(numpy.median(results)))\n",
    "print(\"Standard Deviation: {}\".format(standarDeviation(results)))"
   ]
  },
  {
   "cell_type": "markdown",
   "metadata": {},
   "source": [
    "### Tournament selection"
   ]
  },
  {
   "cell_type": "code",
   "execution_count": 11,
   "metadata": {},
   "outputs": [],
   "source": [
    "haeaWithTournamentInMaxOnes = []\n",
    "for i in range( ITERATIONS ):\n",
    "    data = haea.init( GENERATIONS, \"tournament\" )\n",
    "    haeaWithTournamentInMaxOnes.append( data )\n",
    "#save( \"haeaWithRankInMaxOnes\", haeaWithRankInMaxOnes )\n",
    "#haeaWithRankInMaxOnes = get( \"haeaWithRankInMaxOnes\" )"
   ]
  },
  {
   "cell_type": "code",
   "execution_count": 12,
   "metadata": {},
   "outputs": [
    {
     "data": {
      "image/png": "[encoded data removed]",
      "text/plain": [
       "<Figure size 432x288 with 1 Axes>"
      ]
     },
     "metadata": {},
     "output_type": "display_data"
    }
   ],
   "source": [
    "plot( haeaWithTournamentInMaxOnes )"
   ]
  },
  {
   "cell_type": "code",
   "execution_count": 13,
   "metadata": {},
   "outputs": [
    {
     "name": "stdout",
     "output_type": "stream",
     "text": [
      "Mean: 100.0\n",
      "Standard Deviation: 0.0\n"
     ]
    }
   ],
   "source": [
    "results = numpy.array([haeaWithTournamentInMaxOnes[i][99].fitness for i in range(100)])\n",
    "print(\"Mean: {}\".format(numpy.median(results)))\n",
    "print(\"Standard Deviation: {}\".format(standarDeviation(results)))"
   ]
  },
  {
   "cell_type": "markdown",
   "metadata": {},
   "source": [
    "### Elitist Selection"
   ]
  },
  {
   "cell_type": "code",
   "execution_count": 14,
   "metadata": {},
   "outputs": [],
   "source": [
    "haeaWithElitismInMaxOnes = []\n",
    "for i in range( ITERATIONS ):\n",
    "    data = haea.init( GENERATIONS, \"elitist\" )\n",
    "    haeaWithElitismInMaxOnes.append( data )\n",
    "#save( \"haeaWithRankInMaxOnes\", haeaWithRankInMaxOnes )\n",
    "#haeaWithRankInMaxOnes = get( \"haeaWithRankInMaxOnes\" )"
   ]
  },
  {
   "cell_type": "code",
   "execution_count": 15,
   "metadata": {},
   "outputs": [
    {
     "data": {
      "image/png": "[encoded data removed]",
      "text/plain": [
       "<Figure size 432x288 with 1 Axes>"
      ]
     },
     "metadata": {},
     "output_type": "display_data"
    }
   ],
   "source": [
    "plot( haeaWithElitismInMaxOnes )"
   ]
  },
  {
   "cell_type": "code",
   "execution_count": 16,
   "metadata": {},
   "outputs": [
    {
     "name": "stdout",
     "output_type": "stream",
     "text": [
      "Mean: 100.0\n",
      "Standard Deviation: 0.0\n"
     ]
    }
   ],
   "source": [
    "results = numpy.array([haeaWithElitismInMaxOnes[i][99].fitness for i in range(100)])\n",
    "print(\"Mean: {}\".format(numpy.median(results)))\n",
    "print(\"Standard Deviation: {}\".format(standarDeviation(results)))"
   ]
  },
  {
   "cell_type": "markdown",
   "metadata": {},
   "source": [
    "## Deceptive-4"
   ]
  },
  {
   "cell_type": "code",
   "execution_count": 11,
   "metadata": {},
   "outputs": [],
   "source": [
    "CHROMOSOME_LENGTH = 40\n",
    "haea = HAEA( deceptive4, CHROMOSOME_LENGTH, POPULATION_LENGTH )"
   ]
  },
  {
   "cell_type": "markdown",
   "metadata": {},
   "source": [
    "### Proportional selection"
   ]
  },
  {
   "cell_type": "code",
   "execution_count": 32,
   "metadata": {},
   "outputs": [],
   "source": [
    "haeaWithProportionalInDeceptive4 = []\n",
    "for i in range( ITERATIONS ):\n",
    "    data = haea.init( GENERATIONS, PROPORTIONAL_SELECTION )\n",
    "    haeaWithProportionalInDeceptive4.append( data )\n",
    "#save( \"haeaWithProportionalInDeceptive4\", haeaWithProportionalInDeceptive4 )\n",
    "#haeaWithProportionalInDeceptive4 = get( \"haeaWithProportionalInDeceptive4\" )"
   ]
  },
  {
   "cell_type": "code",
   "execution_count": 33,
   "metadata": {},
   "outputs": [
    {
     "data": {
      "image/png": "[encoded data removed]",
      "text/plain": [
       "<Figure size 432x288 with 1 Axes>"
      ]
     },
     "metadata": {},
     "output_type": "display_data"
    }
   ],
   "source": [
    "plot( haeaWithProportionalInDeceptive4 )"
   ]
  },
  {
   "cell_type": "code",
   "execution_count": 36,
   "metadata": {},
   "outputs": [
    {
     "name": "stdout",
     "output_type": "stream",
     "text": [
      "Mean: 40.0\n",
      "Standard Deviation: 0.0\n"
     ]
    }
   ],
   "source": [
    "results = numpy.array([haeaWithProportionalInDeceptive4[i][99].fitness for i in range(100)])\n",
    "print(\"Mean: {}\".format(numpy.median(results)))\n",
    "print(\"Standard Deviation: {}\".format(standarDeviation(results)))"
   ]
  },
  {
   "cell_type": "markdown",
   "metadata": {},
   "source": [
    "### Rank selection"
   ]
  },
  {
   "cell_type": "code",
   "execution_count": 34,
   "metadata": {},
   "outputs": [],
   "source": [
    "haeaWithRankInDeceptive4 = []\n",
    "for i in range( ITERATIONS ):\n",
    "    data = haea.init( GENERATIONS, RANK_SELECTION )\n",
    "    haeaWithRankInDeceptive4.append( data )\n",
    "#save( \"haeaWithRankInDeceptive4\", haeaWithRankInDeceptive4 )\n",
    "#haeaWithRankInDeceptive4 = get( \"haeaWithRankInDeceptive4\" )"
   ]
  },
  {
   "cell_type": "code",
   "execution_count": 35,
   "metadata": {},
   "outputs": [
    {
     "data": {
      "image/png": "[encoded data removed]",
      "text/plain": [
       "<Figure size 432x288 with 1 Axes>"
      ]
     },
     "metadata": {},
     "output_type": "display_data"
    }
   ],
   "source": [
    "plot( haeaWithRankInDeceptive4 )"
   ]
  },
  {
   "cell_type": "code",
   "execution_count": 37,
   "metadata": {},
   "outputs": [
    {
     "name": "stdout",
     "output_type": "stream",
     "text": [
      "Mean: 40.0\n",
      "Standard Deviation: 0.0\n"
     ]
    }
   ],
   "source": [
    "results = numpy.array([haeaWithRankInDeceptive4[i][99].fitness for i in range(100)])\n",
    "print(\"Mean: {}\".format(numpy.median(results)))\n",
    "print(\"Standard Deviation: {}\".format(standarDeviation(results)))"
   ]
  },
  {
   "cell_type": "markdown",
   "metadata": {},
   "source": [
    "### Tournament selection"
   ]
  },
  {
   "cell_type": "code",
   "execution_count": 13,
   "metadata": {},
   "outputs": [],
   "source": [
    "haeaWithTournamentInDeceptive4 = []\n",
    "for i in range( ITERATIONS ):\n",
    "    data = haea.init( GENERATIONS, \"tournament\" )\n",
    "    haeaWithTournamentInDeceptive4.append( data )\n",
    "#save( \"haeaWithRankInDeceptive4\", haeaWithRankInDeceptive4 )\n",
    "#haeaWithRankInDeceptive4 = get( \"haeaWithRankInDeceptive4\" )"
   ]
  },
  {
   "cell_type": "code",
   "execution_count": 14,
   "metadata": {},
   "outputs": [
    {
     "data": {
      "image/png": "[encoded data removed]",
      "text/plain": [
       "<Figure size 432x288 with 1 Axes>"
      ]
     },
     "metadata": {},
     "output_type": "display_data"
    }
   ],
   "source": [
    "plot( haeaWithTournamentInDeceptive4 )"
   ]
  },
  {
   "cell_type": "code",
   "execution_count": 15,
   "metadata": {},
   "outputs": [
    {
     "name": "stdout",
     "output_type": "stream",
     "text": [
      "Mean: 40.0\n",
      "Standard Deviation: 0.0\n"
     ]
    }
   ],
   "source": [
    "results = numpy.array([haeaWithTournamentInDeceptive4[i][99].fitness for i in range(100)])\n",
    "print(\"Mean: {}\".format(numpy.median(results)))\n",
    "print(\"Standard Deviation: {}\".format(standarDeviation(results)))"
   ]
  },
  {
   "cell_type": "markdown",
   "metadata": {},
   "source": [
    "### Elitist selection"
   ]
  },
  {
   "cell_type": "code",
   "execution_count": 16,
   "metadata": {},
   "outputs": [],
   "source": [
    "haeaWithElitismInDeceptive4 = []\n",
    "for i in range( ITERATIONS ):\n",
    "    data = haea.init( GENERATIONS, \"elitist\" )\n",
    "    haeaWithElitismInDeceptive4.append( data )\n",
    "#save( \"haeaWithRankInDeceptive4\", haeaWithRankInDeceptive4 )\n",
    "#haeaWithRankInDeceptive4 = get( \"haeaWithRankInDeceptive4\" )"
   ]
  },
  {
   "cell_type": "code",
   "execution_count": 17,
   "metadata": {},
   "outputs": [
    {
     "data": {
      "image/png": "[encoded data removed]",
      "text/plain": [
       "<Figure size 432x288 with 1 Axes>"
      ]
     },
     "metadata": {},
     "output_type": "display_data"
    }
   ],
   "source": [
    "plot( haeaWithElitismInDeceptive4 )"
   ]
  },
  {
   "cell_type": "code",
   "execution_count": 18,
   "metadata": {},
   "outputs": [
    {
     "name": "stdout",
     "output_type": "stream",
     "text": [
      "Mean: 40.0\n",
      "Standard Deviation: 0.0\n"
     ]
    }
   ],
   "source": [
    "results = numpy.array([haeaWithElitismInDeceptive4[i][99].fitness for i in range(100)])\n",
    "print(\"Mean: {}\".format(numpy.median(results)))\n",
    "print(\"Standard Deviation: {}\".format(standarDeviation(results)))"
   ]
  },
  {
   "cell_type": "markdown",
   "metadata": {},
   "source": [
    "# Real encoding"
   ]
  },
  {
   "cell_type": "markdown",
   "metadata": {},
   "source": [
    "## Rastrigin"
   ]
  },
  {
   "cell_type": "code",
   "execution_count": 8,
   "metadata": {},
   "outputs": [],
   "source": [
    "def Rastrigin(x):\n",
    "    A = 10\n",
    "    d = len(x)\n",
    "    return A * d + numpy.sum(x**2 - A * numpy.cos(2*numpy.pi*x))"
   ]
  },
  {
   "cell_type": "code",
   "execution_count": 17,
   "metadata": {},
   "outputs": [],
   "source": [
    "limits = [-5.12, 5.12]\n",
    "\n",
    "haea = RealHAEA( Rastrigin, 10, 100, limits )"
   ]
  },
  {
   "cell_type": "code",
   "execution_count": 21,
   "metadata": {},
   "outputs": [],
   "source": [
    "data = haea.init( GENERATIONS, PROPORTIONAL_SELECTION )"
   ]
  },
  {
   "cell_type": "code",
   "execution_count": 22,
   "metadata": {},
   "outputs": [
    {
     "data": {
      "text/plain": [
       "[123.12164021618356,\n",
       " 117.06416911627224,\n",
       " 87.42397703845052,\n",
       " 74.76795306215,\n",
       " 74.76795306215,\n",
       " 65.44603755120868,\n",
       " 60.89465912314444,\n",
       " 60.89465912314444,\n",
       " 54.54257099183283,\n",
       " 44.664084049297585,\n",
       " 34.84818985473329,\n",
       " 33.52350772526805,\n",
       " 33.52350772526805,\n",
       " 29.13687583516986,\n",
       " 19.507511303017424,\n",
       " 19.507511303017424,\n",
       " 18.712510909207964,\n",
       " 16.368360646206156,\n",
       " 15.956256706470825,\n",
       " 14.934831208761267,\n",
       " 12.28366130823359,\n",
       " 12.28366130823359,\n",
       " 9.550032173573783,\n",
       " 9.54574207590187,\n",
       " 9.399959867213227,\n",
       " 9.399959867213227,\n",
       " 9.399959867213227,\n",
       " 9.399959867213227,\n",
       " 9.399959867213227,\n",
       " 9.399959867213227,\n",
       " 9.399959867213227,\n",
       " 9.399959867213227,\n",
       " 9.399959867213227,\n",
       " 9.399959867213227,\n",
       " 9.399959867213227,\n",
       " 9.399959867213227,\n",
       " 9.399959867213227,\n",
       " 9.399959867213227,\n",
       " 9.399959867213227,\n",
       " 9.399959867213227,\n",
       " 9.399959867213227,\n",
       " 9.399959867213227,\n",
       " 9.399959867213227,\n",
       " 9.399959867213227,\n",
       " 9.399959867213227,\n",
       " 9.399959867213227,\n",
       " 9.399959867213227,\n",
       " 9.399959867213227,\n",
       " 9.399959867213227,\n",
       " 9.399959867213227,\n",
       " 9.399959867213227,\n",
       " 9.399959867213227,\n",
       " 9.399959867213227,\n",
       " 9.399959867213227,\n",
       " 9.399959867213227,\n",
       " 9.399959867213227,\n",
       " 9.399959867213227,\n",
       " 9.399959867213227,\n",
       " 9.399959867213227,\n",
       " 9.399959867213227,\n",
       " 9.399959867213227,\n",
       " 9.399959867213227,\n",
       " 9.399959867213227,\n",
       " 9.399959867213227,\n",
       " 9.399959867213227,\n",
       " 9.399959867213227,\n",
       " 9.399959867213227,\n",
       " 9.399959867213227,\n",
       " 9.399959867213227,\n",
       " 9.399959867213227,\n",
       " 9.399959867213227,\n",
       " 9.399959867213227,\n",
       " 9.399959867213227,\n",
       " 9.399959867213227,\n",
       " 9.399959867213227,\n",
       " 9.399959867213227,\n",
       " 9.399959867213227,\n",
       " 9.399959867213227,\n",
       " 9.399959867213227,\n",
       " 9.399959867213227,\n",
       " 9.399959867213227,\n",
       " 9.399959867213227,\n",
       " 9.399959867213227,\n",
       " 9.399959867213227,\n",
       " 9.399959867213227,\n",
       " 9.399959867213227,\n",
       " 9.399959867213227,\n",
       " 9.399959867213227,\n",
       " 9.399959867213227,\n",
       " 9.399959867213227,\n",
       " 9.399959867213227,\n",
       " 9.399959867213227,\n",
       " 9.399959867213227,\n",
       " 9.399959867213227,\n",
       " 9.399959867213227,\n",
       " 9.399959867213227,\n",
       " 9.399959867213227,\n",
       " 9.399959867213227,\n",
       " 9.399959867213227,\n",
       " 9.399959867213227,\n",
       " 9.399959867213227,\n",
       " 9.399959867213227,\n",
       " 9.399959867213227,\n",
       " 9.399959867213227,\n",
       " 9.399959867213227,\n",
       " 9.399959867213227,\n",
       " 9.399959867213227,\n",
       " 9.399959867213227,\n",
       " 9.399959867213227,\n",
       " 9.399959867213227,\n",
       " 9.399959867213227,\n",
       " 9.399959867213227,\n",
       " 9.399959867213227,\n",
       " 9.399959867213227,\n",
       " 9.399959867213227,\n",
       " 9.399959867213227,\n",
       " 9.399959867213227,\n",
       " 9.399959867213227,\n",
       " 9.399959867213227,\n",
       " 9.399959867213227,\n",
       " 9.399959867213227,\n",
       " 9.399959867213227,\n",
       " 9.399959867213227,\n",
       " 9.399959867213227,\n",
       " 9.399959867213227,\n",
       " 9.399959867213227,\n",
       " 9.399959867213227,\n",
       " 9.399959867213227,\n",
       " 9.399959867213227,\n",
       " 9.399959867213227,\n",
       " 9.399959867213227,\n",
       " 9.399959867213227,\n",
       " 9.399959867213227,\n",
       " 9.399959867213227,\n",
       " 9.399959867213227,\n",
       " 9.399959867213227,\n",
       " 9.399959867213227,\n",
       " 9.399959867213227,\n",
       " 9.399959867213227,\n",
       " 9.399959867213227,\n",
       " 9.399959867213227,\n",
       " 9.399959867213227,\n",
       " 9.399959867213227,\n",
       " 9.399959867213227,\n",
       " 9.399959867213227,\n",
       " 9.399959867213227,\n",
       " 9.399959867213227,\n",
       " 9.399959867213227,\n",
       " 9.399959867213227,\n",
       " 9.399959867213227,\n",
       " 9.399959867213227,\n",
       " 9.399959867213227,\n",
       " 9.399959867213227,\n",
       " 9.399959867213227,\n",
       " 9.399959867213227,\n",
       " 9.399959867213227,\n",
       " 9.399959867213227,\n",
       " 9.399959867213227,\n",
       " 9.399959867213227,\n",
       " 9.399959867213227,\n",
       " 9.399959867213227,\n",
       " 9.399959867213227,\n",
       " 9.399959867213227,\n",
       " 9.399959867213227,\n",
       " 9.399959867213227,\n",
       " 9.399959867213227,\n",
       " 9.399959867213227,\n",
       " 9.399959867213227,\n",
       " 9.399959867213227,\n",
       " 9.399959867213227,\n",
       " 9.399959867213227,\n",
       " 9.399959867213227,\n",
       " 9.399959867213227,\n",
       " 9.399959867213227,\n",
       " 9.399959867213227,\n",
       " 9.399959867213227,\n",
       " 9.399959867213227,\n",
       " 9.399959867213227,\n",
       " 9.399959867213227,\n",
       " 9.399959867213227,\n",
       " 9.399959867213227,\n",
       " 9.399959867213227,\n",
       " 9.399959867213227,\n",
       " 9.399959867213227,\n",
       " 9.399959867213227,\n",
       " 9.399959867213227,\n",
       " 9.399959867213227,\n",
       " 9.399959867213227,\n",
       " 9.399959867213227,\n",
       " 9.399959867213227,\n",
       " 9.399959867213227,\n",
       " 9.399959867213227,\n",
       " 9.399959867213227,\n",
       " 9.399959867213227,\n",
       " 9.399959867213227,\n",
       " 9.399959867213227,\n",
       " 9.399959867213227,\n",
       " 9.399959867213227,\n",
       " 9.399959867213227,\n",
       " 9.399959867213227,\n",
       " 9.399959867213227,\n",
       " 9.399959867213227,\n",
       " 9.399959867213227,\n",
       " 9.399959867213227,\n",
       " 9.399959867213227,\n",
       " 9.399959867213227,\n",
       " 9.399959867213227,\n",
       " 9.399959867213227,\n",
       " 9.399959867213227,\n",
       " 9.399959867213227,\n",
       " 9.399959867213227,\n",
       " 9.399959867213227,\n",
       " 9.399959867213227,\n",
       " 9.399959867213227,\n",
       " 9.399959867213227,\n",
       " 9.399959867213227,\n",
       " 9.399959867213227,\n",
       " 9.399959867213227,\n",
       " 9.399959867213227,\n",
       " 9.399959867213227,\n",
       " 9.399959867213227,\n",
       " 9.399959867213227,\n",
       " 9.399959867213227,\n",
       " 9.399959867213227,\n",
       " 9.399959867213227,\n",
       " 9.399959867213227,\n",
       " 9.399959867213227,\n",
       " 9.399959867213227,\n",
       " 9.399959867213227,\n",
       " 9.399959867213227,\n",
       " 9.399959867213227,\n",
       " 9.399959867213227,\n",
       " 9.399959867213227,\n",
       " 9.399959867213227,\n",
       " 9.399959867213227,\n",
       " 9.399959867213227,\n",
       " 9.399959867213227,\n",
       " 9.399959867213227,\n",
       " 9.399959867213227,\n",
       " 9.399959867213227,\n",
       " 9.399959867213227,\n",
       " 9.399959867213227,\n",
       " 9.399959867213227,\n",
       " 9.399959867213227,\n",
       " 9.399959867213227,\n",
       " 9.399959867213227,\n",
       " 9.399959867213227,\n",
       " 9.399959867213227,\n",
       " 9.399959867213227,\n",
       " 9.399959867213227,\n",
       " 9.399959867213227,\n",
       " 9.399959867213227,\n",
       " 9.399959867213227,\n",
       " 9.399959867213227,\n",
       " 9.399959867213227,\n",
       " 9.399959867213227,\n",
       " 9.399959867213227,\n",
       " 9.399959867213227,\n",
       " 9.399959867213227,\n",
       " 9.399959867213227,\n",
       " 9.399959867213227,\n",
       " 9.399959867213227,\n",
       " 9.399959867213227,\n",
       " 9.399959867213227,\n",
       " 9.399959867213227,\n",
       " 9.399959867213227,\n",
       " 9.399959867213227,\n",
       " 9.399959867213227,\n",
       " 9.399959867213227,\n",
       " 9.399959867213227,\n",
       " 9.399959867213227,\n",
       " 9.399959867213227,\n",
       " 9.399959867213227,\n",
       " 9.399959867213227,\n",
       " 9.399959867213227,\n",
       " 9.399959867213227,\n",
       " 9.399959867213227,\n",
       " 9.399959867213227,\n",
       " 9.399959867213227,\n",
       " 9.399959867213227,\n",
       " 9.399959867213227,\n",
       " 9.399959867213227,\n",
       " 9.399959867213227,\n",
       " 9.399959867213227,\n",
       " 9.399959867213227,\n",
       " 9.399959867213227,\n",
       " 9.399959867213227,\n",
       " 9.399959867213227,\n",
       " 9.399959867213227,\n",
       " 9.399959867213227,\n",
       " 9.399959867213227,\n",
       " 9.399959867213227,\n",
       " 9.399959867213227,\n",
       " 9.399959867213227,\n",
       " 9.399959867213227,\n",
       " 9.399959867213227,\n",
       " 9.399959867213227,\n",
       " 9.399959867213227,\n",
       " 9.399959867213227,\n",
       " 9.399959867213227,\n",
       " 9.399959867213227,\n",
       " 9.399959867213227,\n",
       " 9.399959867213227,\n",
       " 9.399959867213227,\n",
       " 9.399959867213227,\n",
       " 9.399959867213227,\n",
       " 9.399959867213227,\n",
       " 9.399959867213227,\n",
       " 9.399959867213227,\n",
       " 9.399959867213227,\n",
       " 9.399959867213227,\n",
       " 9.399959867213227,\n",
       " 9.399959867213227,\n",
       " 9.399959867213227,\n",
       " 9.399959867213227,\n",
       " 9.399959867213227,\n",
       " 9.399959867213227,\n",
       " 9.399959867213227,\n",
       " 9.399959867213227,\n",
       " 9.399959867213227,\n",
       " 9.399959867213227,\n",
       " 9.399959867213227,\n",
       " 9.399959867213227,\n",
       " 9.399959867213227,\n",
       " 9.399959867213227,\n",
       " 9.399959867213227,\n",
       " 9.399959867213227,\n",
       " 9.399959867213227,\n",
       " 9.399959867213227,\n",
       " 9.399959867213227,\n",
       " 9.399959867213227,\n",
       " 9.399959867213227,\n",
       " 9.399959867213227,\n",
       " 9.399959867213227,\n",
       " 9.399959867213227,\n",
       " 9.399959867213227,\n",
       " 9.399959867213227,\n",
       " 9.399959867213227,\n",
       " 9.399959867213227,\n",
       " 9.399959867213227,\n",
       " 9.399959867213227,\n",
       " 9.399959867213227,\n",
       " 9.399959867213227,\n",
       " 9.399959867213227,\n",
       " 9.399959867213227,\n",
       " 9.399959867213227,\n",
       " 9.399959867213227,\n",
       " 9.399959867213227,\n",
       " 9.399959867213227,\n",
       " 9.399959867213227,\n",
       " 9.399959867213227,\n",
       " 9.399959867213227,\n",
       " 9.399959867213227,\n",
       " 9.399959867213227,\n",
       " 9.399959867213227,\n",
       " 9.399959867213227,\n",
       " 9.399959867213227,\n",
       " 9.399959867213227,\n",
       " 9.399959867213227,\n",
       " 9.399959867213227,\n",
       " 9.399959867213227,\n",
       " 9.399959867213227,\n",
       " 9.399959867213227,\n",
       " 9.399959867213227,\n",
       " 9.399959867213227,\n",
       " 9.399959867213227,\n",
       " 9.399959867213227,\n",
       " 9.399959867213227,\n",
       " 9.399959867213227,\n",
       " 9.399959867213227,\n",
       " 9.399959867213227,\n",
       " 9.399959867213227,\n",
       " 9.399959867213227,\n",
       " 9.399959867213227,\n",
       " 9.399959867213227,\n",
       " 9.399959867213227,\n",
       " 9.399959867213227,\n",
       " 9.399959867213227,\n",
       " 9.399959867213227,\n",
       " 9.399959867213227,\n",
       " 9.399959867213227,\n",
       " 9.399959867213227,\n",
       " 9.399959867213227,\n",
       " 9.399959867213227,\n",
       " 9.399959867213227,\n",
       " 9.399959867213227,\n",
       " 9.399959867213227,\n",
       " 9.399959867213227,\n",
       " 9.399959867213227,\n",
       " 9.399959867213227,\n",
       " 9.399959867213227,\n",
       " 9.399959867213227,\n",
       " 9.399959867213227,\n",
       " 9.399959867213227,\n",
       " 9.399959867213227,\n",
       " 9.399959867213227,\n",
       " 9.399959867213227,\n",
       " 9.399959867213227,\n",
       " 9.399959867213227,\n",
       " 9.399959867213227,\n",
       " 9.399959867213227,\n",
       " 9.399959867213227,\n",
       " 9.399959867213227,\n",
       " 9.399959867213227,\n",
       " 9.399959867213227,\n",
       " 9.399959867213227,\n",
       " 9.399959867213227,\n",
       " 9.399959867213227,\n",
       " 9.399959867213227,\n",
       " 9.399959867213227,\n",
       " 9.399959867213227,\n",
       " 9.399959867213227,\n",
       " 9.399959867213227,\n",
       " 9.399959867213227,\n",
       " 9.399959867213227,\n",
       " 9.399959867213227,\n",
       " 9.399959867213227,\n",
       " 9.399959867213227,\n",
       " 9.399959867213227,\n",
       " 9.399959867213227,\n",
       " 9.399959867213227,\n",
       " 9.399959867213227,\n",
       " 9.399959867213227,\n",
       " 9.399959867213227,\n",
       " 9.399959867213227,\n",
       " 9.399959867213227,\n",
       " 9.399959867213227,\n",
       " 9.399959867213227,\n",
       " 9.399959867213227,\n",
       " 9.399959867213227,\n",
       " 9.399959867213227,\n",
       " 9.399959867213227,\n",
       " 9.399959867213227,\n",
       " 9.399959867213227,\n",
       " 9.399959867213227,\n",
       " 9.399959867213227,\n",
       " 9.399959867213227,\n",
       " 9.399959867213227,\n",
       " 9.399959867213227,\n",
       " 9.399959867213227,\n",
       " 9.399959867213227,\n",
       " 9.399959867213227,\n",
       " 9.399959867213227,\n",
       " 9.399959867213227,\n",
       " 9.399959867213227,\n",
       " 9.399959867213227,\n",
       " 9.399959867213227,\n",
       " 9.399959867213227,\n",
       " 9.399959867213227,\n",
       " 9.399959867213227,\n",
       " 9.399959867213227,\n",
       " 9.399959867213227,\n",
       " 9.399959867213227,\n",
       " 9.399959867213227,\n",
       " 9.399959867213227,\n",
       " 9.399959867213227,\n",
       " 9.399959867213227,\n",
       " 9.399959867213227,\n",
       " 9.399959867213227,\n",
       " 9.399959867213227,\n",
       " 9.399959867213227,\n",
       " 9.399959867213227,\n",
       " 9.399959867213227,\n",
       " 9.399959867213227,\n",
       " 9.399959867213227,\n",
       " 9.399959867213227,\n",
       " 9.399959867213227,\n",
       " 9.399959867213227,\n",
       " 9.399959867213227,\n",
       " 9.399959867213227,\n",
       " 9.399959867213227,\n",
       " 9.399959867213227,\n",
       " 9.399959867213227,\n",
       " 9.399959867213227,\n",
       " 9.399959867213227,\n",
       " 9.399959867213227,\n",
       " 9.399959867213227,\n",
       " 9.399959867213227,\n",
       " 9.399959867213227,\n",
       " 9.399959867213227,\n",
       " 9.399959867213227,\n",
       " 9.399959867213227,\n",
       " 9.399959867213227,\n",
       " 9.399959867213227,\n",
       " 9.399959867213227,\n",
       " 9.399959867213227,\n",
       " 9.399959867213227,\n",
       " 9.399959867213227,\n",
       " 9.399959867213227,\n",
       " 9.399959867213227,\n",
       " 9.399959867213227,\n",
       " 9.399959867213227,\n",
       " 9.399959867213227,\n",
       " 9.399959867213227,\n",
       " 9.399959867213227,\n",
       " 9.399959867213227,\n",
       " 9.399959867213227,\n",
       " 9.399959867213227,\n",
       " 9.399959867213227,\n",
       " 9.399959867213227,\n",
       " 9.399959867213227,\n",
       " 9.399959867213227,\n",
       " 9.399959867213227,\n",
       " 9.399959867213227,\n",
       " 9.399959867213227,\n",
       " 9.399959867213227,\n",
       " 9.399959867213227,\n",
       " 9.399959867213227,\n",
       " 9.399959867213227,\n",
       " 9.399959867213227,\n",
       " 9.399959867213227,\n",
       " 9.399959867213227,\n",
       " 9.399959867213227,\n",
       " 9.399959867213227,\n",
       " 9.399959867213227,\n",
       " 9.399959867213227,\n",
       " 9.399959867213227,\n",
       " 9.399959867213227,\n",
       " 9.399959867213227,\n",
       " 9.399959867213227,\n",
       " 9.399959867213227,\n",
       " 9.399959867213227,\n",
       " 9.399959867213227,\n",
       " 9.399959867213227,\n",
       " 9.399959867213227,\n",
       " 9.399959867213227,\n",
       " 9.399959867213227,\n",
       " 9.399959867213227,\n",
       " 9.399959867213227,\n",
       " 9.399959867213227,\n",
       " 9.399959867213227,\n",
       " 9.399959867213227,\n",
       " 9.399959867213227,\n",
       " 9.399959867213227,\n",
       " 9.399959867213227,\n",
       " 9.399959867213227,\n",
       " 9.399959867213227,\n",
       " 9.399959867213227,\n",
       " 9.399959867213227,\n",
       " 9.399959867213227,\n",
       " 9.399959867213227,\n",
       " 9.399959867213227,\n",
       " 9.399959867213227,\n",
       " 9.399959867213227,\n",
       " 9.399959867213227,\n",
       " 9.399959867213227,\n",
       " 9.399959867213227,\n",
       " 9.399959867213227,\n",
       " 9.399959867213227,\n",
       " 9.399959867213227,\n",
       " 9.399959867213227,\n",
       " 9.399959867213227,\n",
       " 9.399959867213227,\n",
       " 9.399959867213227,\n",
       " 9.399959867213227,\n",
       " 9.399959867213227,\n",
       " 9.399959867213227,\n",
       " 9.399959867213227,\n",
       " 9.399959867213227,\n",
       " 9.399959867213227,\n",
       " 9.399959867213227,\n",
       " 9.399959867213227,\n",
       " 9.399959867213227,\n",
       " 9.399959867213227,\n",
       " 9.399959867213227,\n",
       " 9.399959867213227,\n",
       " 9.399959867213227,\n",
       " 9.399959867213227,\n",
       " 9.399959867213227,\n",
       " 9.399959867213227,\n",
       " 9.399959867213227,\n",
       " 9.399959867213227,\n",
       " 9.399959867213227,\n",
       " 9.399959867213227,\n",
       " 9.399959867213227,\n",
       " 9.399959867213227,\n",
       " 9.399959867213227,\n",
       " 9.399959867213227,\n",
       " 9.399959867213227,\n",
       " 9.399959867213227,\n",
       " 9.399959867213227,\n",
       " 9.399959867213227,\n",
       " 9.399959867213227,\n",
       " 9.399959867213227,\n",
       " 9.399959867213227,\n",
       " 9.399959867213227,\n",
       " 9.399959867213227,\n",
       " 9.399959867213227,\n",
       " 9.399959867213227,\n",
       " 9.399959867213227,\n",
       " 9.399959867213227,\n",
       " 9.399959867213227,\n",
       " 9.399959867213227,\n",
       " 9.399959867213227,\n",
       " 9.399959867213227,\n",
       " 9.399959867213227,\n",
       " 9.399959867213227,\n",
       " 9.399959867213227,\n",
       " 9.399959867213227,\n",
       " 9.399959867213227,\n",
       " 9.399959867213227,\n",
       " 9.399959867213227,\n",
       " 9.399959867213227,\n",
       " 9.399959867213227,\n",
       " 9.399959867213227,\n",
       " 9.399959867213227,\n",
       " 9.399959867213227,\n",
       " 9.399959867213227,\n",
       " 9.399959867213227,\n",
       " 9.399959867213227,\n",
       " 9.399959867213227,\n",
       " 9.399959867213227,\n",
       " 9.399959867213227,\n",
       " 9.399959867213227,\n",
       " 9.399959867213227,\n",
       " 9.399959867213227,\n",
       " 9.399959867213227,\n",
       " 9.399959867213227,\n",
       " 9.399959867213227,\n",
       " 9.399959867213227,\n",
       " 9.399959867213227,\n",
       " 9.399959867213227,\n",
       " 9.399959867213227,\n",
       " 9.399959867213227,\n",
       " 9.399959867213227,\n",
       " 9.399959867213227,\n",
       " 9.399959867213227,\n",
       " 9.399959867213227,\n",
       " 9.399959867213227,\n",
       " 9.399959867213227,\n",
       " 9.399959867213227,\n",
       " 9.399959867213227,\n",
       " 9.399959867213227,\n",
       " 9.399959867213227,\n",
       " 9.399959867213227,\n",
       " 9.399959867213227,\n",
       " 9.399959867213227,\n",
       " 9.399959867213227,\n",
       " 9.399959867213227,\n",
       " 9.399959867213227,\n",
       " 9.399959867213227,\n",
       " 9.399959867213227,\n",
       " 9.399959867213227,\n",
       " 9.399959867213227,\n",
       " 9.399959867213227,\n",
       " 9.399959867213227,\n",
       " 9.399959867213227,\n",
       " 9.399959867213227,\n",
       " 9.399959867213227,\n",
       " 9.399959867213227,\n",
       " 9.399959867213227,\n",
       " 9.399959867213227,\n",
       " 9.399959867213227,\n",
       " 9.399959867213227,\n",
       " 9.399959867213227,\n",
       " 9.399959867213227,\n",
       " 9.399959867213227,\n",
       " 9.399959867213227,\n",
       " 9.399959867213227,\n",
       " 9.399959867213227,\n",
       " 9.399959867213227,\n",
       " 9.399959867213227,\n",
       " 9.399959867213227,\n",
       " 9.399959867213227,\n",
       " 9.399959867213227,\n",
       " 9.399959867213227,\n",
       " 9.399959867213227,\n",
       " 9.399959867213227,\n",
       " 9.399959867213227,\n",
       " 9.399959867213227,\n",
       " 9.399959867213227,\n",
       " 9.399959867213227,\n",
       " 9.399959867213227,\n",
       " 9.399959867213227,\n",
       " 9.399959867213227,\n",
       " 9.399959867213227,\n",
       " 9.399959867213227,\n",
       " 9.399959867213227,\n",
       " 9.399959867213227,\n",
       " 9.399959867213227,\n",
       " 9.399959867213227,\n",
       " 9.399959867213227,\n",
       " 9.399959867213227,\n",
       " 9.399959867213227,\n",
       " 9.399959867213227,\n",
       " 9.399959867213227,\n",
       " 9.399959867213227,\n",
       " 9.399959867213227,\n",
       " 9.399959867213227,\n",
       " 9.399959867213227,\n",
       " 9.399959867213227,\n",
       " 9.399959867213227,\n",
       " 9.399959867213227,\n",
       " 9.399959867213227,\n",
       " 9.399959867213227,\n",
       " 9.399959867213227,\n",
       " 9.399959867213227,\n",
       " 9.399959867213227,\n",
       " 9.399959867213227,\n",
       " 9.399959867213227,\n",
       " 9.399959867213227,\n",
       " 9.399959867213227,\n",
       " 9.399959867213227,\n",
       " 9.399959867213227,\n",
       " 9.399959867213227,\n",
       " 9.399959867213227,\n",
       " 9.399959867213227,\n",
       " 9.399959867213227,\n",
       " 9.399959867213227,\n",
       " 9.399959867213227,\n",
       " 9.399959867213227,\n",
       " 9.399959867213227,\n",
       " 9.399959867213227,\n",
       " 9.399959867213227,\n",
       " 9.399959867213227,\n",
       " 9.399959867213227,\n",
       " 9.399959867213227,\n",
       " 9.399959867213227,\n",
       " 9.399959867213227,\n",
       " 9.399959867213227,\n",
       " 9.399959867213227,\n",
       " 9.399959867213227,\n",
       " 9.399959867213227,\n",
       " 9.399959867213227,\n",
       " 9.399959867213227,\n",
       " 9.399959867213227,\n",
       " 9.399959867213227,\n",
       " 9.399959867213227,\n",
       " 9.399959867213227,\n",
       " 9.399959867213227,\n",
       " 9.399959867213227,\n",
       " 9.399959867213227,\n",
       " 9.399959867213227,\n",
       " 9.399959867213227,\n",
       " 9.399959867213227,\n",
       " 9.399959867213227,\n",
       " 9.399959867213227,\n",
       " 9.399959867213227,\n",
       " 9.399959867213227,\n",
       " 9.399959867213227,\n",
       " 9.399959867213227,\n",
       " 9.399959867213227,\n",
       " 9.399959867213227,\n",
       " 9.399959867213227,\n",
       " 9.399959867213227,\n",
       " 9.399959867213227,\n",
       " 9.399959867213227,\n",
       " 9.399959867213227,\n",
       " 9.399959867213227,\n",
       " 9.399959867213227,\n",
       " 9.399959867213227,\n",
       " 9.399959867213227,\n",
       " 9.399959867213227,\n",
       " 9.399959867213227,\n",
       " 9.399959867213227,\n",
       " 9.399959867213227,\n",
       " 9.399959867213227,\n",
       " 9.399959867213227,\n",
       " 9.399959867213227,\n",
       " 9.399959867213227,\n",
       " 9.399959867213227,\n",
       " 9.399959867213227,\n",
       " 9.399959867213227,\n",
       " 9.399959867213227,\n",
       " 9.399959867213227,\n",
       " 9.399959867213227,\n",
       " 9.399959867213227,\n",
       " 9.399959867213227,\n",
       " 9.399959867213227,\n",
       " 9.399959867213227,\n",
       " 9.399959867213227,\n",
       " 9.399959867213227,\n",
       " 9.399959867213227,\n",
       " 9.399959867213227,\n",
       " 9.399959867213227,\n",
       " 9.399959867213227,\n",
       " 9.399959867213227,\n",
       " 9.399959867213227,\n",
       " 9.399959867213227,\n",
       " 9.399959867213227,\n",
       " 9.399959867213227,\n",
       " 9.399959867213227,\n",
       " 9.399959867213227,\n",
       " 9.399959867213227,\n",
       " 9.399959867213227,\n",
       " 9.399959867213227,\n",
       " 9.399959867213227,\n",
       " 9.399959867213227,\n",
       " 9.399959867213227,\n",
       " 9.399959867213227,\n",
       " 9.399959867213227,\n",
       " 9.399959867213227,\n",
       " 9.399959867213227,\n",
       " 9.399959867213227,\n",
       " 9.399959867213227,\n",
       " 9.399959867213227,\n",
       " 9.399959867213227,\n",
       " 9.399959867213227,\n",
       " 9.399959867213227,\n",
       " 9.399959867213227,\n",
       " 9.399959867213227,\n",
       " 9.399959867213227,\n",
       " 9.399959867213227,\n",
       " 9.399959867213227,\n",
       " 9.399959867213227,\n",
       " 9.399959867213227,\n",
       " 9.399959867213227,\n",
       " 9.399959867213227,\n",
       " 9.399959867213227,\n",
       " 9.399959867213227,\n",
       " 9.399959867213227,\n",
       " 9.399959867213227,\n",
       " 9.399959867213227,\n",
       " 9.399959867213227,\n",
       " 9.399959867213227,\n",
       " 9.399959867213227,\n",
       " 9.399959867213227,\n",
       " 9.399959867213227,\n",
       " 9.399959867213227,\n",
       " 9.399959867213227,\n",
       " 9.399959867213227,\n",
       " 9.399959867213227,\n",
       " 9.399959867213227,\n",
       " 9.399959867213227,\n",
       " 9.399959867213227,\n",
       " 9.399959867213227,\n",
       " 9.399959867213227,\n",
       " 9.399959867213227,\n",
       " 9.399959867213227,\n",
       " 9.399959867213227,\n",
       " 9.399959867213227,\n",
       " 9.399959867213227,\n",
       " 9.399959867213227,\n",
       " 9.399959867213227,\n",
       " 9.399959867213227,\n",
       " 9.399959867213227,\n",
       " 9.399959867213227,\n",
       " 9.399959867213227,\n",
       " 9.399959867213227,\n",
       " 9.399959867213227,\n",
       " 9.399959867213227,\n",
       " 9.399959867213227,\n",
       " 9.399959867213227,\n",
       " 9.399959867213227,\n",
       " 9.399959867213227,\n",
       " 9.399959867213227,\n",
       " 9.399959867213227,\n",
       " 9.399959867213227,\n",
       " 9.399959867213227,\n",
       " 9.399959867213227,\n",
       " 9.399959867213227,\n",
       " 9.399959867213227,\n",
       " 9.399959867213227,\n",
       " 9.399959867213227,\n",
       " 9.399959867213227,\n",
       " 9.399959867213227,\n",
       " 9.399959867213227,\n",
       " 9.399959867213227,\n",
       " 9.399959867213227,\n",
       " 9.399959867213227,\n",
       " 9.399959867213227,\n",
       " 9.399959867213227,\n",
       " 9.399959867213227,\n",
       " 9.399959867213227,\n",
       " 9.399959867213227,\n",
       " 9.399959867213227,\n",
       " 9.399959867213227,\n",
       " 9.399959867213227,\n",
       " 9.399959867213227,\n",
       " 9.399959867213227,\n",
       " 9.399959867213227,\n",
       " 9.399959867213227,\n",
       " 9.399959867213227,\n",
       " 9.399959867213227,\n",
       " 9.399959867213227,\n",
       " 9.399959867213227,\n",
       " 9.399959867213227,\n",
       " 9.399959867213227,\n",
       " 9.399959867213227,\n",
       " 9.399959867213227,\n",
       " 9.399959867213227,\n",
       " 9.399959867213227,\n",
       " 9.399959867213227,\n",
       " 9.399959867213227,\n",
       " 9.399959867213227,\n",
       " 9.399959867213227,\n",
       " 9.399959867213227,\n",
       " 9.399959867213227,\n",
       " 9.399959867213227,\n",
       " 9.399959867213227,\n",
       " 9.399959867213227,\n",
       " 9.399959867213227,\n",
       " 9.399959867213227,\n",
       " 9.399959867213227,\n",
       " 9.399959867213227,\n",
       " 9.399959867213227,\n",
       " 9.399959867213227,\n",
       " 9.399959867213227,\n",
       " 9.399959867213227,\n",
       " 9.399959867213227,\n",
       " 9.399959867213227,\n",
       " 9.399959867213227,\n",
       " 9.399959867213227,\n",
       " 9.399959867213227,\n",
       " 9.399959867213227,\n",
       " 9.399959867213227,\n",
       " 9.399959867213227,\n",
       " 9.399959867213227,\n",
       " 9.399959867213227,\n",
       " 9.399959867213227,\n",
       " 9.399959867213227,\n",
       " 9.399959867213227,\n",
       " 9.399959867213227,\n",
       " 9.399959867213227,\n",
       " 9.399959867213227,\n",
       " 9.399959867213227,\n",
       " 9.399959867213227,\n",
       " 9.399959867213227,\n",
       " 9.399959867213227,\n",
       " 9.399959867213227,\n",
       " 9.399959867213227,\n",
       " 9.399959867213227,\n",
       " 9.399959867213227,\n",
       " 9.399959867213227,\n",
       " 9.399959867213227,\n",
       " 9.399959867213227,\n",
       " 9.399959867213227,\n",
       " 9.399959867213227,\n",
       " 9.399959867213227,\n",
       " 9.399959867213227,\n",
       " 9.399959867213227,\n",
       " 9.399959867213227,\n",
       " 9.399959867213227,\n",
       " 9.399959867213227,\n",
       " 9.399959867213227,\n",
       " 9.399959867213227,\n",
       " 9.399959867213227,\n",
       " 9.399959867213227,\n",
       " 9.399959867213227,\n",
       " 9.399959867213227,\n",
       " 9.399959867213227,\n",
       " 9.399959867213227,\n",
       " 9.399959867213227,\n",
       " 9.399959867213227,\n",
       " 9.399959867213227,\n",
       " 9.399959867213227,\n",
       " 9.399959867213227,\n",
       " 9.399959867213227,\n",
       " 9.399959867213227,\n",
       " 9.399959867213227,\n",
       " 9.399959867213227,\n",
       " 9.399959867213227,\n",
       " 9.399959867213227,\n",
       " 9.399959867213227,\n",
       " 9.399959867213227,\n",
       " 9.399959867213227,\n",
       " 9.399959867213227,\n",
       " 9.399959867213227,\n",
       " 9.399959867213227,\n",
       " 9.399959867213227,\n",
       " 9.399959867213227,\n",
       " 9.399959867213227,\n",
       " 9.399959867213227,\n",
       " 9.399959867213227,\n",
       " 9.399959867213227,\n",
       " 9.399959867213227,\n",
       " 9.399959867213227,\n",
       " 9.399959867213227,\n",
       " 9.399959867213227,\n",
       " 9.399959867213227,\n",
       " 9.399959867213227,\n",
       " 9.399959867213227,\n",
       " 9.399959867213227,\n",
       " 9.399959867213227,\n",
       " 9.399959867213227,\n",
       " 9.399959867213227,\n",
       " 9.399959867213227,\n",
       " 9.399959867213227,\n",
       " 9.399959867213227,\n",
       " 9.399959867213227,\n",
       " 9.399959867213227,\n",
       " 9.399959867213227,\n",
       " 9.399959867213227,\n",
       " 9.399959867213227,\n",
       " 9.399959867213227,\n",
       " 9.399959867213227,\n",
       " 9.399959867213227,\n",
       " 9.399959867213227,\n",
       " 9.399959867213227,\n",
       " 9.399959867213227,\n",
       " 9.399959867213227,\n",
       " 9.399959867213227,\n",
       " 9.399959867213227,\n",
       " 9.399959867213227,\n",
       " 9.399959867213227,\n",
       " 9.399959867213227,\n",
       " 9.399959867213227,\n",
       " 9.399959867213227,\n",
       " 9.399959867213227,\n",
       " 9.399959867213227,\n",
       " ...]"
      ]
     },
     "execution_count": 22,
     "metadata": {},
     "output_type": "execute_result"
    }
   ],
   "source": [
    "[x.fitness for x in data]"
   ]
  },
  {
   "cell_type": "code",
   "execution_count": null,
   "metadata": {},
   "outputs": [],
   "source": []
  }
 ],
 "metadata": {
  "kernelspec": {
   "display_name": "deepLearningKernel",
   "language": "python",
   "name": "deeplearningkernel"
  },
  "language_info": {
   "codemirror_mode": {
    "name": "ipython",
    "version": 3
   },
   "file_extension": ".py",
   "mimetype": "text/x-python",
   "name": "python",
   "nbconvert_exporter": "python",
   "pygments_lexer": "ipython3",
   "version": "3.6.3"
  }
 },
 "nbformat": 4,
 "nbformat_minor": 2
}
