{
 "cells": [
  {
   "cell_type": "code",
   "execution_count": 2,
   "metadata": {},
   "outputs": [],
   "source": [
    "import numpy as np"
   ]
  },
  {
   "cell_type": "code",
   "execution_count": 1,
   "metadata": {},
   "outputs": [],
   "source": [
    "def f(A, B, n_iterations):\n",
    "    R = replay(n_iterations)\n",
    "    a = A.decision()\n",
    "    b = B.decision()\n",
    "    B.save(b, a, PM(a, b))"
   ]
  },
  {
   "cell_type": "code",
   "execution_count": 2,
   "metadata": {},
   "outputs": [],
   "source": [
    "def game(a, b):\n",
    "    if a.decision() == 'I' and b.decision() == 'I':\n",
    "        a.reward = 2\n",
    "        b.reward = 2\n",
    "    elif a.decision() == 'I' and b.decision() == 'C':\n",
    "        a.reward = 1\n",
    "        b.reward = 7\n",
    "    elif a.decision() == 'C' and b.decision() == 'I':\n",
    "        a.reward = 7\n",
    "        b.reward = 1\n",
    "    else:\n",
    "        a.reward = 4\n",
    "        b.reward = 4"
   ]
  },
  {
   "cell_type": "code",
   "execution_count": null,
   "metadata": {},
   "outputs": [],
   "source": [
    "def GA_iter(T):\n",
    "    P = [np.random.]"
   ]
  },
  {
   "cell_type": "code",
   "execution_count": 17,
   "metadata": {},
   "outputs": [],
   "source": [
    "def hb(t):\n",
    "    cnt = 0\n",
    "    while t != 0:\n",
    "        t >>= 1\n",
    "        cnt += 1\n",
    "    return 2 ** (cnt - 1)"
   ]
  },
  {
   "cell_type": "code",
   "execution_count": 14,
   "metadata": {},
   "outputs": [],
   "source": [
    "class Automata():\n",
    "    def __init__(self):\n",
    "        self.states = np.zeros(16)\n",
    "        self.TT = np.zeros((16,2))\n",
    "        self.curstate = 0\n",
    "        \n",
    "    def simulate(self, symbol):\n",
    "        self.curstate = self.TT[curstate, symbol]\n",
    "        \n",
    "    def decision(self):\n",
    "        return self.states[self.curstate]\n",
    "    \n",
    "    def codify(self):\n",
    "        code = np.zeros(80)\n",
    "        for i in range(len(self.states)):\n",
    "            code[i] = self.states[i]\n",
    "            \n",
    "        for i in range(len(self.states), len(code) - 1, 2):\n",
    "            code[i] = hb(self.TT[i/4, i%2])\n",
    "            code[i+1] = hb(self.TT[i/4, i%2])\n",
    "            \n",
    "        return code\n",
    "    \n",
    "    #def decodify(self):\n",
    "        "
   ]
  },
  {
   "cell_type": "code",
   "execution_count": null,
   "metadata": {},
   "outputs": [],
   "source": []
  }
 ],
 "metadata": {
  "kernelspec": {
   "display_name": "Python 3",
   "language": "python",
   "name": "python3"
  },
  "language_info": {
   "codemirror_mode": {
    "name": "ipython",
    "version": 2
   },
   "file_extension": ".py",
   "mimetype": "text/x-python",
   "name": "python",
   "nbconvert_exporter": "python",
   "pygments_lexer": "ipython2",
   "version": "2.7.14"
  }
 },
 "nbformat": 4,
 "nbformat_minor": 2
}
